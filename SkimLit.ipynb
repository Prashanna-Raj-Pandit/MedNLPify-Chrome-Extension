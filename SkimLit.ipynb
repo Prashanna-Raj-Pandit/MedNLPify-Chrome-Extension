{
  "nbformat": 4,
  "nbformat_minor": 0,
  "metadata": {
    "colab": {
      "provenance": [],
      "gpuType": "T4",
      "toc_visible": true,
      "authorship_tag": "ABX9TyOqgsieyj38VcFjnWsKMkdv",
      "include_colab_link": true
    },
    "kernelspec": {
      "name": "python3",
      "display_name": "Python 3"
    },
    "language_info": {
      "name": "python"
    },
    "accelerator": "GPU"
  },
  "cells": [
    {
      "cell_type": "markdown",
      "metadata": {
        "id": "view-in-github",
        "colab_type": "text"
      },
      "source": [
        "<a href=\"https://colab.research.google.com/github/Prashanna-Raj-Pandit/SkimLit-Chrome-Extension/blob/main/SkimLit.ipynb\" target=\"_parent\"><img src=\"https://colab.research.google.com/assets/colab-badge.svg\" alt=\"Open In Colab\"/></a>"
      ]
    },
    {
      "cell_type": "markdown",
      "source": [
        "# Project Skimlit\n",
        "The propose of this project is to built an NLP model to make reading medical abstract easier.\n",
        "\n",
        "The paper we are replicating (the source of dataset that we'll be using) is available here: https://arxiv.org/pdf/1710.06071\n"
      ],
      "metadata": {
        "id": "u33WPGjusDBM"
      }
    },
    {
      "cell_type": "code",
      "source": [
        "!nvidia-smi -L\n"
      ],
      "metadata": {
        "colab": {
          "base_uri": "https://localhost:8080/"
        },
        "id": "bLzOrmHLtSSE",
        "outputId": "3cb1d9a8-a251-48b1-fe8f-11fd970e86d1"
      },
      "execution_count": 11,
      "outputs": [
        {
          "output_type": "stream",
          "name": "stdout",
          "text": [
            "/bin/bash: line 1: nvidia-smi: command not found\n"
          ]
        }
      ]
    },
    {
      "cell_type": "markdown",
      "source": [
        "## Get the data\n",
        "PubMed 200k RCT:\n",
        "a Dataset for Sequential Sentence Classification in Medical Abstracts https://github.com/Franck-Dernoncourt/pubmed-rct"
      ],
      "metadata": {
        "id": "ASWsGkHftxGe"
      }
    },
    {
      "cell_type": "code",
      "source": [
        "!git clone https://github.com/Franck-Dernoncourt/pubmed-rct.git\n",
        "!ls pubmed-rct"
      ],
      "metadata": {
        "colab": {
          "base_uri": "https://localhost:8080/"
        },
        "id": "cWnmfOI0t4Pn",
        "outputId": "450dd296-4c54-42fb-8e43-ddc635f4399f"
      },
      "execution_count": 12,
      "outputs": [
        {
          "output_type": "stream",
          "name": "stdout",
          "text": [
            "fatal: destination path 'pubmed-rct' already exists and is not an empty directory.\n",
            "PubMed_200k_RCT\n",
            "PubMed_200k_RCT_numbers_replaced_with_at_sign\n",
            "PubMed_20k_RCT\n",
            "PubMed_20k_RCT_numbers_replaced_with_at_sign\n",
            "README.md\n"
          ]
        }
      ]
    },
    {
      "cell_type": "code",
      "source": [
        "!ls pubmed-rct/PubMed_20k_RCT_numbers_replaced_with_at_sign/"
      ],
      "metadata": {
        "colab": {
          "base_uri": "https://localhost:8080/"
        },
        "id": "k1EdyKrxvr8c",
        "outputId": "9d0a482f-1e64-4a6c-8956-b55bf72af525"
      },
      "execution_count": 13,
      "outputs": [
        {
          "output_type": "stream",
          "name": "stdout",
          "text": [
            "dev.txt  test.txt  train.txt\n"
          ]
        }
      ]
    },
    {
      "cell_type": "code",
      "source": [
        "data_dir=\"/content/pubmed-rct/PubMed_20k_RCT_numbers_replaced_with_at_sign/\"\n",
        "import os\n",
        "filename=[data_dir+filename for filename in os.listdir(data_dir)]\n",
        "filename"
      ],
      "metadata": {
        "colab": {
          "base_uri": "https://localhost:8080/"
        },
        "id": "y77PgTxtt0qo",
        "outputId": "2c2dcc6f-2939-4c89-bb5e-0aeb093e7486"
      },
      "execution_count": 14,
      "outputs": [
        {
          "output_type": "execute_result",
          "data": {
            "text/plain": [
              "['/content/pubmed-rct/PubMed_20k_RCT_numbers_replaced_with_at_sign/train.txt',\n",
              " '/content/pubmed-rct/PubMed_20k_RCT_numbers_replaced_with_at_sign/test.txt',\n",
              " '/content/pubmed-rct/PubMed_20k_RCT_numbers_replaced_with_at_sign/dev.txt']"
            ]
          },
          "metadata": {},
          "execution_count": 14
        }
      ]
    },
    {
      "cell_type": "code",
      "source": [
        "# Preprocess data\n",
        "def get_lines(filename):\n",
        "  with open(filename) as file:\n",
        "    return file.readlines()"
      ],
      "metadata": {
        "id": "JrwbsO5ixMrS"
      },
      "execution_count": 15,
      "outputs": []
    },
    {
      "cell_type": "code",
      "source": [
        "train_lines=get_lines(filename[0])\n",
        "train_lines[:30]"
      ],
      "metadata": {
        "colab": {
          "base_uri": "https://localhost:8080/"
        },
        "id": "fQ54OMl16Lmn",
        "outputId": "dbd22bfb-55c0-48b7-aebd-b378aa539e7e"
      },
      "execution_count": 16,
      "outputs": [
        {
          "output_type": "execute_result",
          "data": {
            "text/plain": [
              "['###24293578\\n',\n",
              " 'OBJECTIVE\\tTo investigate the efficacy of @ weeks of daily low-dose oral prednisolone in improving pain , mobility , and systemic low-grade inflammation in the short term and whether the effect would be sustained at @ weeks in older adults with moderate to severe knee osteoarthritis ( OA ) .\\n',\n",
              " 'METHODS\\tA total of @ patients with primary knee OA were randomized @:@ ; @ received @ mg/day of prednisolone and @ received placebo for @ weeks .\\n',\n",
              " 'METHODS\\tOutcome measures included pain reduction and improvement in function scores and systemic inflammation markers .\\n',\n",
              " 'METHODS\\tPain was assessed using the visual analog pain scale ( @-@ mm ) .\\n',\n",
              " 'METHODS\\tSecondary outcome measures included the Western Ontario and McMaster Universities Osteoarthritis Index scores , patient global assessment ( PGA ) of the severity of knee OA , and @-min walk distance ( @MWD ) .\\n',\n",
              " 'METHODS\\tSerum levels of interleukin @ ( IL-@ ) , IL-@ , tumor necrosis factor ( TNF ) - , and high-sensitivity C-reactive protein ( hsCRP ) were measured .\\n',\n",
              " 'RESULTS\\tThere was a clinically relevant reduction in the intervention group compared to the placebo group for knee pain , physical function , PGA , and @MWD at @ weeks .\\n',\n",
              " 'RESULTS\\tThe mean difference between treatment arms ( @ % CI ) was @ ( @-@ @ ) , p < @ ; @ ( @-@ @ ) , p < @ ; @ ( @-@ @ ) , p < @ ; and @ ( @-@ @ ) , p < @ , respectively .\\n',\n",
              " 'RESULTS\\tFurther , there was a clinically relevant reduction in the serum levels of IL-@ , IL-@ , TNF - , and hsCRP at @ weeks in the intervention group when compared to the placebo group .\\n',\n",
              " 'RESULTS\\tThese differences remained significant at @ weeks .\\n',\n",
              " 'RESULTS\\tThe Outcome Measures in Rheumatology Clinical Trials-Osteoarthritis Research Society International responder rate was @ % in the intervention group and @ % in the placebo group ( p < @ ) .\\n',\n",
              " 'CONCLUSIONS\\tLow-dose oral prednisolone had both a short-term and a longer sustained effect resulting in less knee pain , better physical function , and attenuation of systemic inflammation in older patients with knee OA ( ClinicalTrials.gov identifier NCT@ ) .\\n',\n",
              " '\\n',\n",
              " '###24854809\\n',\n",
              " 'BACKGROUND\\tEmotional eating is associated with overeating and the development of obesity .\\n',\n",
              " 'BACKGROUND\\tYet , empirical evidence for individual ( trait ) differences in emotional eating and cognitive mechanisms that contribute to eating during sad mood remain equivocal .\\n',\n",
              " 'OBJECTIVE\\tThe aim of this study was to test if attention bias for food moderates the effect of self-reported emotional eating during sad mood ( vs neutral mood ) on actual food intake .\\n',\n",
              " 'OBJECTIVE\\tIt was expected that emotional eating is predictive of elevated attention for food and higher food intake after an experimentally induced sad mood and that attentional maintenance on food predicts food intake during a sad versus a neutral mood .\\n',\n",
              " 'METHODS\\tParticipants ( N = @ ) were randomly assigned to one of the two experimental mood induction conditions ( sad/neutral ) .\\n',\n",
              " 'METHODS\\tAttentional biases for high caloric foods were measured by eye tracking during a visual probe task with pictorial food and neutral stimuli .\\n',\n",
              " 'METHODS\\tSelf-reported emotional eating was assessed with the Dutch Eating Behavior Questionnaire ( DEBQ ) and ad libitum food intake was tested by a disguised food offer .\\n',\n",
              " 'RESULTS\\tHierarchical multivariate regression modeling showed that self-reported emotional eating did not account for changes in attention allocation for food or food intake in either condition .\\n',\n",
              " 'RESULTS\\tYet , attention maintenance on food cues was significantly related to increased intake specifically in the neutral condition , but not in the sad mood condition .\\n',\n",
              " 'CONCLUSIONS\\tThe current findings show that self-reported emotional eating ( based on the DEBQ ) might not validly predict who overeats when sad , at least not in a laboratory setting with healthy women .\\n',\n",
              " 'CONCLUSIONS\\tResults further suggest that attention maintenance on food relates to eating motivation when in a neutral affective state , and might therefore be a cognitive mechanism contributing to increased food intake in general , but maybe not during sad mood .\\n',\n",
              " '\\n',\n",
              " '###25165090\\n',\n",
              " 'BACKGROUND\\tAlthough working smoke alarms halve deaths in residential fires , many households do not keep alarms operational .\\n',\n",
              " 'BACKGROUND\\tWe tested whether theory-based education increases alarm operability .\\n']"
            ]
          },
          "metadata": {},
          "execution_count": 16
        }
      ]
    },
    {
      "cell_type": "code",
      "source": [
        "def preprocess_text_with_line_numbers(filename):\n",
        "  input_lines=get_lines(filename)\n",
        "  abstract_line=\"\"\n",
        "  abstract_samples=[]\n",
        "\n",
        "  for line in input_lines:\n",
        "    if line.startswith('###'):\n",
        "      abstract_id=line\n",
        "      abstract_line=\"\"\n",
        "\n",
        "    elif line.isspace():\n",
        "      abstract_line_split=abstract_line.splitlines()\n",
        "      for abstract_line_number,abstract_line in enumerate(abstract_line_split):\n",
        "        line_data={}\n",
        "        target_text_split=abstract_line.split(\"\\t\")\n",
        "        line_data[\"target\"]=target_text_split[0]\n",
        "        line_data[\"text\"]=target_text_split[1].lower()\n",
        "        line_data[\"line_number\"]=abstract_line_number\n",
        "        line_data[\"total_lines\"]=len(abstract_line_split)-1\n",
        "        abstract_samples.append(line_data)\n",
        "    else:\n",
        "      abstract_line+=line\n",
        "  return abstract_samples"
      ],
      "metadata": {
        "collapsed": true,
        "id": "_Hn5bjUa6t3T"
      },
      "execution_count": 17,
      "outputs": []
    },
    {
      "cell_type": "code",
      "source": [
        "train_samples = preprocess_text_with_line_numbers(data_dir + \"train.txt\")\n",
        "val_samples = preprocess_text_with_line_numbers(data_dir + \"dev.txt\") # dev is another name for validation set\n",
        "test_samples = preprocess_text_with_line_numbers(data_dir + \"test.txt\")\n",
        "len(train_samples), len(val_samples), len(test_samples)"
      ],
      "metadata": {
        "colab": {
          "base_uri": "https://localhost:8080/"
        },
        "id": "YV9mkUQrAIVC",
        "outputId": "992dd6e9-1d61-47d6-931c-f3aab4195579"
      },
      "execution_count": 18,
      "outputs": [
        {
          "output_type": "execute_result",
          "data": {
            "text/plain": [
              "(180040, 30212, 30135)"
            ]
          },
          "metadata": {},
          "execution_count": 18
        }
      ]
    },
    {
      "cell_type": "code",
      "source": [
        "train_samples[:10]"
      ],
      "metadata": {
        "colab": {
          "base_uri": "https://localhost:8080/"
        },
        "id": "3kYP-eq0mu4a",
        "outputId": "d86f080c-1ecd-4bbc-abd2-a31512984df7"
      },
      "execution_count": 19,
      "outputs": [
        {
          "output_type": "execute_result",
          "data": {
            "text/plain": [
              "[{'target': 'OBJECTIVE',\n",
              "  'text': 'to investigate the efficacy of @ weeks of daily low-dose oral prednisolone in improving pain , mobility , and systemic low-grade inflammation in the short term and whether the effect would be sustained at @ weeks in older adults with moderate to severe knee osteoarthritis ( oa ) .',\n",
              "  'line_number': 0,\n",
              "  'total_lines': 11},\n",
              " {'target': 'METHODS',\n",
              "  'text': 'a total of @ patients with primary knee oa were randomized @:@ ; @ received @ mg/day of prednisolone and @ received placebo for @ weeks .',\n",
              "  'line_number': 1,\n",
              "  'total_lines': 11},\n",
              " {'target': 'METHODS',\n",
              "  'text': 'outcome measures included pain reduction and improvement in function scores and systemic inflammation markers .',\n",
              "  'line_number': 2,\n",
              "  'total_lines': 11},\n",
              " {'target': 'METHODS',\n",
              "  'text': 'pain was assessed using the visual analog pain scale ( @-@ mm ) .',\n",
              "  'line_number': 3,\n",
              "  'total_lines': 11},\n",
              " {'target': 'METHODS',\n",
              "  'text': 'secondary outcome measures included the western ontario and mcmaster universities osteoarthritis index scores , patient global assessment ( pga ) of the severity of knee oa , and @-min walk distance ( @mwd ) .',\n",
              "  'line_number': 4,\n",
              "  'total_lines': 11},\n",
              " {'target': 'METHODS',\n",
              "  'text': 'serum levels of interleukin @ ( il-@ ) , il-@ , tumor necrosis factor ( tnf ) - , and high-sensitivity c-reactive protein ( hscrp ) were measured .',\n",
              "  'line_number': 5,\n",
              "  'total_lines': 11},\n",
              " {'target': 'RESULTS',\n",
              "  'text': 'there was a clinically relevant reduction in the intervention group compared to the placebo group for knee pain , physical function , pga , and @mwd at @ weeks .',\n",
              "  'line_number': 6,\n",
              "  'total_lines': 11},\n",
              " {'target': 'RESULTS',\n",
              "  'text': 'the mean difference between treatment arms ( @ % ci ) was @ ( @-@ @ ) , p < @ ; @ ( @-@ @ ) , p < @ ; @ ( @-@ @ ) , p < @ ; and @ ( @-@ @ ) , p < @ , respectively .',\n",
              "  'line_number': 7,\n",
              "  'total_lines': 11},\n",
              " {'target': 'RESULTS',\n",
              "  'text': 'further , there was a clinically relevant reduction in the serum levels of il-@ , il-@ , tnf - , and hscrp at @ weeks in the intervention group when compared to the placebo group .',\n",
              "  'line_number': 8,\n",
              "  'total_lines': 11},\n",
              " {'target': 'RESULTS',\n",
              "  'text': 'these differences remained significant at @ weeks .',\n",
              "  'line_number': 9,\n",
              "  'total_lines': 11}]"
            ]
          },
          "metadata": {},
          "execution_count": 19
        }
      ]
    },
    {
      "cell_type": "code",
      "source": [
        "import pandas as pd\n",
        "train_df=pd.DataFrame(train_samples)\n",
        "test_df=pd.DataFrame(test_samples)\n",
        "val_df=pd.DataFrame(val_samples)\n",
        "train_df.head()"
      ],
      "metadata": {
        "colab": {
          "base_uri": "https://localhost:8080/",
          "height": 206
        },
        "id": "P18E3AfWnqPd",
        "outputId": "51214564-31f3-4608-aab8-adaf5cef0582"
      },
      "execution_count": 20,
      "outputs": [
        {
          "output_type": "execute_result",
          "data": {
            "text/plain": [
              "      target                                               text  line_number  \\\n",
              "0  OBJECTIVE  to investigate the efficacy of @ weeks of dail...            0   \n",
              "1    METHODS  a total of @ patients with primary knee oa wer...            1   \n",
              "2    METHODS  outcome measures included pain reduction and i...            2   \n",
              "3    METHODS  pain was assessed using the visual analog pain...            3   \n",
              "4    METHODS  secondary outcome measures included the wester...            4   \n",
              "\n",
              "   total_lines  \n",
              "0           11  \n",
              "1           11  \n",
              "2           11  \n",
              "3           11  \n",
              "4           11  "
            ],
            "text/html": [
              "\n",
              "  <div id=\"df-ed9f2a14-ed11-4ce2-9cd4-b80da40859b1\" class=\"colab-df-container\">\n",
              "    <div>\n",
              "<style scoped>\n",
              "    .dataframe tbody tr th:only-of-type {\n",
              "        vertical-align: middle;\n",
              "    }\n",
              "\n",
              "    .dataframe tbody tr th {\n",
              "        vertical-align: top;\n",
              "    }\n",
              "\n",
              "    .dataframe thead th {\n",
              "        text-align: right;\n",
              "    }\n",
              "</style>\n",
              "<table border=\"1\" class=\"dataframe\">\n",
              "  <thead>\n",
              "    <tr style=\"text-align: right;\">\n",
              "      <th></th>\n",
              "      <th>target</th>\n",
              "      <th>text</th>\n",
              "      <th>line_number</th>\n",
              "      <th>total_lines</th>\n",
              "    </tr>\n",
              "  </thead>\n",
              "  <tbody>\n",
              "    <tr>\n",
              "      <th>0</th>\n",
              "      <td>OBJECTIVE</td>\n",
              "      <td>to investigate the efficacy of @ weeks of dail...</td>\n",
              "      <td>0</td>\n",
              "      <td>11</td>\n",
              "    </tr>\n",
              "    <tr>\n",
              "      <th>1</th>\n",
              "      <td>METHODS</td>\n",
              "      <td>a total of @ patients with primary knee oa wer...</td>\n",
              "      <td>1</td>\n",
              "      <td>11</td>\n",
              "    </tr>\n",
              "    <tr>\n",
              "      <th>2</th>\n",
              "      <td>METHODS</td>\n",
              "      <td>outcome measures included pain reduction and i...</td>\n",
              "      <td>2</td>\n",
              "      <td>11</td>\n",
              "    </tr>\n",
              "    <tr>\n",
              "      <th>3</th>\n",
              "      <td>METHODS</td>\n",
              "      <td>pain was assessed using the visual analog pain...</td>\n",
              "      <td>3</td>\n",
              "      <td>11</td>\n",
              "    </tr>\n",
              "    <tr>\n",
              "      <th>4</th>\n",
              "      <td>METHODS</td>\n",
              "      <td>secondary outcome measures included the wester...</td>\n",
              "      <td>4</td>\n",
              "      <td>11</td>\n",
              "    </tr>\n",
              "  </tbody>\n",
              "</table>\n",
              "</div>\n",
              "    <div class=\"colab-df-buttons\">\n",
              "\n",
              "  <div class=\"colab-df-container\">\n",
              "    <button class=\"colab-df-convert\" onclick=\"convertToInteractive('df-ed9f2a14-ed11-4ce2-9cd4-b80da40859b1')\"\n",
              "            title=\"Convert this dataframe to an interactive table.\"\n",
              "            style=\"display:none;\">\n",
              "\n",
              "  <svg xmlns=\"http://www.w3.org/2000/svg\" height=\"24px\" viewBox=\"0 -960 960 960\">\n",
              "    <path d=\"M120-120v-720h720v720H120Zm60-500h600v-160H180v160Zm220 220h160v-160H400v160Zm0 220h160v-160H400v160ZM180-400h160v-160H180v160Zm440 0h160v-160H620v160ZM180-180h160v-160H180v160Zm440 0h160v-160H620v160Z\"/>\n",
              "  </svg>\n",
              "    </button>\n",
              "\n",
              "  <style>\n",
              "    .colab-df-container {\n",
              "      display:flex;\n",
              "      gap: 12px;\n",
              "    }\n",
              "\n",
              "    .colab-df-convert {\n",
              "      background-color: #E8F0FE;\n",
              "      border: none;\n",
              "      border-radius: 50%;\n",
              "      cursor: pointer;\n",
              "      display: none;\n",
              "      fill: #1967D2;\n",
              "      height: 32px;\n",
              "      padding: 0 0 0 0;\n",
              "      width: 32px;\n",
              "    }\n",
              "\n",
              "    .colab-df-convert:hover {\n",
              "      background-color: #E2EBFA;\n",
              "      box-shadow: 0px 1px 2px rgba(60, 64, 67, 0.3), 0px 1px 3px 1px rgba(60, 64, 67, 0.15);\n",
              "      fill: #174EA6;\n",
              "    }\n",
              "\n",
              "    .colab-df-buttons div {\n",
              "      margin-bottom: 4px;\n",
              "    }\n",
              "\n",
              "    [theme=dark] .colab-df-convert {\n",
              "      background-color: #3B4455;\n",
              "      fill: #D2E3FC;\n",
              "    }\n",
              "\n",
              "    [theme=dark] .colab-df-convert:hover {\n",
              "      background-color: #434B5C;\n",
              "      box-shadow: 0px 1px 3px 1px rgba(0, 0, 0, 0.15);\n",
              "      filter: drop-shadow(0px 1px 2px rgba(0, 0, 0, 0.3));\n",
              "      fill: #FFFFFF;\n",
              "    }\n",
              "  </style>\n",
              "\n",
              "    <script>\n",
              "      const buttonEl =\n",
              "        document.querySelector('#df-ed9f2a14-ed11-4ce2-9cd4-b80da40859b1 button.colab-df-convert');\n",
              "      buttonEl.style.display =\n",
              "        google.colab.kernel.accessAllowed ? 'block' : 'none';\n",
              "\n",
              "      async function convertToInteractive(key) {\n",
              "        const element = document.querySelector('#df-ed9f2a14-ed11-4ce2-9cd4-b80da40859b1');\n",
              "        const dataTable =\n",
              "          await google.colab.kernel.invokeFunction('convertToInteractive',\n",
              "                                                    [key], {});\n",
              "        if (!dataTable) return;\n",
              "\n",
              "        const docLinkHtml = 'Like what you see? Visit the ' +\n",
              "          '<a target=\"_blank\" href=https://colab.research.google.com/notebooks/data_table.ipynb>data table notebook</a>'\n",
              "          + ' to learn more about interactive tables.';\n",
              "        element.innerHTML = '';\n",
              "        dataTable['output_type'] = 'display_data';\n",
              "        await google.colab.output.renderOutput(dataTable, element);\n",
              "        const docLink = document.createElement('div');\n",
              "        docLink.innerHTML = docLinkHtml;\n",
              "        element.appendChild(docLink);\n",
              "      }\n",
              "    </script>\n",
              "  </div>\n",
              "\n",
              "\n",
              "    <div id=\"df-9c575beb-7a9b-45a9-b5e0-b72d42a8e42d\">\n",
              "      <button class=\"colab-df-quickchart\" onclick=\"quickchart('df-9c575beb-7a9b-45a9-b5e0-b72d42a8e42d')\"\n",
              "                title=\"Suggest charts\"\n",
              "                style=\"display:none;\">\n",
              "\n",
              "<svg xmlns=\"http://www.w3.org/2000/svg\" height=\"24px\"viewBox=\"0 0 24 24\"\n",
              "     width=\"24px\">\n",
              "    <g>\n",
              "        <path d=\"M19 3H5c-1.1 0-2 .9-2 2v14c0 1.1.9 2 2 2h14c1.1 0 2-.9 2-2V5c0-1.1-.9-2-2-2zM9 17H7v-7h2v7zm4 0h-2V7h2v10zm4 0h-2v-4h2v4z\"/>\n",
              "    </g>\n",
              "</svg>\n",
              "      </button>\n",
              "\n",
              "<style>\n",
              "  .colab-df-quickchart {\n",
              "      --bg-color: #E8F0FE;\n",
              "      --fill-color: #1967D2;\n",
              "      --hover-bg-color: #E2EBFA;\n",
              "      --hover-fill-color: #174EA6;\n",
              "      --disabled-fill-color: #AAA;\n",
              "      --disabled-bg-color: #DDD;\n",
              "  }\n",
              "\n",
              "  [theme=dark] .colab-df-quickchart {\n",
              "      --bg-color: #3B4455;\n",
              "      --fill-color: #D2E3FC;\n",
              "      --hover-bg-color: #434B5C;\n",
              "      --hover-fill-color: #FFFFFF;\n",
              "      --disabled-bg-color: #3B4455;\n",
              "      --disabled-fill-color: #666;\n",
              "  }\n",
              "\n",
              "  .colab-df-quickchart {\n",
              "    background-color: var(--bg-color);\n",
              "    border: none;\n",
              "    border-radius: 50%;\n",
              "    cursor: pointer;\n",
              "    display: none;\n",
              "    fill: var(--fill-color);\n",
              "    height: 32px;\n",
              "    padding: 0;\n",
              "    width: 32px;\n",
              "  }\n",
              "\n",
              "  .colab-df-quickchart:hover {\n",
              "    background-color: var(--hover-bg-color);\n",
              "    box-shadow: 0 1px 2px rgba(60, 64, 67, 0.3), 0 1px 3px 1px rgba(60, 64, 67, 0.15);\n",
              "    fill: var(--button-hover-fill-color);\n",
              "  }\n",
              "\n",
              "  .colab-df-quickchart-complete:disabled,\n",
              "  .colab-df-quickchart-complete:disabled:hover {\n",
              "    background-color: var(--disabled-bg-color);\n",
              "    fill: var(--disabled-fill-color);\n",
              "    box-shadow: none;\n",
              "  }\n",
              "\n",
              "  .colab-df-spinner {\n",
              "    border: 2px solid var(--fill-color);\n",
              "    border-color: transparent;\n",
              "    border-bottom-color: var(--fill-color);\n",
              "    animation:\n",
              "      spin 1s steps(1) infinite;\n",
              "  }\n",
              "\n",
              "  @keyframes spin {\n",
              "    0% {\n",
              "      border-color: transparent;\n",
              "      border-bottom-color: var(--fill-color);\n",
              "      border-left-color: var(--fill-color);\n",
              "    }\n",
              "    20% {\n",
              "      border-color: transparent;\n",
              "      border-left-color: var(--fill-color);\n",
              "      border-top-color: var(--fill-color);\n",
              "    }\n",
              "    30% {\n",
              "      border-color: transparent;\n",
              "      border-left-color: var(--fill-color);\n",
              "      border-top-color: var(--fill-color);\n",
              "      border-right-color: var(--fill-color);\n",
              "    }\n",
              "    40% {\n",
              "      border-color: transparent;\n",
              "      border-right-color: var(--fill-color);\n",
              "      border-top-color: var(--fill-color);\n",
              "    }\n",
              "    60% {\n",
              "      border-color: transparent;\n",
              "      border-right-color: var(--fill-color);\n",
              "    }\n",
              "    80% {\n",
              "      border-color: transparent;\n",
              "      border-right-color: var(--fill-color);\n",
              "      border-bottom-color: var(--fill-color);\n",
              "    }\n",
              "    90% {\n",
              "      border-color: transparent;\n",
              "      border-bottom-color: var(--fill-color);\n",
              "    }\n",
              "  }\n",
              "</style>\n",
              "\n",
              "      <script>\n",
              "        async function quickchart(key) {\n",
              "          const quickchartButtonEl =\n",
              "            document.querySelector('#' + key + ' button');\n",
              "          quickchartButtonEl.disabled = true;  // To prevent multiple clicks.\n",
              "          quickchartButtonEl.classList.add('colab-df-spinner');\n",
              "          try {\n",
              "            const charts = await google.colab.kernel.invokeFunction(\n",
              "                'suggestCharts', [key], {});\n",
              "          } catch (error) {\n",
              "            console.error('Error during call to suggestCharts:', error);\n",
              "          }\n",
              "          quickchartButtonEl.classList.remove('colab-df-spinner');\n",
              "          quickchartButtonEl.classList.add('colab-df-quickchart-complete');\n",
              "        }\n",
              "        (() => {\n",
              "          let quickchartButtonEl =\n",
              "            document.querySelector('#df-9c575beb-7a9b-45a9-b5e0-b72d42a8e42d button');\n",
              "          quickchartButtonEl.style.display =\n",
              "            google.colab.kernel.accessAllowed ? 'block' : 'none';\n",
              "        })();\n",
              "      </script>\n",
              "    </div>\n",
              "\n",
              "    </div>\n",
              "  </div>\n"
            ],
            "application/vnd.google.colaboratory.intrinsic+json": {
              "type": "dataframe",
              "variable_name": "train_df"
            }
          },
          "metadata": {},
          "execution_count": 20
        }
      ]
    },
    {
      "cell_type": "markdown",
      "source": [
        "# Distribution of labels in the training data\n"
      ],
      "metadata": {
        "id": "xmk76CbZopGF"
      }
    },
    {
      "cell_type": "code",
      "source": [
        "train_df.target.value_counts()"
      ],
      "metadata": {
        "colab": {
          "base_uri": "https://localhost:8080/",
          "height": 272
        },
        "id": "uG5Bts9epXsC",
        "outputId": "9196f82b-9699-47e1-eaea-e1f71e8d7992"
      },
      "execution_count": 21,
      "outputs": [
        {
          "output_type": "execute_result",
          "data": {
            "text/plain": [
              "target\n",
              "METHODS        59353\n",
              "RESULTS        57953\n",
              "CONCLUSIONS    27168\n",
              "BACKGROUND     21727\n",
              "OBJECTIVE      13839\n",
              "Name: count, dtype: int64"
            ],
            "text/html": [
              "<div>\n",
              "<style scoped>\n",
              "    .dataframe tbody tr th:only-of-type {\n",
              "        vertical-align: middle;\n",
              "    }\n",
              "\n",
              "    .dataframe tbody tr th {\n",
              "        vertical-align: top;\n",
              "    }\n",
              "\n",
              "    .dataframe thead th {\n",
              "        text-align: right;\n",
              "    }\n",
              "</style>\n",
              "<table border=\"1\" class=\"dataframe\">\n",
              "  <thead>\n",
              "    <tr style=\"text-align: right;\">\n",
              "      <th></th>\n",
              "      <th>count</th>\n",
              "    </tr>\n",
              "    <tr>\n",
              "      <th>target</th>\n",
              "      <th></th>\n",
              "    </tr>\n",
              "  </thead>\n",
              "  <tbody>\n",
              "    <tr>\n",
              "      <th>METHODS</th>\n",
              "      <td>59353</td>\n",
              "    </tr>\n",
              "    <tr>\n",
              "      <th>RESULTS</th>\n",
              "      <td>57953</td>\n",
              "    </tr>\n",
              "    <tr>\n",
              "      <th>CONCLUSIONS</th>\n",
              "      <td>27168</td>\n",
              "    </tr>\n",
              "    <tr>\n",
              "      <th>BACKGROUND</th>\n",
              "      <td>21727</td>\n",
              "    </tr>\n",
              "    <tr>\n",
              "      <th>OBJECTIVE</th>\n",
              "      <td>13839</td>\n",
              "    </tr>\n",
              "  </tbody>\n",
              "</table>\n",
              "</div><br><label><b>dtype:</b> int64</label>"
            ]
          },
          "metadata": {},
          "execution_count": 21
        }
      ]
    },
    {
      "cell_type": "markdown",
      "source": [
        "It seems like the abstract talks mostly about Methods and Results and less about Objective"
      ],
      "metadata": {
        "id": "vVB6zyL0qA-u"
      }
    },
    {
      "cell_type": "code",
      "source": [
        "train_df.total_lines.plot.hist()"
      ],
      "metadata": {
        "colab": {
          "base_uri": "https://localhost:8080/",
          "height": 448
        },
        "id": "UTRXL-sopjbW",
        "outputId": "199fcdd3-ffe6-43f9-f9ac-a10621e255a2"
      },
      "execution_count": 22,
      "outputs": [
        {
          "output_type": "execute_result",
          "data": {
            "text/plain": [
              "<Axes: ylabel='Frequency'>"
            ]
          },
          "metadata": {},
          "execution_count": 22
        },
        {
          "output_type": "display_data",
          "data": {
            "text/plain": [
              "<Figure size 640x480 with 1 Axes>"
            ],
            "image/png": "[encoded data removed]"
          },
          "metadata": {}
        }
      ]
    },
    {
      "cell_type": "markdown",
      "source": [
        "From this Histogram, it seems like most of the abstract has the length of 7-18"
      ],
      "metadata": {
        "id": "BVDtbmk7qOfM"
      }
    },
    {
      "cell_type": "markdown",
      "source": [
        "# Converting the abstract lines into list"
      ],
      "metadata": {
        "id": "hUgTmHn6py_8"
      }
    },
    {
      "cell_type": "code",
      "source": [
        "train_sentences=train_df.text.to_list()\n",
        "test_sentences=test_df.text.to_list()\n",
        "validation_sentences=val_df.text.to_list()\n",
        "validation_sentences[:10]"
      ],
      "metadata": {
        "colab": {
          "base_uri": "https://localhost:8080/"
        },
        "id": "BoPQdEprrLi_",
        "outputId": "2d5df378-d447-4aa2-b478-74df4978ba7a"
      },
      "execution_count": 23,
      "outputs": [
        {
          "output_type": "execute_result",
          "data": {
            "text/plain": [
              "['ige sensitization to aspergillus fumigatus and a positive sputum fungal culture result are common in patients with refractory asthma .',\n",
              " 'it is not clear whether these patients would benefit from antifungal treatment .',\n",
              " 'we sought to determine whether a @-month course of voriconazole improved asthma-related outcomes in patients with asthma who are ige sensitized to a fumigatus .',\n",
              " 'asthmatic patients who were ige sensitized to a fumigatus with a history of at least @ severe exacerbations in the previous @ months were treated for @ months with @ mg of voriconazole twice daily , followed by observation for @ months , in a double-blind , placebo-controlled , randomized design .',\n",
              " 'primary outcomes were improvement in quality of life at the end of the treatment period and a reduction in the number of severe exacerbations over the @ months of the study .',\n",
              " 'sixty-five patients were randomized .',\n",
              " 'fifty-nine patients started treatment ( @ receiving voriconazole and @ receiving placebo ) and were included in an intention-to-treat analysis .',\n",
              " 'fifty-six patients took the full @ months of medication .',\n",
              " 'between the voriconazole and placebo groups , there were no significant differences in the number of severe exacerbations ( @ vs @ per patient per year , respectively ; mean difference , @ ; @ % ci , @-@ @ ) , quality of life ( change in asthma quality of life questionnaire score , @ vs @ ; mean difference between groups , @ ; @ % ci , -@ to -@ ) , or any of our secondary outcome measures .',\n",
              " 'we were unable to show a beneficial effect of @ months of treatment with voriconazole in patients with moderate-to-severe asthma who were ige sensitized to a fumigatus on either the rate of severe exacerbations , quality of life , or other markers of asthma control .']"
            ]
          },
          "metadata": {},
          "execution_count": 23
        }
      ]
    },
    {
      "cell_type": "markdown",
      "source": [
        "# Make numeric labels\n",
        "Lets make one-hot and label encoded labels. TF CategoricalCrossentropy loss function likes to have one hot encoded labels"
      ],
      "metadata": {
        "id": "t48fEay-rVnE"
      }
    },
    {
      "cell_type": "code",
      "source": [
        "# One hot encode labels\n",
        "from sklearn.preprocessing import OneHotEncoder\n",
        "one_hot_encoder=OneHotEncoder(sparse_output=False)\n",
        "train_labels_one_hot=one_hot_encoder.fit_transform(train_df.target.to_numpy().reshape(-1,1))\n",
        "test_labels_one_hot=one_hot_encoder.fit_transform(test_df.target.to_numpy().reshape(-1,1))\n",
        "validation_labels_one_hot=one_hot_encoder.fit_transform(val_df.target.to_numpy().reshape(-1,1))\n",
        "validation_labels_one_hot[:10],train_labels_one_hot[:10],test_labels_one_hot[:10]\n"
      ],
      "metadata": {
        "colab": {
          "base_uri": "https://localhost:8080/"
        },
        "id": "gg7ANdmqsHHb",
        "outputId": "346cf415-7ab8-454f-e249-c7074d69f727"
      },
      "execution_count": 24,
      "outputs": [
        {
          "output_type": "execute_result",
          "data": {
            "text/plain": [
              "(array([[1., 0., 0., 0., 0.],\n",
              "        [1., 0., 0., 0., 0.],\n",
              "        [0., 0., 0., 1., 0.],\n",
              "        [0., 0., 1., 0., 0.],\n",
              "        [0., 0., 1., 0., 0.],\n",
              "        [0., 0., 0., 0., 1.],\n",
              "        [0., 0., 0., 0., 1.],\n",
              "        [0., 0., 0., 0., 1.],\n",
              "        [0., 0., 0., 0., 1.],\n",
              "        [0., 1., 0., 0., 0.]]),\n",
              " array([[0., 0., 0., 1., 0.],\n",
              "        [0., 0., 1., 0., 0.],\n",
              "        [0., 0., 1., 0., 0.],\n",
              "        [0., 0., 1., 0., 0.],\n",
              "        [0., 0., 1., 0., 0.],\n",
              "        [0., 0., 1., 0., 0.],\n",
              "        [0., 0., 0., 0., 1.],\n",
              "        [0., 0., 0., 0., 1.],\n",
              "        [0., 0., 0., 0., 1.],\n",
              "        [0., 0., 0., 0., 1.]]),\n",
              " array([[1., 0., 0., 0., 0.],\n",
              "        [0., 0., 0., 0., 1.],\n",
              "        [0., 0., 0., 0., 1.],\n",
              "        [0., 0., 0., 0., 1.],\n",
              "        [0., 0., 0., 0., 1.],\n",
              "        [0., 0., 0., 0., 1.],\n",
              "        [0., 0., 0., 0., 1.],\n",
              "        [0., 1., 0., 0., 0.],\n",
              "        [0., 1., 0., 0., 0.],\n",
              "        [1., 0., 0., 0., 0.]]))"
            ]
          },
          "metadata": {},
          "execution_count": 24
        }
      ]
    },
    {
      "cell_type": "markdown",
      "source": [
        "# label encode labels"
      ],
      "metadata": {
        "id": "dJnlajMOtIie"
      }
    },
    {
      "cell_type": "code",
      "source": [
        "# Extract target columns and encode into integers\n",
        "from sklearn.preprocessing import LabelEncoder\n",
        "label_encoder=LabelEncoder()\n",
        "train_labels=label_encoder.fit_transform(train_df.target.to_numpy())\n",
        "test_labels=label_encoder.fit_transform(test_df.target.to_numpy())\n",
        "validation_labels=label_encoder.fit_transform(val_df.target.to_numpy())\n",
        "train_labels[:10],test_labels[:10],validation_labels[:10]"
      ],
      "metadata": {
        "colab": {
          "base_uri": "https://localhost:8080/"
        },
        "id": "A_4zhDkMGFNT",
        "outputId": "3df0778d-4474-46cc-fdd5-4d2cad4bf405"
      },
      "execution_count": 25,
      "outputs": [
        {
          "output_type": "execute_result",
          "data": {
            "text/plain": [
              "(array([3, 2, 2, 2, 2, 2, 4, 4, 4, 4]),\n",
              " array([0, 4, 4, 4, 4, 4, 4, 1, 1, 0]),\n",
              " array([0, 0, 3, 2, 2, 4, 4, 4, 4, 1]))"
            ]
          },
          "metadata": {},
          "execution_count": 25
        }
      ]
    },
    {
      "cell_type": "code",
      "source": [
        "# Get the names and number of classes from LabelEncoder instance\n",
        "num_classes=len(label_encoder.classes_)\n",
        "class_names=label_encoder.classes_\n",
        "num_classes,class_names"
      ],
      "metadata": {
        "colab": {
          "base_uri": "https://localhost:8080/"
        },
        "id": "iyLu9AtfHHuR",
        "outputId": "77dc67e4-3772-461a-ccfe-c3703b37e6eb"
      },
      "execution_count": 26,
      "outputs": [
        {
          "output_type": "execute_result",
          "data": {
            "text/plain": [
              "(5,\n",
              " array(['BACKGROUND', 'CONCLUSIONS', 'METHODS', 'OBJECTIVE', 'RESULTS'],\n",
              "       dtype=object))"
            ]
          },
          "metadata": {},
          "execution_count": 26
        }
      ]
    },
    {
      "cell_type": "code",
      "source": [
        "train_labels"
      ],
      "metadata": {
        "colab": {
          "base_uri": "https://localhost:8080/"
        },
        "id": "-YVOsPowIhE3",
        "outputId": "6d8764fe-894d-469b-e077-a27ccbdc1fb8"
      },
      "execution_count": 27,
      "outputs": [
        {
          "output_type": "execute_result",
          "data": {
            "text/plain": [
              "array([3, 2, 2, ..., 4, 1, 1])"
            ]
          },
          "metadata": {},
          "execution_count": 27
        }
      ]
    },
    {
      "cell_type": "markdown",
      "source": [
        "# Model 0: Baseline\n",
        "TF-IDF Multinomial Naive Bayes Classifier"
      ],
      "metadata": {
        "id": "vvCxq5dygr_c"
      }
    },
    {
      "cell_type": "code",
      "source": [
        "from sklearn.feature_extraction.text import TfidfVectorizer\n",
        "from sklearn.naive_bayes import MultinomialNB\n",
        "from sklearn.pipeline import Pipeline\n",
        "\n",
        "model_0=Pipeline([(\"tf-idf\",TfidfVectorizer()),\n",
        "                  (\"clf\",MultinomialNB()),\n",
        "                  ])\n",
        "# Fit the pipeline\n",
        "model_0.fit(train_sentences,train_labels)"
      ],
      "metadata": {
        "colab": {
          "base_uri": "https://localhost:8080/",
          "height": 154
        },
        "id": "cyKIVzWehnW1",
        "outputId": "af13de73-656e-4108-aa7d-63b461e53ec0"
      },
      "execution_count": 28,
      "outputs": [
        {
          "output_type": "execute_result",
          "data": {
            "text/plain": [
              "Pipeline(steps=[('tf-idf', TfidfVectorizer()), ('clf', MultinomialNB())])"
            ],
            "text/html": [
              "<style>#sk-container-id-1 {\n",
              "  /* Definition of color scheme common for light and dark mode */\n",
              "  --sklearn-color-text: #000;\n",
              "  --sklearn-color-text-muted: #666;\n",
              "  --sklearn-color-line: gray;\n",
              "  /* Definition of color scheme for unfitted estimators */\n",
              "  --sklearn-color-unfitted-level-0: #fff5e6;\n",
              "  --sklearn-color-unfitted-level-1: #f6e4d2;\n",
              "  --sklearn-color-unfitted-level-2: #ffe0b3;\n",
              "  --sklearn-color-unfitted-level-3: chocolate;\n",
              "  /* Definition of color scheme for fitted estimators */\n",
              "  --sklearn-color-fitted-level-0: #f0f8ff;\n",
              "  --sklearn-color-fitted-level-1: #d4ebff;\n",
              "  --sklearn-color-fitted-level-2: #b3dbfd;\n",
              "  --sklearn-color-fitted-level-3: cornflowerblue;\n",
              "\n",
              "  /* Specific color for light theme */\n",
              "  --sklearn-color-text-on-default-background: var(--sg-text-color, var(--theme-code-foreground, var(--jp-content-font-color1, black)));\n",
              "  --sklearn-color-background: var(--sg-background-color, var(--theme-background, var(--jp-layout-color0, white)));\n",
              "  --sklearn-color-border-box: var(--sg-text-color, var(--theme-code-foreground, var(--jp-content-font-color1, black)));\n",
              "  --sklearn-color-icon: #696969;\n",
              "\n",
              "  @media (prefers-color-scheme: dark) {\n",
              "    /* Redefinition of color scheme for dark theme */\n",
              "    --sklearn-color-text-on-default-background: var(--sg-text-color, var(--theme-code-foreground, var(--jp-content-font-color1, white)));\n",
              "    --sklearn-color-background: var(--sg-background-color, var(--theme-background, var(--jp-layout-color0, #111)));\n",
              "    --sklearn-color-border-box: var(--sg-text-color, var(--theme-code-foreground, var(--jp-content-font-color1, white)));\n",
              "    --sklearn-color-icon: #878787;\n",
              "  }\n",
              "}\n",
              "\n",
              "#sk-container-id-1 {\n",
              "  color: var(--sklearn-color-text);\n",
              "}\n",
              "\n",
              "#sk-container-id-1 pre {\n",
              "  padding: 0;\n",
              "}\n",
              "\n",
              "#sk-container-id-1 input.sk-hidden--visually {\n",
              "  border: 0;\n",
              "  clip: rect(1px 1px 1px 1px);\n",
              "  clip: rect(1px, 1px, 1px, 1px);\n",
              "  height: 1px;\n",
              "  margin: -1px;\n",
              "  overflow: hidden;\n",
              "  padding: 0;\n",
              "  position: absolute;\n",
              "  width: 1px;\n",
              "}\n",
              "\n",
              "#sk-container-id-1 div.sk-dashed-wrapped {\n",
              "  border: 1px dashed var(--sklearn-color-line);\n",
              "  margin: 0 0.4em 0.5em 0.4em;\n",
              "  box-sizing: border-box;\n",
              "  padding-bottom: 0.4em;\n",
              "  background-color: var(--sklearn-color-background);\n",
              "}\n",
              "\n",
              "#sk-container-id-1 div.sk-container {\n",
              "  /* jupyter's `normalize.less` sets `[hidden] { display: none; }`\n",
              "     but bootstrap.min.css set `[hidden] { display: none !important; }`\n",
              "     so we also need the `!important` here to be able to override the\n",
              "     default hidden behavior on the sphinx rendered scikit-learn.org.\n",
              "     See: https://github.com/scikit-learn/scikit-learn/issues/21755 */\n",
              "  display: inline-block !important;\n",
              "  position: relative;\n",
              "}\n",
              "\n",
              "#sk-container-id-1 div.sk-text-repr-fallback {\n",
              "  display: none;\n",
              "}\n",
              "\n",
              "div.sk-parallel-item,\n",
              "div.sk-serial,\n",
              "div.sk-item {\n",
              "  /* draw centered vertical line to link estimators */\n",
              "  background-image: linear-gradient(var(--sklearn-color-text-on-default-background), var(--sklearn-color-text-on-default-background));\n",
              "  background-size: 2px 100%;\n",
              "  background-repeat: no-repeat;\n",
              "  background-position: center center;\n",
              "}\n",
              "\n",
              "/* Parallel-specific style estimator block */\n",
              "\n",
              "#sk-container-id-1 div.sk-parallel-item::after {\n",
              "  content: \"\";\n",
              "  width: 100%;\n",
              "  border-bottom: 2px solid var(--sklearn-color-text-on-default-background);\n",
              "  flex-grow: 1;\n",
              "}\n",
              "\n",
              "#sk-container-id-1 div.sk-parallel {\n",
              "  display: flex;\n",
              "  align-items: stretch;\n",
              "  justify-content: center;\n",
              "  background-color: var(--sklearn-color-background);\n",
              "  position: relative;\n",
              "}\n",
              "\n",
              "#sk-container-id-1 div.sk-parallel-item {\n",
              "  display: flex;\n",
              "  flex-direction: column;\n",
              "}\n",
              "\n",
              "#sk-container-id-1 div.sk-parallel-item:first-child::after {\n",
              "  align-self: flex-end;\n",
              "  width: 50%;\n",
              "}\n",
              "\n",
              "#sk-container-id-1 div.sk-parallel-item:last-child::after {\n",
              "  align-self: flex-start;\n",
              "  width: 50%;\n",
              "}\n",
              "\n",
              "#sk-container-id-1 div.sk-parallel-item:only-child::after {\n",
              "  width: 0;\n",
              "}\n",
              "\n",
              "/* Serial-specific style estimator block */\n",
              "\n",
              "#sk-container-id-1 div.sk-serial {\n",
              "  display: flex;\n",
              "  flex-direction: column;\n",
              "  align-items: center;\n",
              "  background-color: var(--sklearn-color-background);\n",
              "  padding-right: 1em;\n",
              "  padding-left: 1em;\n",
              "}\n",
              "\n",
              "\n",
              "/* Toggleable style: style used for estimator/Pipeline/ColumnTransformer box that is\n",
              "clickable and can be expanded/collapsed.\n",
              "- Pipeline and ColumnTransformer use this feature and define the default style\n",
              "- Estimators will overwrite some part of the style using the `sk-estimator` class\n",
              "*/\n",
              "\n",
              "/* Pipeline and ColumnTransformer style (default) */\n",
              "\n",
              "#sk-container-id-1 div.sk-toggleable {\n",
              "  /* Default theme specific background. It is overwritten whether we have a\n",
              "  specific estimator or a Pipeline/ColumnTransformer */\n",
              "  background-color: var(--sklearn-color-background);\n",
              "}\n",
              "\n",
              "/* Toggleable label */\n",
              "#sk-container-id-1 label.sk-toggleable__label {\n",
              "  cursor: pointer;\n",
              "  display: flex;\n",
              "  width: 100%;\n",
              "  margin-bottom: 0;\n",
              "  padding: 0.5em;\n",
              "  box-sizing: border-box;\n",
              "  text-align: center;\n",
              "  align-items: start;\n",
              "  justify-content: space-between;\n",
              "  gap: 0.5em;\n",
              "}\n",
              "\n",
              "#sk-container-id-1 label.sk-toggleable__label .caption {\n",
              "  font-size: 0.6rem;\n",
              "  font-weight: lighter;\n",
              "  color: var(--sklearn-color-text-muted);\n",
              "}\n",
              "\n",
              "#sk-container-id-1 label.sk-toggleable__label-arrow:before {\n",
              "  /* Arrow on the left of the label */\n",
              "  content: \"▸\";\n",
              "  float: left;\n",
              "  margin-right: 0.25em;\n",
              "  color: var(--sklearn-color-icon);\n",
              "}\n",
              "\n",
              "#sk-container-id-1 label.sk-toggleable__label-arrow:hover:before {\n",
              "  color: var(--sklearn-color-text);\n",
              "}\n",
              "\n",
              "/* Toggleable content - dropdown */\n",
              "\n",
              "#sk-container-id-1 div.sk-toggleable__content {\n",
              "  max-height: 0;\n",
              "  max-width: 0;\n",
              "  overflow: hidden;\n",
              "  text-align: left;\n",
              "  /* unfitted */\n",
              "  background-color: var(--sklearn-color-unfitted-level-0);\n",
              "}\n",
              "\n",
              "#sk-container-id-1 div.sk-toggleable__content.fitted {\n",
              "  /* fitted */\n",
              "  background-color: var(--sklearn-color-fitted-level-0);\n",
              "}\n",
              "\n",
              "#sk-container-id-1 div.sk-toggleable__content pre {\n",
              "  margin: 0.2em;\n",
              "  border-radius: 0.25em;\n",
              "  color: var(--sklearn-color-text);\n",
              "  /* unfitted */\n",
              "  background-color: var(--sklearn-color-unfitted-level-0);\n",
              "}\n",
              "\n",
              "#sk-container-id-1 div.sk-toggleable__content.fitted pre {\n",
              "  /* unfitted */\n",
              "  background-color: var(--sklearn-color-fitted-level-0);\n",
              "}\n",
              "\n",
              "#sk-container-id-1 input.sk-toggleable__control:checked~div.sk-toggleable__content {\n",
              "  /* Expand drop-down */\n",
              "  max-height: 200px;\n",
              "  max-width: 100%;\n",
              "  overflow: auto;\n",
              "}\n",
              "\n",
              "#sk-container-id-1 input.sk-toggleable__control:checked~label.sk-toggleable__label-arrow:before {\n",
              "  content: \"▾\";\n",
              "}\n",
              "\n",
              "/* Pipeline/ColumnTransformer-specific style */\n",
              "\n",
              "#sk-container-id-1 div.sk-label input.sk-toggleable__control:checked~label.sk-toggleable__label {\n",
              "  color: var(--sklearn-color-text);\n",
              "  background-color: var(--sklearn-color-unfitted-level-2);\n",
              "}\n",
              "\n",
              "#sk-container-id-1 div.sk-label.fitted input.sk-toggleable__control:checked~label.sk-toggleable__label {\n",
              "  background-color: var(--sklearn-color-fitted-level-2);\n",
              "}\n",
              "\n",
              "/* Estimator-specific style */\n",
              "\n",
              "/* Colorize estimator box */\n",
              "#sk-container-id-1 div.sk-estimator input.sk-toggleable__control:checked~label.sk-toggleable__label {\n",
              "  /* unfitted */\n",
              "  background-color: var(--sklearn-color-unfitted-level-2);\n",
              "}\n",
              "\n",
              "#sk-container-id-1 div.sk-estimator.fitted input.sk-toggleable__control:checked~label.sk-toggleable__label {\n",
              "  /* fitted */\n",
              "  background-color: var(--sklearn-color-fitted-level-2);\n",
              "}\n",
              "\n",
              "#sk-container-id-1 div.sk-label label.sk-toggleable__label,\n",
              "#sk-container-id-1 div.sk-label label {\n",
              "  /* The background is the default theme color */\n",
              "  color: var(--sklearn-color-text-on-default-background);\n",
              "}\n",
              "\n",
              "/* On hover, darken the color of the background */\n",
              "#sk-container-id-1 div.sk-label:hover label.sk-toggleable__label {\n",
              "  color: var(--sklearn-color-text);\n",
              "  background-color: var(--sklearn-color-unfitted-level-2);\n",
              "}\n",
              "\n",
              "/* Label box, darken color on hover, fitted */\n",
              "#sk-container-id-1 div.sk-label.fitted:hover label.sk-toggleable__label.fitted {\n",
              "  color: var(--sklearn-color-text);\n",
              "  background-color: var(--sklearn-color-fitted-level-2);\n",
              "}\n",
              "\n",
              "/* Estimator label */\n",
              "\n",
              "#sk-container-id-1 div.sk-label label {\n",
              "  font-family: monospace;\n",
              "  font-weight: bold;\n",
              "  display: inline-block;\n",
              "  line-height: 1.2em;\n",
              "}\n",
              "\n",
              "#sk-container-id-1 div.sk-label-container {\n",
              "  text-align: center;\n",
              "}\n",
              "\n",
              "/* Estimator-specific */\n",
              "#sk-container-id-1 div.sk-estimator {\n",
              "  font-family: monospace;\n",
              "  border: 1px dotted var(--sklearn-color-border-box);\n",
              "  border-radius: 0.25em;\n",
              "  box-sizing: border-box;\n",
              "  margin-bottom: 0.5em;\n",
              "  /* unfitted */\n",
              "  background-color: var(--sklearn-color-unfitted-level-0);\n",
              "}\n",
              "\n",
              "#sk-container-id-1 div.sk-estimator.fitted {\n",
              "  /* fitted */\n",
              "  background-color: var(--sklearn-color-fitted-level-0);\n",
              "}\n",
              "\n",
              "/* on hover */\n",
              "#sk-container-id-1 div.sk-estimator:hover {\n",
              "  /* unfitted */\n",
              "  background-color: var(--sklearn-color-unfitted-level-2);\n",
              "}\n",
              "\n",
              "#sk-container-id-1 div.sk-estimator.fitted:hover {\n",
              "  /* fitted */\n",
              "  background-color: var(--sklearn-color-fitted-level-2);\n",
              "}\n",
              "\n",
              "/* Specification for estimator info (e.g. \"i\" and \"?\") */\n",
              "\n",
              "/* Common style for \"i\" and \"?\" */\n",
              "\n",
              ".sk-estimator-doc-link,\n",
              "a:link.sk-estimator-doc-link,\n",
              "a:visited.sk-estimator-doc-link {\n",
              "  float: right;\n",
              "  font-size: smaller;\n",
              "  line-height: 1em;\n",
              "  font-family: monospace;\n",
              "  background-color: var(--sklearn-color-background);\n",
              "  border-radius: 1em;\n",
              "  height: 1em;\n",
              "  width: 1em;\n",
              "  text-decoration: none !important;\n",
              "  margin-left: 0.5em;\n",
              "  text-align: center;\n",
              "  /* unfitted */\n",
              "  border: var(--sklearn-color-unfitted-level-1) 1pt solid;\n",
              "  color: var(--sklearn-color-unfitted-level-1);\n",
              "}\n",
              "\n",
              ".sk-estimator-doc-link.fitted,\n",
              "a:link.sk-estimator-doc-link.fitted,\n",
              "a:visited.sk-estimator-doc-link.fitted {\n",
              "  /* fitted */\n",
              "  border: var(--sklearn-color-fitted-level-1) 1pt solid;\n",
              "  color: var(--sklearn-color-fitted-level-1);\n",
              "}\n",
              "\n",
              "/* On hover */\n",
              "div.sk-estimator:hover .sk-estimator-doc-link:hover,\n",
              ".sk-estimator-doc-link:hover,\n",
              "div.sk-label-container:hover .sk-estimator-doc-link:hover,\n",
              ".sk-estimator-doc-link:hover {\n",
              "  /* unfitted */\n",
              "  background-color: var(--sklearn-color-unfitted-level-3);\n",
              "  color: var(--sklearn-color-background);\n",
              "  text-decoration: none;\n",
              "}\n",
              "\n",
              "div.sk-estimator.fitted:hover .sk-estimator-doc-link.fitted:hover,\n",
              ".sk-estimator-doc-link.fitted:hover,\n",
              "div.sk-label-container:hover .sk-estimator-doc-link.fitted:hover,\n",
              ".sk-estimator-doc-link.fitted:hover {\n",
              "  /* fitted */\n",
              "  background-color: var(--sklearn-color-fitted-level-3);\n",
              "  color: var(--sklearn-color-background);\n",
              "  text-decoration: none;\n",
              "}\n",
              "\n",
              "/* Span, style for the box shown on hovering the info icon */\n",
              ".sk-estimator-doc-link span {\n",
              "  display: none;\n",
              "  z-index: 9999;\n",
              "  position: relative;\n",
              "  font-weight: normal;\n",
              "  right: .2ex;\n",
              "  padding: .5ex;\n",
              "  margin: .5ex;\n",
              "  width: min-content;\n",
              "  min-width: 20ex;\n",
              "  max-width: 50ex;\n",
              "  color: var(--sklearn-color-text);\n",
              "  box-shadow: 2pt 2pt 4pt #999;\n",
              "  /* unfitted */\n",
              "  background: var(--sklearn-color-unfitted-level-0);\n",
              "  border: .5pt solid var(--sklearn-color-unfitted-level-3);\n",
              "}\n",
              "\n",
              ".sk-estimator-doc-link.fitted span {\n",
              "  /* fitted */\n",
              "  background: var(--sklearn-color-fitted-level-0);\n",
              "  border: var(--sklearn-color-fitted-level-3);\n",
              "}\n",
              "\n",
              ".sk-estimator-doc-link:hover span {\n",
              "  display: block;\n",
              "}\n",
              "\n",
              "/* \"?\"-specific style due to the `<a>` HTML tag */\n",
              "\n",
              "#sk-container-id-1 a.estimator_doc_link {\n",
              "  float: right;\n",
              "  font-size: 1rem;\n",
              "  line-height: 1em;\n",
              "  font-family: monospace;\n",
              "  background-color: var(--sklearn-color-background);\n",
              "  border-radius: 1rem;\n",
              "  height: 1rem;\n",
              "  width: 1rem;\n",
              "  text-decoration: none;\n",
              "  /* unfitted */\n",
              "  color: var(--sklearn-color-unfitted-level-1);\n",
              "  border: var(--sklearn-color-unfitted-level-1) 1pt solid;\n",
              "}\n",
              "\n",
              "#sk-container-id-1 a.estimator_doc_link.fitted {\n",
              "  /* fitted */\n",
              "  border: var(--sklearn-color-fitted-level-1) 1pt solid;\n",
              "  color: var(--sklearn-color-fitted-level-1);\n",
              "}\n",
              "\n",
              "/* On hover */\n",
              "#sk-container-id-1 a.estimator_doc_link:hover {\n",
              "  /* unfitted */\n",
              "  background-color: var(--sklearn-color-unfitted-level-3);\n",
              "  color: var(--sklearn-color-background);\n",
              "  text-decoration: none;\n",
              "}\n",
              "\n",
              "#sk-container-id-1 a.estimator_doc_link.fitted:hover {\n",
              "  /* fitted */\n",
              "  background-color: var(--sklearn-color-fitted-level-3);\n",
              "}\n",
              "</style><div id=\"sk-container-id-1\" class=\"sk-top-container\"><div class=\"sk-text-repr-fallback\"><pre>Pipeline(steps=[(&#x27;tf-idf&#x27;, TfidfVectorizer()), (&#x27;clf&#x27;, MultinomialNB())])</pre><b>In a Jupyter environment, please rerun this cell to show the HTML representation or trust the notebook. <br />On GitHub, the HTML representation is unable to render, please try loading this page with nbviewer.org.</b></div><div class=\"sk-container\" hidden><div class=\"sk-item sk-dashed-wrapped\"><div class=\"sk-label-container\"><div class=\"sk-label fitted sk-toggleable\"><input class=\"sk-toggleable__control sk-hidden--visually\" id=\"sk-estimator-id-1\" type=\"checkbox\" ><label for=\"sk-estimator-id-1\" class=\"sk-toggleable__label fitted sk-toggleable__label-arrow\"><div><div>Pipeline</div></div><div><a class=\"sk-estimator-doc-link fitted\" rel=\"noreferrer\" target=\"_blank\" href=\"https://scikit-learn.org/1.6/modules/generated/sklearn.pipeline.Pipeline.html\">?<span>Documentation for Pipeline</span></a><span class=\"sk-estimator-doc-link fitted\">i<span>Fitted</span></span></div></label><div class=\"sk-toggleable__content fitted\"><pre>Pipeline(steps=[(&#x27;tf-idf&#x27;, TfidfVectorizer()), (&#x27;clf&#x27;, MultinomialNB())])</pre></div> </div></div><div class=\"sk-serial\"><div class=\"sk-item\"><div class=\"sk-estimator fitted sk-toggleable\"><input class=\"sk-toggleable__control sk-hidden--visually\" id=\"sk-estimator-id-2\" type=\"checkbox\" ><label for=\"sk-estimator-id-2\" class=\"sk-toggleable__label fitted sk-toggleable__label-arrow\"><div><div>TfidfVectorizer</div></div><div><a class=\"sk-estimator-doc-link fitted\" rel=\"noreferrer\" target=\"_blank\" href=\"https://scikit-learn.org/1.6/modules/generated/sklearn.feature_extraction.text.TfidfVectorizer.html\">?<span>Documentation for TfidfVectorizer</span></a></div></label><div class=\"sk-toggleable__content fitted\"><pre>TfidfVectorizer()</pre></div> </div></div><div class=\"sk-item\"><div class=\"sk-estimator fitted sk-toggleable\"><input class=\"sk-toggleable__control sk-hidden--visually\" id=\"sk-estimator-id-3\" type=\"checkbox\" ><label for=\"sk-estimator-id-3\" class=\"sk-toggleable__label fitted sk-toggleable__label-arrow\"><div><div>MultinomialNB</div></div><div><a class=\"sk-estimator-doc-link fitted\" rel=\"noreferrer\" target=\"_blank\" href=\"https://scikit-learn.org/1.6/modules/generated/sklearn.naive_bayes.MultinomialNB.html\">?<span>Documentation for MultinomialNB</span></a></div></label><div class=\"sk-toggleable__content fitted\"><pre>MultinomialNB()</pre></div> </div></div></div></div></div></div>"
            ]
          },
          "metadata": {},
          "execution_count": 28
        }
      ]
    },
    {
      "cell_type": "code",
      "source": [
        "# Evaluate baseline model\n",
        "model_0.score(X=validation_sentences,y=validation_labels)"
      ],
      "metadata": {
        "colab": {
          "base_uri": "https://localhost:8080/"
        },
        "id": "Xl-sCNfJjt3R",
        "outputId": "d75fdbb2-b152-454d-c212-c2028eb940e2"
      },
      "execution_count": 29,
      "outputs": [
        {
          "output_type": "execute_result",
          "data": {
            "text/plain": [
              "0.7218323844829869"
            ]
          },
          "metadata": {},
          "execution_count": 29
        }
      ]
    },
    {
      "cell_type": "code",
      "source": [
        "# make prediction\n",
        "baseline_preds=model_0.predict(validation_sentences)\n",
        "baseline_preds[:10]"
      ],
      "metadata": {
        "colab": {
          "base_uri": "https://localhost:8080/"
        },
        "id": "8aT-joQvkOpJ",
        "outputId": "e125fe5b-8160-448e-fb9e-0446acdf4fd6"
      },
      "execution_count": 30,
      "outputs": [
        {
          "output_type": "execute_result",
          "data": {
            "text/plain": [
              "array([4, 1, 3, 2, 2, 2, 2, 2, 4, 4])"
            ]
          },
          "metadata": {},
          "execution_count": 30
        }
      ]
    },
    {
      "cell_type": "code",
      "source": [
        "validation_labels[:10]"
      ],
      "metadata": {
        "colab": {
          "base_uri": "https://localhost:8080/"
        },
        "id": "iCqCv6gYlhce",
        "outputId": "a44bd425-0e6c-4eb0-c4b8-54ec76d56c71"
      },
      "execution_count": 31,
      "outputs": [
        {
          "output_type": "execute_result",
          "data": {
            "text/plain": [
              "array([0, 0, 3, 2, 2, 4, 4, 4, 4, 1])"
            ]
          },
          "metadata": {},
          "execution_count": 31
        }
      ]
    },
    {
      "cell_type": "code",
      "source": [
        "# Get the helper function\n",
        "!wget https://raw.githubusercontent.com/mrdbourke/tensorflow-deep-learning/refs/heads/main/extras/helper_functions.py\n"
      ],
      "metadata": {
        "colab": {
          "base_uri": "https://localhost:8080/"
        },
        "id": "43fzo2gClqtA",
        "outputId": "1c0bc6f6-19ec-4bce-b70b-a8512bb5dff8"
      },
      "execution_count": 32,
      "outputs": [
        {
          "output_type": "stream",
          "name": "stdout",
          "text": [
            "--2025-05-27 21:06:36--  https://raw.githubusercontent.com/mrdbourke/tensorflow-deep-learning/refs/heads/main/extras/helper_functions.py\n",
            "Resolving raw.githubusercontent.com (raw.githubusercontent.com)... 185.199.108.133, 185.199.110.133, 185.199.111.133, ...\n",
            "Connecting to raw.githubusercontent.com (raw.githubusercontent.com)|185.199.108.133|:443... connected.\n",
            "HTTP request sent, awaiting response... 200 OK\n",
            "Length: 10246 (10K) [text/plain]\n",
            "Saving to: ‘helper_functions.py’\n",
            "\n",
            "\rhelper_functions.py   0%[                    ]       0  --.-KB/s               \rhelper_functions.py 100%[===================>]  10.01K  --.-KB/s    in 0s      \n",
            "\n",
            "2025-05-27 21:06:36 (88.3 MB/s) - ‘helper_functions.py’ saved [10246/10246]\n",
            "\n"
          ]
        }
      ]
    },
    {
      "cell_type": "code",
      "source": [
        "from helper_functions import calculate_results\n"
      ],
      "metadata": {
        "id": "UCYQIj29nL-U"
      },
      "execution_count": 33,
      "outputs": []
    },
    {
      "cell_type": "code",
      "source": [
        "# calculate baseline results\n",
        "baseline_results=calculate_results(y_true=validation_labels,y_pred=baseline_preds)\n",
        "baseline_results"
      ],
      "metadata": {
        "colab": {
          "base_uri": "https://localhost:8080/"
        },
        "id": "YicBWnhPnUHJ",
        "outputId": "8bd4129e-dda7-4602-f734-cbc2d5958ae5"
      },
      "execution_count": 34,
      "outputs": [
        {
          "output_type": "execute_result",
          "data": {
            "text/plain": [
              "{'accuracy': 72.1832384482987,\n",
              " 'precision': 0.7186466952323352,\n",
              " 'recall': 0.7218323844829869,\n",
              " 'f1': 0.6989250353450294}"
            ]
          },
          "metadata": {},
          "execution_count": 34
        }
      ]
    },
    {
      "cell_type": "markdown",
      "source": [
        "Model 1: simple Dense Model"
      ],
      "metadata": {
        "id": "FXIMkGAfnhWx"
      }
    },
    {
      "cell_type": "code",
      "source": [
        "# create tensorboard callback\n",
        "from helper_functions import create_tensorboard_callback\n",
        "SAVE_DIR=\"model_logs\"\n"
      ],
      "metadata": {
        "id": "FabXisW3pXTU"
      },
      "execution_count": 35,
      "outputs": []
    },
    {
      "cell_type": "markdown",
      "source": [
        " Lets create a text vectorization and embedding layers. The vectorization layer convert the text into numbers and the embedding layer will capture the relationship between those numbers"
      ],
      "metadata": {
        "id": "Me4DgRQYu9zq"
      }
    },
    {
      "cell_type": "code",
      "source": [
        "round(sum([len(i.split()) for i in train_sentences])/len(train_sentences))"
      ],
      "metadata": {
        "colab": {
          "base_uri": "https://localhost:8080/"
        },
        "id": "l7wMUKidsI40",
        "outputId": "6dcb6ffc-f6d7-40ab-d46e-e96707b4ddef"
      },
      "execution_count": 36,
      "outputs": [
        {
          "output_type": "execute_result",
          "data": {
            "text/plain": [
              "26"
            ]
          },
          "metadata": {},
          "execution_count": 36
        }
      ]
    },
    {
      "cell_type": "code",
      "source": [
        "max_vocab_length=sum([len(i.split()) for i in train_sentences])\n",
        "max_vocab_length"
      ],
      "metadata": {
        "colab": {
          "base_uri": "https://localhost:8080/"
        },
        "id": "1wxVfZ2Esuke",
        "outputId": "a19a7490-424b-400a-eb2d-40ef691f7c50"
      },
      "execution_count": 37,
      "outputs": [
        {
          "output_type": "execute_result",
          "data": {
            "text/plain": [
              "4741942"
            ]
          },
          "metadata": {},
          "execution_count": 37
        }
      ]
    },
    {
      "cell_type": "code",
      "source": [
        "# Lets check the distribution of the sentence length\n",
        "import matplotlib.pyplot as plt\n",
        "sentence_lengths=[len(i.split()) for i in train_sentences]\n",
        "plt.hist(sentence_lengths,bins=7)"
      ],
      "metadata": {
        "colab": {
          "base_uri": "https://localhost:8080/",
          "height": 517
        },
        "id": "qamdoGUMxuuW",
        "outputId": "a3e23b0c-ceba-4c45-a33a-35b43d14d0f1"
      },
      "execution_count": 38,
      "outputs": [
        {
          "output_type": "execute_result",
          "data": {
            "text/plain": [
              "(array([1.5999e+05, 1.8760e+04, 1.1510e+03, 9.9000e+01, 2.8000e+01,\n",
              "        1.0000e+01, 2.0000e+00]),\n",
              " array([  1.        ,  43.14285714,  85.28571429, 127.42857143,\n",
              "        169.57142857, 211.71428571, 253.85714286, 296.        ]),\n",
              " <BarContainer object of 7 artists>)"
            ]
          },
          "metadata": {},
          "execution_count": 38
        },
        {
          "output_type": "display_data",
          "data": {
            "text/plain": [
              "<Figure size 640x480 with 1 Axes>"
            ],
            "image/png": "[encoded data removed]"
          },
          "metadata": {}
        }
      ]
    },
    {
      "cell_type": "code",
      "source": [
        "# How long of a sentence covers 95% of the lengths?\n",
        "import numpy as np\n",
        "output_sen_len=int(np.percentile(sentence_lengths,95))\n",
        "output_sen_len"
      ],
      "metadata": {
        "colab": {
          "base_uri": "https://localhost:8080/"
        },
        "id": "BTVV1Vg5zZNn",
        "outputId": "4fbff2ba-a48a-4d9c-9a2a-7ce3800e6c91"
      },
      "execution_count": 39,
      "outputs": [
        {
          "output_type": "execute_result",
          "data": {
            "text/plain": [
              "55"
            ]
          },
          "metadata": {},
          "execution_count": 39
        }
      ]
    },
    {
      "cell_type": "markdown",
      "source": [
        "Section 3.2 of the PubMed 200k RCT paper states the vocabulary size of the PubMed 20k dataset as 68,000. So we'll use that as our max_tokens parameter.\n",
        "\n"
      ],
      "metadata": {
        "id": "kBrSXxoT0t-f"
      }
    },
    {
      "cell_type": "code",
      "source": [
        "import tensorflow as tf\n",
        "\n",
        "max_length=55\n",
        "text_vectorizer=tf.keras.layers.TextVectorization(max_tokens=68000,\n",
        "                                                  output_sequence_length=max_length)\n"
      ],
      "metadata": {
        "id": "ihnywxgstETl"
      },
      "execution_count": 40,
      "outputs": []
    },
    {
      "cell_type": "markdown",
      "source": [
        "let's adapt it to the training data (let it read the training data and figure out what number should represent what word) and then test it out.\n",
        "\n"
      ],
      "metadata": {
        "id": "FQHk1UUf1IrL"
      }
    },
    {
      "cell_type": "code",
      "source": [
        "text_vectorizer.adapt(train_sentences)"
      ],
      "metadata": {
        "id": "Jl4-XdhV1Arx"
      },
      "execution_count": 41,
      "outputs": []
    },
    {
      "cell_type": "code",
      "source": [
        "# Testing our text vectorizer\n",
        "import random\n",
        "random_sentence=random.choice(train_sentences)\n",
        "print(f\"Original text:\\n{random_sentence}\\\n",
        "        \\n\\nVectorized version:\")\n",
        "text_vectorizer([random_sentence])"
      ],
      "metadata": {
        "colab": {
          "base_uri": "https://localhost:8080/"
        },
        "id": "iKjY976v1NPM",
        "outputId": "e2cd68b5-1bcd-4f77-e39e-9ce21419ccc3"
      },
      "execution_count": 42,
      "outputs": [
        {
          "output_type": "stream",
          "name": "stdout",
          "text": [
            "Original text:\n",
            "the study was planned as a multicenter , pragmatic ( with centers different in size and experience ) , randomized , single-blinded ( with blinding of patients only ) , parallel group trial .        \n",
            "\n",
            "Vectorized version:\n"
          ]
        },
        {
          "output_type": "execute_result",
          "data": {
            "text/plain": [
              "<tf.Tensor: shape=(1, 55), dtype=int64, numpy=\n",
              "array([[   2,   17,   10, 1362,   25,    8,  502, 2133,    7,  897,  197,\n",
              "           5,  375,    3,  794,   29, 2795,    7, 4605,    4,   12,  192,\n",
              "         878,   13,   32,    0,    0,    0,    0,    0,    0,    0,    0,\n",
              "           0,    0,    0,    0,    0,    0,    0,    0,    0,    0,    0,\n",
              "           0,    0,    0,    0,    0,    0,    0,    0,    0,    0,    0]])>"
            ]
          },
          "metadata": {},
          "execution_count": 42
        }
      ]
    },
    {
      "cell_type": "code",
      "source": [
        "# how many words are there in the vocabolary\n",
        "rct_20k_vocab=text_vectorizer.get_vocabulary()\n",
        "len(rct_20k_vocab)"
      ],
      "metadata": {
        "colab": {
          "base_uri": "https://localhost:8080/"
        },
        "id": "7aODiQd32NlV",
        "outputId": "63fc2ff4-8419-455d-eb59-078268be2f61"
      },
      "execution_count": 43,
      "outputs": [
        {
          "output_type": "execute_result",
          "data": {
            "text/plain": [
              "64841"
            ]
          },
          "metadata": {},
          "execution_count": 43
        }
      ]
    },
    {
      "cell_type": "code",
      "source": [
        "# Get the configuration of our text vectorizer\n",
        "text_vectorizer.get_config()"
      ],
      "metadata": {
        "colab": {
          "base_uri": "https://localhost:8080/"
        },
        "id": "Fb5acyPc2xoN",
        "outputId": "8942cd4b-e971-4c8f-d723-e7c339eedbe3"
      },
      "execution_count": 44,
      "outputs": [
        {
          "output_type": "execute_result",
          "data": {
            "text/plain": [
              "{'name': 'text_vectorization',\n",
              " 'trainable': True,\n",
              " 'dtype': {'module': 'keras',\n",
              "  'class_name': 'DTypePolicy',\n",
              "  'config': {'name': 'float32'},\n",
              "  'registered_name': None},\n",
              " 'max_tokens': 68000,\n",
              " 'standardize': 'lower_and_strip_punctuation',\n",
              " 'split': 'whitespace',\n",
              " 'ngrams': None,\n",
              " 'output_mode': 'int',\n",
              " 'output_sequence_length': 55,\n",
              " 'pad_to_max_tokens': False,\n",
              " 'sparse': False,\n",
              " 'ragged': False,\n",
              " 'vocabulary': None,\n",
              " 'idf_weights': None,\n",
              " 'encoding': 'utf-8',\n",
              " 'vocabulary_size': 64841}"
            ]
          },
          "metadata": {},
          "execution_count": 44
        }
      ]
    },
    {
      "cell_type": "code",
      "source": [
        "len(rct_20k_vocab)"
      ],
      "metadata": {
        "colab": {
          "base_uri": "https://localhost:8080/"
        },
        "id": "ahJJuW7sILgQ",
        "outputId": "12894e0b-961d-4940-b626-576fb9332f49"
      },
      "execution_count": 45,
      "outputs": [
        {
          "output_type": "execute_result",
          "data": {
            "text/plain": [
              "64841"
            ]
          },
          "metadata": {},
          "execution_count": 45
        }
      ]
    },
    {
      "cell_type": "code",
      "source": [
        "embeddings=tf.keras.layers.Embedding(input_dim=len(rct_20k_vocab), # length of vocabolary\n",
        "                                     output_dim=128, # Note: different embedding sizes result in drastically different numbers of parameters to train\n",
        "                                     mask_zero=True, # Use masking to handle variable sequences lengths\n",
        "                                     name=\"embedding\")\n"
      ],
      "metadata": {
        "id": "XrRTbkoxt6Dd"
      },
      "execution_count": 46,
      "outputs": []
    },
    {
      "cell_type": "code",
      "source": [
        "# Testing our text vectorizer\n",
        "import random\n",
        "random_sentence=random.choice(train_sentences)\n",
        "print(f\"Original text:\\n{random_sentence}\\\n",
        "        \\n\\nVectorized version:\")\n",
        "print(text_vectorizer([random_sentence]))\n",
        "\n",
        "# testing our embedding\n",
        "print(\"########## After embeddings #########\")\n",
        "after_embeddings=embeddings(text_vectorizer([random_sentence]))\n",
        "after_embeddings,after_embeddings.shape"
      ],
      "metadata": {
        "colab": {
          "base_uri": "https://localhost:8080/"
        },
        "id": "JGF211VuJY_n",
        "outputId": "7f231a28-7517-4b63-fbc9-96d370c28922"
      },
      "execution_count": 47,
      "outputs": [
        {
          "output_type": "stream",
          "name": "stdout",
          "text": [
            "Original text:\n",
            "the primary variable was the clinical cure ( absence of bulbar conjunctival injection and discharge ) on d@ in the worse eye for patients with positive cultures on d@ .        \n",
            "\n",
            "Vectorized version:\n",
            "tf.Tensor(\n",
            "[[    2    56  1251    10     2    47  2002  1461     4 10849  3787   390\n",
            "      3   696    18   187     5     2  1327   672    11    12     7   280\n",
            "   4439    18   187     0     0     0     0     0     0     0     0     0\n",
            "      0     0     0     0     0     0     0     0     0     0     0     0\n",
            "      0     0     0     0     0     0     0]], shape=(1, 55), dtype=int64)\n",
            "########## After embeddings #########\n"
          ]
        },
        {
          "output_type": "execute_result",
          "data": {
            "text/plain": [
              "(<tf.Tensor: shape=(1, 55, 128), dtype=float32, numpy=\n",
              " array([[[ 0.01492904,  0.02530987,  0.02168996, ...,  0.03537469,\n",
              "           0.01835913,  0.01874207],\n",
              "         [ 0.00347626, -0.03839325,  0.00418416, ..., -0.00519992,\n",
              "           0.02076203, -0.0151508 ],\n",
              "         [-0.04974523, -0.00954373,  0.0361661 , ..., -0.04397421,\n",
              "           0.01931772,  0.01016856],\n",
              "         ...,\n",
              "         [-0.02614144, -0.02786505, -0.00119736, ..., -0.04532752,\n",
              "           0.03081911,  0.01098212],\n",
              "         [-0.02614144, -0.02786505, -0.00119736, ..., -0.04532752,\n",
              "           0.03081911,  0.01098212],\n",
              "         [-0.02614144, -0.02786505, -0.00119736, ..., -0.04532752,\n",
              "           0.03081911,  0.01098212]]], dtype=float32)>,\n",
              " TensorShape([1, 55, 128]))"
            ]
          },
          "metadata": {},
          "execution_count": 47
        }
      ]
    },
    {
      "cell_type": "markdown",
      "source": [
        "To create a batched PrefetchDataset we can use the methods betch() and prefetch(), the parameter tf.data.AUTOTUNE will also allow Tensowflow to determine the optimal amount of compute to use to prepare datasets"
      ],
      "metadata": {
        "id": "16ta-YgTRQYe"
      }
    },
    {
      "cell_type": "code",
      "source": [
        "# Turn our data into Tensorflow Datasets\n",
        "train_dataset=tf.data.Dataset.from_tensor_slices((train_sentences,train_labels_one_hot))\n",
        "test_dataset=tf.data.Dataset.from_tensor_slices((test_sentences,test_labels_one_hot))\n",
        "validation_dataset=tf.data.Dataset.from_tensor_slices((validation_sentences,validation_labels_one_hot))\n",
        "train_dataset"
      ],
      "metadata": {
        "colab": {
          "base_uri": "https://localhost:8080/"
        },
        "id": "E5IEOaowRzCW",
        "outputId": "76fc27b8-7312-434c-cc36-f79c3dd9e403"
      },
      "execution_count": 48,
      "outputs": [
        {
          "output_type": "execute_result",
          "data": {
            "text/plain": [
              "<_TensorSliceDataset element_spec=(TensorSpec(shape=(), dtype=tf.string, name=None), TensorSpec(shape=(5,), dtype=tf.float64, name=None))>"
            ]
          },
          "metadata": {},
          "execution_count": 48
        }
      ]
    },
    {
      "cell_type": "code",
      "source": [
        "# Take the tensor slices and turn them in to prefetch Batches\n",
        "train_dataset=train_dataset.batch(32).prefetch(tf.data.AUTOTUNE)\n",
        "valid_dataset=validation_dataset.batch(32).prefetch(tf.data.AUTOTUNE)\n",
        "test_dataset=test_dataset.batch(32).prefetch(tf.data.AUTOTUNE)\n"
      ],
      "metadata": {
        "id": "-iqWj23fS_ix"
      },
      "execution_count": 49,
      "outputs": []
    },
    {
      "cell_type": "markdown",
      "source": [
        "# Model 1: Conv1D with token embeddings\n",
        "\n",
        "Input(text)-> Tokenize-> Embeddings -> Layers -> Output (label Probalility)"
      ],
      "metadata": {
        "id": "2_O--eXfUM_p"
      }
    },
    {
      "cell_type": "code",
      "source": [
        "# Build a model with Functional API\n",
        "from tensorflow.keras import layers\n",
        "inputs=layers.Input(shape=(1,),dtype=tf.string)\n",
        "x=text_vectorizer(inputs)\n",
        "x=embeddings(x)\n",
        "x=layers.Conv1D(filters=64,kernel_size=5,activation=\"relu\",padding=\"same\")(x)\n",
        "x=layers.GlobalAveragePooling1D()(x)\n",
        "outputs=layers.Dense(5,activation=\"sigmoid\")(x)\n",
        "model_1=tf.keras.Model(inputs,outputs,name=\"model_1_dense\")\n",
        "\n",
        "model_1.compile(loss=\"categorical_crossentropy\",\n",
        "                optimizer=tf.keras.optimizers.Adam(),\n",
        "                metrics=[\"accuracy\"])\n",
        "model_1.summary(\n",
        ")"
      ],
      "metadata": {
        "colab": {
          "base_uri": "https://localhost:8080/",
          "height": 410
        },
        "id": "O-TLLO5Vp41g",
        "outputId": "20d89b2b-ab74-4a92-f8cc-f4bba2123419"
      },
      "execution_count": 50,
      "outputs": [
        {
          "output_type": "stream",
          "name": "stderr",
          "text": [
            "/usr/local/lib/python3.11/dist-packages/keras/src/layers/layer.py:938: UserWarning: Layer 'conv1d' (of type Conv1D) was passed an input with a mask attached to it. However, this layer does not support masking and will therefore destroy the mask information. Downstream layers will not see the mask.\n",
            "  warnings.warn(\n"
          ]
        },
        {
          "output_type": "display_data",
          "data": {
            "text/plain": [
              "\u001b[1mModel: \"model_1_dense\"\u001b[0m\n"
            ],
            "text/html": [
              "<pre style=\"white-space:pre;overflow-x:auto;line-height:normal;font-family:Menlo,'DejaVu Sans Mono',consolas,'Courier New',monospace\"><span style=\"font-weight: bold\">Model: \"model_1_dense\"</span>\n",
              "</pre>\n"
            ]
          },
          "metadata": {}
        },
        {
          "output_type": "display_data",
          "data": {
            "text/plain": [
              "┏━━━━━━━━━━━━━━━━━━━━━━━━━━━━━━━━━┳━━━━━━━━━━━━━━━━━━━━━━━━┳━━━━━━━━━━━━━━━┓\n",
              "┃\u001b[1m \u001b[0m\u001b[1mLayer (type)                   \u001b[0m\u001b[1m \u001b[0m┃\u001b[1m \u001b[0m\u001b[1mOutput Shape          \u001b[0m\u001b[1m \u001b[0m┃\u001b[1m \u001b[0m\u001b[1m      Param #\u001b[0m\u001b[1m \u001b[0m┃\n",
              "┡━━━━━━━━━━━━━━━━━━━━━━━━━━━━━━━━━╇━━━━━━━━━━━━━━━━━━━━━━━━╇━━━━━━━━━━━━━━━┩\n",
              "│ input_layer (\u001b[38;5;33mInputLayer\u001b[0m)        │ (\u001b[38;5;45mNone\u001b[0m, \u001b[38;5;34m1\u001b[0m)              │             \u001b[38;5;34m0\u001b[0m │\n",
              "├─────────────────────────────────┼────────────────────────┼───────────────┤\n",
              "│ text_vectorization              │ (\u001b[38;5;45mNone\u001b[0m, \u001b[38;5;34m55\u001b[0m)             │             \u001b[38;5;34m0\u001b[0m │\n",
              "│ (\u001b[38;5;33mTextVectorization\u001b[0m)             │                        │               │\n",
              "├─────────────────────────────────┼────────────────────────┼───────────────┤\n",
              "│ embedding (\u001b[38;5;33mEmbedding\u001b[0m)           │ (\u001b[38;5;45mNone\u001b[0m, \u001b[38;5;34m55\u001b[0m, \u001b[38;5;34m128\u001b[0m)        │     \u001b[38;5;34m8,299,648\u001b[0m │\n",
              "├─────────────────────────────────┼────────────────────────┼───────────────┤\n",
              "│ conv1d (\u001b[38;5;33mConv1D\u001b[0m)                 │ (\u001b[38;5;45mNone\u001b[0m, \u001b[38;5;34m55\u001b[0m, \u001b[38;5;34m64\u001b[0m)         │        \u001b[38;5;34m41,024\u001b[0m │\n",
              "├─────────────────────────────────┼────────────────────────┼───────────────┤\n",
              "│ global_average_pooling1d        │ (\u001b[38;5;45mNone\u001b[0m, \u001b[38;5;34m64\u001b[0m)             │             \u001b[38;5;34m0\u001b[0m │\n",
              "│ (\u001b[38;5;33mGlobalAveragePooling1D\u001b[0m)        │                        │               │\n",
              "├─────────────────────────────────┼────────────────────────┼───────────────┤\n",
              "│ dense (\u001b[38;5;33mDense\u001b[0m)                   │ (\u001b[38;5;45mNone\u001b[0m, \u001b[38;5;34m5\u001b[0m)              │           \u001b[38;5;34m325\u001b[0m │\n",
              "└─────────────────────────────────┴────────────────────────┴───────────────┘\n"
            ],
            "text/html": [
              "<pre style=\"white-space:pre;overflow-x:auto;line-height:normal;font-family:Menlo,'DejaVu Sans Mono',consolas,'Courier New',monospace\">┏━━━━━━━━━━━━━━━━━━━━━━━━━━━━━━━━━┳━━━━━━━━━━━━━━━━━━━━━━━━┳━━━━━━━━━━━━━━━┓\n",
              "┃<span style=\"font-weight: bold\"> Layer (type)                    </span>┃<span style=\"font-weight: bold\"> Output Shape           </span>┃<span style=\"font-weight: bold\">       Param # </span>┃\n",
              "┡━━━━━━━━━━━━━━━━━━━━━━━━━━━━━━━━━╇━━━━━━━━━━━━━━━━━━━━━━━━╇━━━━━━━━━━━━━━━┩\n",
              "│ input_layer (<span style=\"color: #0087ff; text-decoration-color: #0087ff\">InputLayer</span>)        │ (<span style=\"color: #00d7ff; text-decoration-color: #00d7ff\">None</span>, <span style=\"color: #00af00; text-decoration-color: #00af00\">1</span>)              │             <span style=\"color: #00af00; text-decoration-color: #00af00\">0</span> │\n",
              "├─────────────────────────────────┼────────────────────────┼───────────────┤\n",
              "│ text_vectorization              │ (<span style=\"color: #00d7ff; text-decoration-color: #00d7ff\">None</span>, <span style=\"color: #00af00; text-decoration-color: #00af00\">55</span>)             │             <span style=\"color: #00af00; text-decoration-color: #00af00\">0</span> │\n",
              "│ (<span style=\"color: #0087ff; text-decoration-color: #0087ff\">TextVectorization</span>)             │                        │               │\n",
              "├─────────────────────────────────┼────────────────────────┼───────────────┤\n",
              "│ embedding (<span style=\"color: #0087ff; text-decoration-color: #0087ff\">Embedding</span>)           │ (<span style=\"color: #00d7ff; text-decoration-color: #00d7ff\">None</span>, <span style=\"color: #00af00; text-decoration-color: #00af00\">55</span>, <span style=\"color: #00af00; text-decoration-color: #00af00\">128</span>)        │     <span style=\"color: #00af00; text-decoration-color: #00af00\">8,299,648</span> │\n",
              "├─────────────────────────────────┼────────────────────────┼───────────────┤\n",
              "│ conv1d (<span style=\"color: #0087ff; text-decoration-color: #0087ff\">Conv1D</span>)                 │ (<span style=\"color: #00d7ff; text-decoration-color: #00d7ff\">None</span>, <span style=\"color: #00af00; text-decoration-color: #00af00\">55</span>, <span style=\"color: #00af00; text-decoration-color: #00af00\">64</span>)         │        <span style=\"color: #00af00; text-decoration-color: #00af00\">41,024</span> │\n",
              "├─────────────────────────────────┼────────────────────────┼───────────────┤\n",
              "│ global_average_pooling1d        │ (<span style=\"color: #00d7ff; text-decoration-color: #00d7ff\">None</span>, <span style=\"color: #00af00; text-decoration-color: #00af00\">64</span>)             │             <span style=\"color: #00af00; text-decoration-color: #00af00\">0</span> │\n",
              "│ (<span style=\"color: #0087ff; text-decoration-color: #0087ff\">GlobalAveragePooling1D</span>)        │                        │               │\n",
              "├─────────────────────────────────┼────────────────────────┼───────────────┤\n",
              "│ dense (<span style=\"color: #0087ff; text-decoration-color: #0087ff\">Dense</span>)                   │ (<span style=\"color: #00d7ff; text-decoration-color: #00d7ff\">None</span>, <span style=\"color: #00af00; text-decoration-color: #00af00\">5</span>)              │           <span style=\"color: #00af00; text-decoration-color: #00af00\">325</span> │\n",
              "└─────────────────────────────────┴────────────────────────┴───────────────┘\n",
              "</pre>\n"
            ]
          },
          "metadata": {}
        },
        {
          "output_type": "display_data",
          "data": {
            "text/plain": [
              "\u001b[1m Total params: \u001b[0m\u001b[38;5;34m8,340,997\u001b[0m (31.82 MB)\n"
            ],
            "text/html": [
              "<pre style=\"white-space:pre;overflow-x:auto;line-height:normal;font-family:Menlo,'DejaVu Sans Mono',consolas,'Courier New',monospace\"><span style=\"font-weight: bold\"> Total params: </span><span style=\"color: #00af00; text-decoration-color: #00af00\">8,340,997</span> (31.82 MB)\n",
              "</pre>\n"
            ]
          },
          "metadata": {}
        },
        {
          "output_type": "display_data",
          "data": {
            "text/plain": [
              "\u001b[1m Trainable params: \u001b[0m\u001b[38;5;34m8,340,997\u001b[0m (31.82 MB)\n"
            ],
            "text/html": [
              "<pre style=\"white-space:pre;overflow-x:auto;line-height:normal;font-family:Menlo,'DejaVu Sans Mono',consolas,'Courier New',monospace\"><span style=\"font-weight: bold\"> Trainable params: </span><span style=\"color: #00af00; text-decoration-color: #00af00\">8,340,997</span> (31.82 MB)\n",
              "</pre>\n"
            ]
          },
          "metadata": {}
        },
        {
          "output_type": "display_data",
          "data": {
            "text/plain": [
              "\u001b[1m Non-trainable params: \u001b[0m\u001b[38;5;34m0\u001b[0m (0.00 B)\n"
            ],
            "text/html": [
              "<pre style=\"white-space:pre;overflow-x:auto;line-height:normal;font-family:Menlo,'DejaVu Sans Mono',consolas,'Courier New',monospace\"><span style=\"font-weight: bold\"> Non-trainable params: </span><span style=\"color: #00af00; text-decoration-color: #00af00\">0</span> (0.00 B)\n",
              "</pre>\n"
            ]
          },
          "metadata": {}
        }
      ]
    },
    {
      "cell_type": "code",
      "source": [
        "# Fit the model\n",
        "model_1_history=model_1.fit(train_dataset,\n",
        "                            steps_per_epoch=int(0.1*len(train_dataset)), # Only fit 10% of the batches for the faster training time\n",
        "                            epochs=5,\n",
        "                            validation_data=valid_dataset,\n",
        "                            validation_steps=int(0.1*len(validation_dataset))\n",
        "                            )"
      ],
      "metadata": {
        "colab": {
          "base_uri": "https://localhost:8080/"
        },
        "id": "djLPbMO6S9ye",
        "outputId": "d7c473a3-f04f-4e49-b9f8-c9169d8aaf81"
      },
      "execution_count": 51,
      "outputs": [
        {
          "output_type": "stream",
          "name": "stdout",
          "text": [
            "Epoch 1/5\n",
            "\u001b[1m562/562\u001b[0m \u001b[32m━━━━━━━━━━━━━━━━━━━━\u001b[0m\u001b[37m\u001b[0m \u001b[1m68s\u001b[0m 118ms/step - accuracy: 0.5251 - loss: 1.1599 - val_accuracy: 0.7397 - val_loss: 0.6919\n",
            "Epoch 2/5\n",
            "\u001b[1m  2/562\u001b[0m \u001b[37m━━━━━━━━━━━━━━━━━━━━\u001b[0m \u001b[1m57s\u001b[0m 103ms/step - accuracy: 0.7812 - loss: 0.8000"
          ]
        },
        {
          "output_type": "stream",
          "name": "stderr",
          "text": [
            "/usr/local/lib/python3.11/dist-packages/keras/src/trainers/epoch_iterator.py:107: UserWarning: Your input ran out of data; interrupting training. Make sure that your dataset or generator can generate at least `steps_per_epoch * epochs` batches. You may need to use the `.repeat()` function when building your dataset.\n",
            "  self._interrupted_warning()\n"
          ]
        },
        {
          "output_type": "stream",
          "name": "stdout",
          "text": [
            "\u001b[1m562/562\u001b[0m \u001b[32m━━━━━━━━━━━━━━━━━━━━\u001b[0m\u001b[37m\u001b[0m \u001b[1m62s\u001b[0m 111ms/step - accuracy: 0.7452 - loss: 0.6852 - val_accuracy: 0.7686 - val_loss: 0.6458\n",
            "Epoch 3/5\n",
            "\u001b[1m562/562\u001b[0m \u001b[32m━━━━━━━━━━━━━━━━━━━━\u001b[0m\u001b[37m\u001b[0m \u001b[1m60s\u001b[0m 106ms/step - accuracy: 0.7699 - loss: 0.6228 - val_accuracy: 0.7864 - val_loss: 0.5988\n",
            "Epoch 4/5\n",
            "\u001b[1m562/562\u001b[0m \u001b[32m━━━━━━━━━━━━━━━━━━━━\u001b[0m\u001b[37m\u001b[0m \u001b[1m62s\u001b[0m 111ms/step - accuracy: 0.7865 - loss: 0.5968 - val_accuracy: 0.7930 - val_loss: 0.5775\n",
            "Epoch 5/5\n",
            "\u001b[1m562/562\u001b[0m \u001b[32m━━━━━━━━━━━━━━━━━━━━\u001b[0m\u001b[37m\u001b[0m \u001b[1m66s\u001b[0m 118ms/step - accuracy: 0.7896 - loss: 0.5894 - val_accuracy: 0.8006 - val_loss: 0.5609\n"
          ]
        }
      ]
    },
    {
      "cell_type": "code",
      "source": [
        "# Evaluate on whole validation dataset\n",
        "model_1.evaluate(valid_dataset)"
      ],
      "metadata": {
        "colab": {
          "base_uri": "https://localhost:8080/"
        },
        "id": "ktdHwsRGsnhD",
        "outputId": "41f808f0-4f89-4610-cba9-087cd05c4f3e"
      },
      "execution_count": 52,
      "outputs": [
        {
          "output_type": "stream",
          "name": "stdout",
          "text": [
            "\u001b[1m945/945\u001b[0m \u001b[32m━━━━━━━━━━━━━━━━━━━━\u001b[0m\u001b[37m\u001b[0m \u001b[1m5s\u001b[0m 6ms/step - accuracy: 0.8000 - loss: 0.5582\n"
          ]
        },
        {
          "output_type": "execute_result",
          "data": {
            "text/plain": [
              "[0.5609381794929504, 0.8006090521812439]"
            ]
          },
          "metadata": {},
          "execution_count": 52
        }
      ]
    },
    {
      "cell_type": "code",
      "source": [
        "model_1_pred_probs=model_1.predict(valid_dataset)\n",
        "model_1_pred_probs"
      ],
      "metadata": {
        "colab": {
          "base_uri": "https://localhost:8080/"
        },
        "id": "JoaOsIZycV-4",
        "outputId": "20988aaa-c6b4-4e3f-de15-fe97b761b9d1"
      },
      "execution_count": 53,
      "outputs": [
        {
          "output_type": "stream",
          "name": "stdout",
          "text": [
            "\u001b[1m945/945\u001b[0m \u001b[32m━━━━━━━━━━━━━━━━━━━━\u001b[0m\u001b[37m\u001b[0m \u001b[1m5s\u001b[0m 5ms/step\n"
          ]
        },
        {
          "output_type": "execute_result",
          "data": {
            "text/plain": [
              "array([[0.7816254 , 0.5254482 , 0.21428996, 0.5446934 , 0.23894879],\n",
              "       [0.75986576, 0.7010324 , 0.14562246, 0.53402305, 0.24857654],\n",
              "       [0.9061572 , 0.20504028, 0.07371273, 0.97582686, 0.00275485],\n",
              "       ...,\n",
              "       [0.01925367, 0.20030452, 0.64830154, 0.01356505, 0.9974079 ],\n",
              "       [0.23835117, 0.52119476, 0.36999935, 0.19140679, 0.635162  ],\n",
              "       [0.63706845, 0.9033534 , 0.48308825, 0.1333134 , 0.18933547]],\n",
              "      dtype=float32)"
            ]
          },
          "metadata": {},
          "execution_count": 53
        }
      ]
    },
    {
      "cell_type": "code",
      "source": [
        "model_1_results=calculate_results(y_true=validation_labels,y_pred=tf.argmax(model_1_pred_probs,axis=1))\n",
        "model_1_results"
      ],
      "metadata": {
        "colab": {
          "base_uri": "https://localhost:8080/"
        },
        "id": "6xJaocTRdlj8",
        "outputId": "1223ec9e-87d1-4f3a-9a57-582a188b79ad"
      },
      "execution_count": 54,
      "outputs": [
        {
          "output_type": "execute_result",
          "data": {
            "text/plain": [
              "{'accuracy': 80.06090295246922,\n",
              " 'precision': 0.8007888328916376,\n",
              " 'recall': 0.8006090295246922,\n",
              " 'f1': 0.7972616810659384}"
            ]
          },
          "metadata": {},
          "execution_count": 54
        }
      ]
    },
    {
      "cell_type": "markdown",
      "source": [
        "# Model 2: Transfer Learning\n",
        "The model structure will look like:\n",
        "\n",
        "Inputs (string) -> Pretrained embeddings from TensorFlow Hub (Universal Sentence Encoder) -> Layers -> Output (prediction probabilities)\n",
        "\n",
        "\n",
        "There is lack of tokenization layer we've used in a previous model. This is because the Universal Sentence Encoder (USE) takes care of tokenization for us."
      ],
      "metadata": {
        "id": "X1w4GqUpeGRl"
      }
    },
    {
      "cell_type": "code",
      "source": [
        "# Building and fitting an NLP feature extraction model from TF Hub\n",
        "import tensorflow as tf\n",
        "import tensorflow_hub as hub\n",
        "from tensorflow.keras import layers, Model\n",
        "\n",
        "# Wrap USE inside a custom Keras Layer\n",
        "class USEEmbedding(tf.keras.layers.Layer):\n",
        "    def __init__(self, trainable=False, **kwargs):\n",
        "        super(USEEmbedding, self).__init__(trainable=trainable, **kwargs)\n",
        "        self.use = hub.load(\"https://tfhub.dev/google/universal-sentence-encoder/4\")\n",
        "\n",
        "    def call(self, inputs):\n",
        "        return self.use(inputs)\n",
        "\n",
        "# Keras Input (1D: batch of strings)\n",
        "input_text = tf.keras.Input(shape=(), dtype=tf.string, name=\"input_text\")\n",
        "\n",
        "# Embed using our wrapped USE Layer\n",
        "embedding = USEEmbedding()(input_text)\n",
        "\n",
        "# Add classification layers\n",
        "x = layers.Dense(128, activation=\"relu\")(embedding)\n",
        "output = layers.Dense(num_classes, activation=\"sigmoid\")(x)\n",
        "\n",
        "# Build model\n",
        "model_2 = Model(inputs=input_text, outputs=output)\n",
        "model_2.compile(optimizer=\"adam\", loss=\"binary_crossentropy\", metrics=[\"accuracy\"])\n",
        "\n",
        "# Show model summary\n",
        "model_2.summary()\n"
      ],
      "metadata": {
        "colab": {
          "base_uri": "https://localhost:8080/",
          "height": 259
        },
        "id": "ViCs-sMnnX0J",
        "outputId": "8c9fe35c-0aa0-4b0e-a4bb-1fad791c9e81"
      },
      "execution_count": 55,
      "outputs": [
        {
          "output_type": "display_data",
          "data": {
            "text/plain": [
              "\u001b[1mModel: \"functional\"\u001b[0m\n"
            ],
            "text/html": [
              "<pre style=\"white-space:pre;overflow-x:auto;line-height:normal;font-family:Menlo,'DejaVu Sans Mono',consolas,'Courier New',monospace\"><span style=\"font-weight: bold\">Model: \"functional\"</span>\n",
              "</pre>\n"
            ]
          },
          "metadata": {}
        },
        {
          "output_type": "display_data",
          "data": {
            "text/plain": [
              "┏━━━━━━━━━━━━━━━━━━━━━━━━━━━━━━━━━┳━━━━━━━━━━━━━━━━━━━━━━━━┳━━━━━━━━━━━━━━━┓\n",
              "┃\u001b[1m \u001b[0m\u001b[1mLayer (type)                   \u001b[0m\u001b[1m \u001b[0m┃\u001b[1m \u001b[0m\u001b[1mOutput Shape          \u001b[0m\u001b[1m \u001b[0m┃\u001b[1m \u001b[0m\u001b[1m      Param #\u001b[0m\u001b[1m \u001b[0m┃\n",
              "┡━━━━━━━━━━━━━━━━━━━━━━━━━━━━━━━━━╇━━━━━━━━━━━━━━━━━━━━━━━━╇━━━━━━━━━━━━━━━┩\n",
              "│ input_text (\u001b[38;5;33mInputLayer\u001b[0m)         │ (\u001b[38;5;45mNone\u001b[0m)                 │             \u001b[38;5;34m0\u001b[0m │\n",
              "├─────────────────────────────────┼────────────────────────┼───────────────┤\n",
              "│ use_embedding (\u001b[38;5;33mUSEEmbedding\u001b[0m)    │ (\u001b[38;5;45mNone\u001b[0m, \u001b[38;5;34m512\u001b[0m)            │             \u001b[38;5;34m0\u001b[0m │\n",
              "├─────────────────────────────────┼────────────────────────┼───────────────┤\n",
              "│ dense_1 (\u001b[38;5;33mDense\u001b[0m)                 │ (\u001b[38;5;45mNone\u001b[0m, \u001b[38;5;34m128\u001b[0m)            │        \u001b[38;5;34m65,664\u001b[0m │\n",
              "├─────────────────────────────────┼────────────────────────┼───────────────┤\n",
              "│ dense_2 (\u001b[38;5;33mDense\u001b[0m)                 │ (\u001b[38;5;45mNone\u001b[0m, \u001b[38;5;34m5\u001b[0m)              │           \u001b[38;5;34m645\u001b[0m │\n",
              "└─────────────────────────────────┴────────────────────────┴───────────────┘\n"
            ],
            "text/html": [
              "<pre style=\"white-space:pre;overflow-x:auto;line-height:normal;font-family:Menlo,'DejaVu Sans Mono',consolas,'Courier New',monospace\">┏━━━━━━━━━━━━━━━━━━━━━━━━━━━━━━━━━┳━━━━━━━━━━━━━━━━━━━━━━━━┳━━━━━━━━━━━━━━━┓\n",
              "┃<span style=\"font-weight: bold\"> Layer (type)                    </span>┃<span style=\"font-weight: bold\"> Output Shape           </span>┃<span style=\"font-weight: bold\">       Param # </span>┃\n",
              "┡━━━━━━━━━━━━━━━━━━━━━━━━━━━━━━━━━╇━━━━━━━━━━━━━━━━━━━━━━━━╇━━━━━━━━━━━━━━━┩\n",
              "│ input_text (<span style=\"color: #0087ff; text-decoration-color: #0087ff\">InputLayer</span>)         │ (<span style=\"color: #00d7ff; text-decoration-color: #00d7ff\">None</span>)                 │             <span style=\"color: #00af00; text-decoration-color: #00af00\">0</span> │\n",
              "├─────────────────────────────────┼────────────────────────┼───────────────┤\n",
              "│ use_embedding (<span style=\"color: #0087ff; text-decoration-color: #0087ff\">USEEmbedding</span>)    │ (<span style=\"color: #00d7ff; text-decoration-color: #00d7ff\">None</span>, <span style=\"color: #00af00; text-decoration-color: #00af00\">512</span>)            │             <span style=\"color: #00af00; text-decoration-color: #00af00\">0</span> │\n",
              "├─────────────────────────────────┼────────────────────────┼───────────────┤\n",
              "│ dense_1 (<span style=\"color: #0087ff; text-decoration-color: #0087ff\">Dense</span>)                 │ (<span style=\"color: #00d7ff; text-decoration-color: #00d7ff\">None</span>, <span style=\"color: #00af00; text-decoration-color: #00af00\">128</span>)            │        <span style=\"color: #00af00; text-decoration-color: #00af00\">65,664</span> │\n",
              "├─────────────────────────────────┼────────────────────────┼───────────────┤\n",
              "│ dense_2 (<span style=\"color: #0087ff; text-decoration-color: #0087ff\">Dense</span>)                 │ (<span style=\"color: #00d7ff; text-decoration-color: #00d7ff\">None</span>, <span style=\"color: #00af00; text-decoration-color: #00af00\">5</span>)              │           <span style=\"color: #00af00; text-decoration-color: #00af00\">645</span> │\n",
              "└─────────────────────────────────┴────────────────────────┴───────────────┘\n",
              "</pre>\n"
            ]
          },
          "metadata": {}
        },
        {
          "output_type": "display_data",
          "data": {
            "text/plain": [
              "\u001b[1m Total params: \u001b[0m\u001b[38;5;34m66,309\u001b[0m (259.02 KB)\n"
            ],
            "text/html": [
              "<pre style=\"white-space:pre;overflow-x:auto;line-height:normal;font-family:Menlo,'DejaVu Sans Mono',consolas,'Courier New',monospace\"><span style=\"font-weight: bold\"> Total params: </span><span style=\"color: #00af00; text-decoration-color: #00af00\">66,309</span> (259.02 KB)\n",
              "</pre>\n"
            ]
          },
          "metadata": {}
        },
        {
          "output_type": "display_data",
          "data": {
            "text/plain": [
              "\u001b[1m Trainable params: \u001b[0m\u001b[38;5;34m66,309\u001b[0m (259.02 KB)\n"
            ],
            "text/html": [
              "<pre style=\"white-space:pre;overflow-x:auto;line-height:normal;font-family:Menlo,'DejaVu Sans Mono',consolas,'Courier New',monospace\"><span style=\"font-weight: bold\"> Trainable params: </span><span style=\"color: #00af00; text-decoration-color: #00af00\">66,309</span> (259.02 KB)\n",
              "</pre>\n"
            ]
          },
          "metadata": {}
        },
        {
          "output_type": "display_data",
          "data": {
            "text/plain": [
              "\u001b[1m Non-trainable params: \u001b[0m\u001b[38;5;34m0\u001b[0m (0.00 B)\n"
            ],
            "text/html": [
              "<pre style=\"white-space:pre;overflow-x:auto;line-height:normal;font-family:Menlo,'DejaVu Sans Mono',consolas,'Courier New',monospace\"><span style=\"font-weight: bold\"> Non-trainable params: </span><span style=\"color: #00af00; text-decoration-color: #00af00\">0</span> (0.00 B)\n",
              "</pre>\n"
            ]
          },
          "metadata": {}
        }
      ]
    },
    {
      "cell_type": "code",
      "source": [
        "# model_2.fit(train_dataset,\n",
        "#             steps_per_epoch=int(0.1*len(train_dataset)),\n",
        "#             epochs=5,\n",
        "#             validation_data=valid_dataset,\n",
        "#             validation_steps=int(0.1*len(valid_dataset))\n",
        "#             )"
      ],
      "metadata": {
        "id": "KQguSUK-o9YI"
      },
      "execution_count": 56,
      "outputs": []
    },
    {
      "cell_type": "code",
      "source": [
        "# # Evaluate\n",
        "# model_2_preds=model_2.predict(valid_dataset)\n",
        "# model_2_preds"
      ],
      "metadata": {
        "id": "c7LbYLRVthi8"
      },
      "execution_count": 57,
      "outputs": []
    },
    {
      "cell_type": "code",
      "source": [
        "# model_2_results=calculate_results(validation_labels,tf.argmax(model_2_preds,axis=1))\n",
        "# model_2_results"
      ],
      "metadata": {
        "id": "Hw1XSxQjuhRE"
      },
      "execution_count": 58,
      "outputs": []
    },
    {
      "cell_type": "markdown",
      "source": [
        "# Model 3: Conv1D with character embeddings\n",
        "The difference between a character and token embedding is that the character embedding is created using sequences split into characters (e.g. hello -> [h, e, l, l, o]) where as a token embedding is created on sequences split into tokens. Token level embeddings split sequences into tokens (words) and embeddings each of them, character embeddings split sequences into characters and creates a feature vector for each."
      ],
      "metadata": {
        "id": "7rJl1_Fq2rkP"
      }
    },
    {
      "cell_type": "code",
      "source": [
        "# Make function to split senntences into characters\n",
        "def split_sentences(text):\n",
        "  return \" \".join(list(text))"
      ],
      "metadata": {
        "id": "QNDtnLCE80Om"
      },
      "execution_count": 59,
      "outputs": []
    },
    {
      "cell_type": "code",
      "source": [
        "# Testing functioon\n",
        "split_sentences(random_sentence)"
      ],
      "metadata": {
        "colab": {
          "base_uri": "https://localhost:8080/",
          "height": 70
        },
        "id": "LwoAAcFO9YwP",
        "outputId": "029f8807-7e20-4ffa-fad2-4bc0658462ab"
      },
      "execution_count": 60,
      "outputs": [
        {
          "output_type": "execute_result",
          "data": {
            "text/plain": [
              "'t h e   p r i m a r y   v a r i a b l e   w a s   t h e   c l i n i c a l   c u r e   (   a b s e n c e   o f   b u l b a r   c o n j u n c t i v a l   i n j e c t i o n   a n d   d i s c h a r g e   )   o n   d @   i n   t h e   w o r s e   e y e   f o r   p a t i e n t s   w i t h   p o s i t i v e   c u l t u r e s   o n   d @   .'"
            ],
            "application/vnd.google.colaboratory.intrinsic+json": {
              "type": "string"
            }
          },
          "metadata": {},
          "execution_count": 60
        }
      ]
    },
    {
      "cell_type": "code",
      "source": [
        "# Lets  create character level dataset by splitting our dataset into characters\n",
        "train_chars=[split_sentences(s) for s in train_sentences]\n",
        "val_chars=[split_sentences(s) for s in validation_sentences]\n",
        "test_chars=[split_sentences(s) for s in test_sentences]\n",
        "test_chars[0]"
      ],
      "metadata": {
        "colab": {
          "base_uri": "https://localhost:8080/",
          "height": 70
        },
        "id": "Irbg2c3A9jd7",
        "outputId": "b487c5a8-0e60-4f8b-a70f-f7b2f2bd9229"
      },
      "execution_count": 61,
      "outputs": [
        {
          "output_type": "execute_result",
          "data": {
            "text/plain": [
              "'t h i s   s t u d y   a n a l y z e d   l i v e r   f u n c t i o n   a b n o r m a l i t i e s   i n   h e a r t   f a i l u r e   p a t i e n t s   a d m i t t e d   w i t h   s e v e r e   a c u t e   d e c o m p e n s a t e d   h e a r t   f a i l u r e   (   a d h f   )   .'"
            ],
            "application/vnd.google.colaboratory.intrinsic+json": {
              "type": "string"
            }
          },
          "metadata": {},
          "execution_count": 61
        }
      ]
    },
    {
      "cell_type": "code",
      "source": [
        "# lets check the average character length\n",
        "char_length=[len(s) for s in train_sentences]\n",
        "mean_chars=np.mean(char_length)\n",
        "mean_chars"
      ],
      "metadata": {
        "id": "kRGFGAKX-4em",
        "colab": {
          "base_uri": "https://localhost:8080/"
        },
        "outputId": "d14b084a-c5fe-45fd-c25e-00608cc3af06"
      },
      "execution_count": 62,
      "outputs": [
        {
          "output_type": "execute_result",
          "data": {
            "text/plain": [
              "np.float64(149.3662574983337)"
            ]
          },
          "metadata": {},
          "execution_count": 62
        }
      ]
    },
    {
      "cell_type": "code",
      "source": [
        "plt.hist(char_length,bins=7\n",
        "         )"
      ],
      "metadata": {
        "colab": {
          "base_uri": "https://localhost:8080/",
          "height": 517
        },
        "id": "jzRD5GMHkGGQ",
        "outputId": "c6a3b4fd-c7e2-44a0-a873-8d4b2c6447bb"
      },
      "execution_count": 63,
      "outputs": [
        {
          "output_type": "execute_result",
          "data": {
            "text/plain": [
              "(array([1.41175e+05, 3.71110e+04, 1.60000e+03, 1.27000e+02, 2.10000e+01,\n",
              "        5.00000e+00, 1.00000e+00]),\n",
              " array([1.00000000e+00, 1.98857143e+02, 3.96714286e+02, 5.94571429e+02,\n",
              "        7.92428571e+02, 9.90285714e+02, 1.18814286e+03, 1.38600000e+03]),\n",
              " <BarContainer object of 7 artists>)"
            ]
          },
          "metadata": {},
          "execution_count": 63
        },
        {
          "output_type": "display_data",
          "data": {
            "text/plain": [
              "<Figure size 640x480 with 1 Axes>"
            ],
            "image/png": "[encoded data removed]"
          },
          "metadata": {}
        }
      ]
    },
    {
      "cell_type": "code",
      "source": [
        "# Lets find the 95% percentile of our character length\n",
        "output_char_length=int(np.percentile(char_length,95))\n",
        "output_char_length"
      ],
      "metadata": {
        "colab": {
          "base_uri": "https://localhost:8080/"
        },
        "id": "R-YwWrRbkKSu",
        "outputId": "915db04b-66c1-41d0-8b77-0a5af29f07a7"
      },
      "execution_count": 64,
      "outputs": [
        {
          "output_type": "execute_result",
          "data": {
            "text/plain": [
              "290"
            ]
          },
          "metadata": {},
          "execution_count": 64
        }
      ]
    },
    {
      "cell_type": "markdown",
      "source": [
        "we'll set the max_tokens ( the total number of different character in our sentences) to 28, in other words, 26 letters of the alphabet + space +OOV (Out of vocabolary or unknown) tokens.\n"
      ],
      "metadata": {
        "id": "rRLUTRKPlwb0"
      }
    },
    {
      "cell_type": "code",
      "source": [
        "# get all keyboard character for character level embeddings\n",
        "import string\n",
        "alphabet = string.ascii_lowercase+string.digits+string.punctuation\n",
        "alphabet"
      ],
      "metadata": {
        "colab": {
          "base_uri": "https://localhost:8080/",
          "height": 35
        },
        "id": "m8O3dukFlI3a",
        "outputId": "caf8bdeb-58c7-4113-f3f5-4d73011b1284"
      },
      "execution_count": 65,
      "outputs": [
        {
          "output_type": "execute_result",
          "data": {
            "text/plain": [
              "'abcdefghijklmnopqrstuvwxyz0123456789!\"#$%&\\'()*+,-./:;<=>?@[\\\\]^_`{|}~'"
            ],
            "application/vnd.google.colaboratory.intrinsic+json": {
              "type": "string"
            }
          },
          "metadata": {},
          "execution_count": 65
        }
      ]
    },
    {
      "cell_type": "code",
      "source": [
        "# create  char level token vectorizer instance\n",
        "NUM_CHAR_TOKENS=len(alphabet)+2 # this means number of characters in alphabet + space + OOV token\n",
        "char_vectorizer=tf.keras.layers.TextVectorization(max_tokens=NUM_CHAR_TOKENS,\n",
        "                                  output_sequence_length=output_char_length,\n",
        "                                  standardize=\"lower_and_strip_punctuation\",\n",
        "                                  name=\"char_vectorizer\")\n",
        "# adapt char vectorizer to training characters\n",
        "char_vectorizer.adapt(train_chars)"
      ],
      "metadata": {
        "id": "UxzFBPXMnLCc"
      },
      "execution_count": 66,
      "outputs": []
    },
    {
      "cell_type": "code",
      "source": [
        "# lets check the character vocabolary characterstics\n",
        "char_vocab= char_vectorizer.get_vocabulary()\n",
        "print(f\"Number of character in vocabolary {len(char_vocab)}\")\n",
        "print(f\" 5 most common characters { char_vocab[:5]}\")\n",
        "print(f\" 5 least common characters { char_vocab[:-5]}\")"
      ],
      "metadata": {
        "id": "1S-SDXHZo3Z4",
        "colab": {
          "base_uri": "https://localhost:8080/"
        },
        "outputId": "f9b0bb19-2235-492d-8d4c-8cf736ef84f1"
      },
      "execution_count": 67,
      "outputs": [
        {
          "output_type": "stream",
          "name": "stdout",
          "text": [
            "Number of character in vocabolary 28\n",
            " 5 most common characters ['', '[UNK]', np.str_('e'), np.str_('t'), np.str_('i')]\n",
            " 5 least common characters ['', '[UNK]', np.str_('e'), np.str_('t'), np.str_('i'), np.str_('a'), np.str_('n'), np.str_('o'), np.str_('r'), np.str_('s'), np.str_('d'), np.str_('c'), np.str_('l'), np.str_('h'), np.str_('p'), np.str_('m'), np.str_('u'), np.str_('f'), np.str_('g'), np.str_('y'), np.str_('w'), np.str_('v'), np.str_('b')]\n"
          ]
        }
      ]
    },
    {
      "cell_type": "code",
      "source": [
        "# Lets test out char vectorizer\n",
        "random_chars=random.choice(train_chars)\n",
        "print(f\"Random sentence : {random_chars}\")\n",
        "print(f\"vectorized sentence : {char_vectorizer([random_chars])}\")\n",
        "print(f\"length: {len(char_vectorizer([random_chars])[0])}\")"
      ],
      "metadata": {
        "colab": {
          "base_uri": "https://localhost:8080/"
        },
        "id": "dA2Fsh-XXqjV",
        "outputId": "08b909ad-1535-4e9f-cac6-c4ca2ede5329"
      },
      "execution_count": 68,
      "outputs": [
        {
          "output_type": "stream",
          "name": "stdout",
          "text": [
            "Random sentence : a   p e r i p a n c r e a t i c   v a s c u l a r   r e c o n s t r u c t i o n   c a n   r e v e a l   t h e   v a s c u l a r   a n a t o m y   ,   v a r i a t i o n s   o f   p e r i p a n c r e a t i c   v a s c u l a r   ,   a n d   t u m o r - i n d u c e d   v a s c u l a r   c h a n g e s   ;   t h e   a p p l i c a t i o n   o f   t h e   s i m u l a t i o n   s u r g e r y   p l a t f o r m   c o u l d   r e d u c e   s u r g i c a l   t r a u m a   a n d   d e c r e a s e   o p e r a t i v e   t i m e   .\n",
            "vectorized sentence : [[ 5 14  2  8  4 14  5  6 11  8  2  5  3  4 11 21  5  9 11 16 12  5  8  8\n",
            "   2 11  7  6  9  3  8 16 11  3  4  7  6 11  5  6  8  2 21  2  5 12  3 13\n",
            "   2 21  5  9 11 16 12  5  8  5  6  5  3  7 15 19 21  5  8  4  5  3  4  7\n",
            "   6  9  7 17 14  2  8  4 14  5  6 11  8  2  5  3  4 11 21  5  9 11 16 12\n",
            "   5  8  5  6 10  3 16 15  7  8  4  6 10 16 11  2 10 21  5  9 11 16 12  5\n",
            "   8 11 13  5  6 18  2  9  3 13  2  5 14 14 12  4 11  5  3  4  7  6  7 17\n",
            "   3 13  2  9  4 15 16 12  5  3  4  7  6  9 16  8 18  2  8 19 14 12  5  3\n",
            "  17  7  8 15 11  7 16 12 10  8  2 10 16 11  2  9 16  8 18  4 11  5 12  3\n",
            "   8  5 16 15  5  5  6 10 10  2 11  8  2  5  9  2  7 14  2  8  5  3  4 21\n",
            "   2  3  4 15  2  0  0  0  0  0  0  0  0  0  0  0  0  0  0  0  0  0  0  0\n",
            "   0  0  0  0  0  0  0  0  0  0  0  0  0  0  0  0  0  0  0  0  0  0  0  0\n",
            "   0  0  0  0  0  0  0  0  0  0  0  0  0  0  0  0  0  0  0  0  0  0  0  0\n",
            "   0  0]]\n",
            "length: 290\n"
          ]
        }
      ]
    },
    {
      "cell_type": "markdown",
      "source": [
        "The input dimension (input_dim) will be equal to the number of different characters in our char_vocab (28). And since we're following the structure of the model in Figure 1 of Neural Networks for [Joint Sentence Classification in Medical Paper Abstracts](https://arxiv.org/pdf/1612.05251), the output dimension of the character embedding (output_dim) will be 25."
      ],
      "metadata": {
        "id": "YbKjCT5Ufb3D"
      }
    },
    {
      "cell_type": "code",
      "source": [
        "# create a character embedding layer\n",
        "print(random_chars)\n",
        "char_embedding=layers.Embedding(input_dim=NUM_CHAR_TOKENS,\n",
        "                                output_dim=25,\n",
        "                                mask_zero=False,\n",
        "                                name=\"char_embedding\")\n",
        "\n",
        "char_embedding_output=char_embedding(char_vectorizer([random_chars]))\n",
        "print(char_embedding_output)"
      ],
      "metadata": {
        "colab": {
          "base_uri": "https://localhost:8080/"
        },
        "id": "qhps2tKjZErA",
        "outputId": "d86c00ad-a54a-4efe-a3cf-961ffdca1f85"
      },
      "execution_count": 69,
      "outputs": [
        {
          "output_type": "stream",
          "name": "stdout",
          "text": [
            "a   p e r i p a n c r e a t i c   v a s c u l a r   r e c o n s t r u c t i o n   c a n   r e v e a l   t h e   v a s c u l a r   a n a t o m y   ,   v a r i a t i o n s   o f   p e r i p a n c r e a t i c   v a s c u l a r   ,   a n d   t u m o r - i n d u c e d   v a s c u l a r   c h a n g e s   ;   t h e   a p p l i c a t i o n   o f   t h e   s i m u l a t i o n   s u r g e r y   p l a t f o r m   c o u l d   r e d u c e   s u r g i c a l   t r a u m a   a n d   d e c r e a s e   o p e r a t i v e   t i m e   .\n",
            "tf.Tensor(\n",
            "[[[ 0.03144879 -0.04768426 -0.01228505 ... -0.00252132  0.02809175\n",
            "   -0.01027115]\n",
            "  [ 0.02054378  0.04792613 -0.0427641  ... -0.03164767  0.00421432\n",
            "    0.00787612]\n",
            "  [ 0.03374388 -0.03808713  0.01080507 ... -0.01620847 -0.00734388\n",
            "   -0.00747041]\n",
            "  ...\n",
            "  [-0.02325705  0.00279845  0.00853644 ... -0.04585192  0.03234652\n",
            "   -0.02300501]\n",
            "  [-0.02325705  0.00279845  0.00853644 ... -0.04585192  0.03234652\n",
            "   -0.02300501]\n",
            "  [-0.02325705  0.00279845  0.00853644 ... -0.04585192  0.03234652\n",
            "   -0.02300501]]], shape=(1, 290, 25), dtype=float32)\n"
          ]
        }
      ]
    },
    {
      "cell_type": "markdown",
      "source": [
        "Lets make our model\n",
        "\n",
        "Input (character-level text) -> Tokenize -> Embedding -> Layers (Conv1D, GlobalMaxPool1D) -> Output (label probability)"
      ],
      "metadata": {
        "id": "zVTf4mvPlX6l"
      }
    },
    {
      "cell_type": "code",
      "source": [
        "inputs=layers.Input(shape=(1,),dtype=\"string\")\n",
        "char_vectors=char_vectorizer(inputs)\n",
        "embedding=char_embedding(char_vectors)\n",
        "x=layers.Conv1D(64,kernel_size=5,padding=\"same\", activation=\"relu\")(embedding)\n",
        "x=layers.GlobalMaxPool1D()(x)\n",
        "outputs=layers.Dense(num_classes,activation=\"softmax\")(x)\n",
        "model_3=tf.keras.Model(inputs,outputs,name=\"model_3_char_embedding\")\n",
        "\n",
        "model_3.compile(loss=\"categorical_crossentropy\",\n",
        "                optimizer=tf.keras.optimizers.Adam(),\n",
        "                metrics=['accuracy']\n",
        "                )"
      ],
      "metadata": {
        "id": "nIDsyPkNhPHE"
      },
      "execution_count": 70,
      "outputs": []
    },
    {
      "cell_type": "code",
      "source": [
        "model_3.summary()"
      ],
      "metadata": {
        "colab": {
          "base_uri": "https://localhost:8080/",
          "height": 355
        },
        "id": "MHG-14Fun51S",
        "outputId": "0ff86a99-a567-4970-a38d-0f6564257911"
      },
      "execution_count": 71,
      "outputs": [
        {
          "output_type": "display_data",
          "data": {
            "text/plain": [
              "\u001b[1mModel: \"model_3_char_embedding\"\u001b[0m\n"
            ],
            "text/html": [
              "<pre style=\"white-space:pre;overflow-x:auto;line-height:normal;font-family:Menlo,'DejaVu Sans Mono',consolas,'Courier New',monospace\"><span style=\"font-weight: bold\">Model: \"model_3_char_embedding\"</span>\n",
              "</pre>\n"
            ]
          },
          "metadata": {}
        },
        {
          "output_type": "display_data",
          "data": {
            "text/plain": [
              "┏━━━━━━━━━━━━━━━━━━━━━━━━━━━━━━━━━┳━━━━━━━━━━━━━━━━━━━━━━━━┳━━━━━━━━━━━━━━━┓\n",
              "┃\u001b[1m \u001b[0m\u001b[1mLayer (type)                   \u001b[0m\u001b[1m \u001b[0m┃\u001b[1m \u001b[0m\u001b[1mOutput Shape          \u001b[0m\u001b[1m \u001b[0m┃\u001b[1m \u001b[0m\u001b[1m      Param #\u001b[0m\u001b[1m \u001b[0m┃\n",
              "┡━━━━━━━━━━━━━━━━━━━━━━━━━━━━━━━━━╇━━━━━━━━━━━━━━━━━━━━━━━━╇━━━━━━━━━━━━━━━┩\n",
              "│ input_layer_1 (\u001b[38;5;33mInputLayer\u001b[0m)      │ (\u001b[38;5;45mNone\u001b[0m, \u001b[38;5;34m1\u001b[0m)              │             \u001b[38;5;34m0\u001b[0m │\n",
              "├─────────────────────────────────┼────────────────────────┼───────────────┤\n",
              "│ char_vectorizer                 │ (\u001b[38;5;45mNone\u001b[0m, \u001b[38;5;34m290\u001b[0m)            │             \u001b[38;5;34m0\u001b[0m │\n",
              "│ (\u001b[38;5;33mTextVectorization\u001b[0m)             │                        │               │\n",
              "├─────────────────────────────────┼────────────────────────┼───────────────┤\n",
              "│ char_embedding (\u001b[38;5;33mEmbedding\u001b[0m)      │ (\u001b[38;5;45mNone\u001b[0m, \u001b[38;5;34m290\u001b[0m, \u001b[38;5;34m25\u001b[0m)        │         \u001b[38;5;34m1,750\u001b[0m │\n",
              "├─────────────────────────────────┼────────────────────────┼───────────────┤\n",
              "│ conv1d_1 (\u001b[38;5;33mConv1D\u001b[0m)               │ (\u001b[38;5;45mNone\u001b[0m, \u001b[38;5;34m290\u001b[0m, \u001b[38;5;34m64\u001b[0m)        │         \u001b[38;5;34m8,064\u001b[0m │\n",
              "├─────────────────────────────────┼────────────────────────┼───────────────┤\n",
              "│ global_max_pooling1d            │ (\u001b[38;5;45mNone\u001b[0m, \u001b[38;5;34m64\u001b[0m)             │             \u001b[38;5;34m0\u001b[0m │\n",
              "│ (\u001b[38;5;33mGlobalMaxPooling1D\u001b[0m)            │                        │               │\n",
              "├─────────────────────────────────┼────────────────────────┼───────────────┤\n",
              "│ dense_3 (\u001b[38;5;33mDense\u001b[0m)                 │ (\u001b[38;5;45mNone\u001b[0m, \u001b[38;5;34m5\u001b[0m)              │           \u001b[38;5;34m325\u001b[0m │\n",
              "└─────────────────────────────────┴────────────────────────┴───────────────┘\n"
            ],
            "text/html": [
              "<pre style=\"white-space:pre;overflow-x:auto;line-height:normal;font-family:Menlo,'DejaVu Sans Mono',consolas,'Courier New',monospace\">┏━━━━━━━━━━━━━━━━━━━━━━━━━━━━━━━━━┳━━━━━━━━━━━━━━━━━━━━━━━━┳━━━━━━━━━━━━━━━┓\n",
              "┃<span style=\"font-weight: bold\"> Layer (type)                    </span>┃<span style=\"font-weight: bold\"> Output Shape           </span>┃<span style=\"font-weight: bold\">       Param # </span>┃\n",
              "┡━━━━━━━━━━━━━━━━━━━━━━━━━━━━━━━━━╇━━━━━━━━━━━━━━━━━━━━━━━━╇━━━━━━━━━━━━━━━┩\n",
              "│ input_layer_1 (<span style=\"color: #0087ff; text-decoration-color: #0087ff\">InputLayer</span>)      │ (<span style=\"color: #00d7ff; text-decoration-color: #00d7ff\">None</span>, <span style=\"color: #00af00; text-decoration-color: #00af00\">1</span>)              │             <span style=\"color: #00af00; text-decoration-color: #00af00\">0</span> │\n",
              "├─────────────────────────────────┼────────────────────────┼───────────────┤\n",
              "│ char_vectorizer                 │ (<span style=\"color: #00d7ff; text-decoration-color: #00d7ff\">None</span>, <span style=\"color: #00af00; text-decoration-color: #00af00\">290</span>)            │             <span style=\"color: #00af00; text-decoration-color: #00af00\">0</span> │\n",
              "│ (<span style=\"color: #0087ff; text-decoration-color: #0087ff\">TextVectorization</span>)             │                        │               │\n",
              "├─────────────────────────────────┼────────────────────────┼───────────────┤\n",
              "│ char_embedding (<span style=\"color: #0087ff; text-decoration-color: #0087ff\">Embedding</span>)      │ (<span style=\"color: #00d7ff; text-decoration-color: #00d7ff\">None</span>, <span style=\"color: #00af00; text-decoration-color: #00af00\">290</span>, <span style=\"color: #00af00; text-decoration-color: #00af00\">25</span>)        │         <span style=\"color: #00af00; text-decoration-color: #00af00\">1,750</span> │\n",
              "├─────────────────────────────────┼────────────────────────┼───────────────┤\n",
              "│ conv1d_1 (<span style=\"color: #0087ff; text-decoration-color: #0087ff\">Conv1D</span>)               │ (<span style=\"color: #00d7ff; text-decoration-color: #00d7ff\">None</span>, <span style=\"color: #00af00; text-decoration-color: #00af00\">290</span>, <span style=\"color: #00af00; text-decoration-color: #00af00\">64</span>)        │         <span style=\"color: #00af00; text-decoration-color: #00af00\">8,064</span> │\n",
              "├─────────────────────────────────┼────────────────────────┼───────────────┤\n",
              "│ global_max_pooling1d            │ (<span style=\"color: #00d7ff; text-decoration-color: #00d7ff\">None</span>, <span style=\"color: #00af00; text-decoration-color: #00af00\">64</span>)             │             <span style=\"color: #00af00; text-decoration-color: #00af00\">0</span> │\n",
              "│ (<span style=\"color: #0087ff; text-decoration-color: #0087ff\">GlobalMaxPooling1D</span>)            │                        │               │\n",
              "├─────────────────────────────────┼────────────────────────┼───────────────┤\n",
              "│ dense_3 (<span style=\"color: #0087ff; text-decoration-color: #0087ff\">Dense</span>)                 │ (<span style=\"color: #00d7ff; text-decoration-color: #00d7ff\">None</span>, <span style=\"color: #00af00; text-decoration-color: #00af00\">5</span>)              │           <span style=\"color: #00af00; text-decoration-color: #00af00\">325</span> │\n",
              "└─────────────────────────────────┴────────────────────────┴───────────────┘\n",
              "</pre>\n"
            ]
          },
          "metadata": {}
        },
        {
          "output_type": "display_data",
          "data": {
            "text/plain": [
              "\u001b[1m Total params: \u001b[0m\u001b[38;5;34m10,139\u001b[0m (39.61 KB)\n"
            ],
            "text/html": [
              "<pre style=\"white-space:pre;overflow-x:auto;line-height:normal;font-family:Menlo,'DejaVu Sans Mono',consolas,'Courier New',monospace\"><span style=\"font-weight: bold\"> Total params: </span><span style=\"color: #00af00; text-decoration-color: #00af00\">10,139</span> (39.61 KB)\n",
              "</pre>\n"
            ]
          },
          "metadata": {}
        },
        {
          "output_type": "display_data",
          "data": {
            "text/plain": [
              "\u001b[1m Trainable params: \u001b[0m\u001b[38;5;34m10,139\u001b[0m (39.61 KB)\n"
            ],
            "text/html": [
              "<pre style=\"white-space:pre;overflow-x:auto;line-height:normal;font-family:Menlo,'DejaVu Sans Mono',consolas,'Courier New',monospace\"><span style=\"font-weight: bold\"> Trainable params: </span><span style=\"color: #00af00; text-decoration-color: #00af00\">10,139</span> (39.61 KB)\n",
              "</pre>\n"
            ]
          },
          "metadata": {}
        },
        {
          "output_type": "display_data",
          "data": {
            "text/plain": [
              "\u001b[1m Non-trainable params: \u001b[0m\u001b[38;5;34m0\u001b[0m (0.00 B)\n"
            ],
            "text/html": [
              "<pre style=\"white-space:pre;overflow-x:auto;line-height:normal;font-family:Menlo,'DejaVu Sans Mono',consolas,'Courier New',monospace\"><span style=\"font-weight: bold\"> Non-trainable params: </span><span style=\"color: #00af00; text-decoration-color: #00af00\">0</span> (0.00 B)\n",
              "</pre>\n"
            ]
          },
          "metadata": {}
        }
      ]
    },
    {
      "cell_type": "markdown",
      "source": [
        "Before fitting our model, lets create a char-level batched PrefetchedDataset"
      ],
      "metadata": {
        "id": "UwfxVe47oFUU"
      }
    },
    {
      "cell_type": "code",
      "source": [
        "train_char_dataset=tf.data.Dataset.from_tensor_slices((train_chars,train_labels_one_hot)).batch(32).prefetch(tf.data.AUTOTUNE)\n",
        "val_char_dataset=tf.data.Dataset.from_tensor_slices((val_chars,validation_labels_one_hot)).batch(32).prefetch(tf.data.AUTOTUNE)"
      ],
      "metadata": {
        "id": "xkG8eBWgn8bg"
      },
      "execution_count": 72,
      "outputs": []
    },
    {
      "cell_type": "code",
      "source": [
        "train_char_dataset"
      ],
      "metadata": {
        "colab": {
          "base_uri": "https://localhost:8080/"
        },
        "id": "1UWDtFlQpbGS",
        "outputId": "c2e50da5-028b-49d2-8cf6-7d2b1a49d36b"
      },
      "execution_count": 73,
      "outputs": [
        {
          "output_type": "execute_result",
          "data": {
            "text/plain": [
              "<_PrefetchDataset element_spec=(TensorSpec(shape=(None,), dtype=tf.string, name=None), TensorSpec(shape=(None, 5), dtype=tf.float64, name=None))>"
            ]
          },
          "metadata": {},
          "execution_count": 73
        }
      ]
    },
    {
      "cell_type": "markdown",
      "source": [
        "Just line our token-level sequence model, to save time with our experiments, we'll fit our model in 10% of batches"
      ],
      "metadata": {
        "id": "7S5YUlFMpjid"
      }
    },
    {
      "cell_type": "code",
      "source": [
        "model_3_history=model_3.fit(train_char_dataset,\n",
        "                            steps_per_epoch=int(0.1*len(train_char_dataset)),\n",
        "                            epochs=5,\n",
        "                            validation_data=val_char_dataset,\n",
        "                            validation_steps=int(0.1*len(val_char_dataset)))\n"
      ],
      "metadata": {
        "colab": {
          "base_uri": "https://localhost:8080/"
        },
        "id": "WhtE0vx8peGM",
        "outputId": "bed95d2b-27bd-4e94-f2cd-f46dcd2d8169"
      },
      "execution_count": 74,
      "outputs": [
        {
          "output_type": "stream",
          "name": "stdout",
          "text": [
            "Epoch 1/5\n",
            "\u001b[1m562/562\u001b[0m \u001b[32m━━━━━━━━━━━━━━━━━━━━\u001b[0m\u001b[37m\u001b[0m \u001b[1m14s\u001b[0m 22ms/step - accuracy: 0.4360 - loss: 1.3917 - val_accuracy: 0.5805 - val_loss: 1.0643\n",
            "Epoch 2/5\n",
            "\u001b[1m562/562\u001b[0m \u001b[32m━━━━━━━━━━━━━━━━━━━━\u001b[0m\u001b[37m\u001b[0m \u001b[1m21s\u001b[0m 37ms/step - accuracy: 0.5823 - loss: 1.0537 - val_accuracy: 0.6220 - val_loss: 0.9588\n",
            "Epoch 3/5\n",
            "\u001b[1m562/562\u001b[0m \u001b[32m━━━━━━━━━━━━━━━━━━━━\u001b[0m\u001b[37m\u001b[0m \u001b[1m20s\u001b[0m 36ms/step - accuracy: 0.6259 - loss: 0.9525 - val_accuracy: 0.6632 - val_loss: 0.8717\n",
            "Epoch 4/5\n",
            "\u001b[1m562/562\u001b[0m \u001b[32m━━━━━━━━━━━━━━━━━━━━\u001b[0m\u001b[37m\u001b[0m \u001b[1m21s\u001b[0m 37ms/step - accuracy: 0.6574 - loss: 0.8942 - val_accuracy: 0.6752 - val_loss: 0.8390\n",
            "Epoch 5/5\n",
            "\u001b[1m562/562\u001b[0m \u001b[32m━━━━━━━━━━━━━━━━━━━━\u001b[0m\u001b[37m\u001b[0m \u001b[1m20s\u001b[0m 36ms/step - accuracy: 0.6705 - loss: 0.8598 - val_accuracy: 0.6832 - val_loss: 0.8184\n"
          ]
        }
      ]
    },
    {
      "cell_type": "code",
      "source": [
        "# evaluate on whole validation dataset\n",
        "model_3.evaluate(val_char_dataset)"
      ],
      "metadata": {
        "colab": {
          "base_uri": "https://localhost:8080/"
        },
        "id": "LA1L48AYrXqs",
        "outputId": "fefd6d32-08f4-4f9e-8629-a8bad1f450c4"
      },
      "execution_count": 75,
      "outputs": [
        {
          "output_type": "stream",
          "name": "stdout",
          "text": [
            "\u001b[1m945/945\u001b[0m \u001b[32m━━━━━━━━━━━━━━━━━━━━\u001b[0m\u001b[37m\u001b[0m \u001b[1m8s\u001b[0m 8ms/step - accuracy: 0.6785 - loss: 0.8316\n"
          ]
        },
        {
          "output_type": "execute_result",
          "data": {
            "text/plain": [
              "[0.8341326713562012, 0.6774791479110718]"
            ]
          },
          "metadata": {},
          "execution_count": 75
        }
      ]
    },
    {
      "cell_type": "code",
      "source": [
        "# Make predictions\n",
        "model_3_pred=model_3.predict(val_char_dataset)\n",
        "model_3_pred"
      ],
      "metadata": {
        "colab": {
          "base_uri": "https://localhost:8080/"
        },
        "id": "p5_Bu6bdqf2M",
        "outputId": "a23069ab-9740-44b7-b224-8d4addcb459c"
      },
      "execution_count": 76,
      "outputs": [
        {
          "output_type": "stream",
          "name": "stdout",
          "text": [
            "\u001b[1m945/945\u001b[0m \u001b[32m━━━━━━━━━━━━━━━━━━━━\u001b[0m\u001b[37m\u001b[0m \u001b[1m7s\u001b[0m 8ms/step\n"
          ]
        },
        {
          "output_type": "execute_result",
          "data": {
            "text/plain": [
              "array([[0.19840702, 0.58940476, 0.09225312, 0.10132433, 0.01861068],\n",
              "       [0.24499084, 0.551572  , 0.02066758, 0.15223844, 0.0305311 ],\n",
              "       [0.12025159, 0.19943231, 0.30574754, 0.32619816, 0.04837038],\n",
              "       ...,\n",
              "       [0.01006243, 0.01778722, 0.09435444, 0.02062404, 0.8571719 ],\n",
              "       [0.01370417, 0.05878102, 0.50876456, 0.00914475, 0.40960547],\n",
              "       [0.2887496 , 0.5338155 , 0.09336692, 0.0718392 , 0.0122288 ]],\n",
              "      dtype=float32)"
            ]
          },
          "metadata": {},
          "execution_count": 76
        }
      ]
    },
    {
      "cell_type": "code",
      "source": [
        "# convert predictions to classes\n",
        "model_3_pred_classes=tf.argmax(model_3_pred,axis=1)\n",
        "model_3_pred_classes"
      ],
      "metadata": {
        "colab": {
          "base_uri": "https://localhost:8080/"
        },
        "id": "oEeyAhLbq7f_",
        "outputId": "fa2aac74-27d0-4f15-ed8b-ca2d09a27654"
      },
      "execution_count": 77,
      "outputs": [
        {
          "output_type": "execute_result",
          "data": {
            "text/plain": [
              "<tf.Tensor: shape=(30212,), dtype=int64, numpy=array([1, 1, 3, ..., 4, 2, 1])>"
            ]
          },
          "metadata": {},
          "execution_count": 77
        }
      ]
    },
    {
      "cell_type": "code",
      "source": [
        "model_3_results=calculate_results(validation_labels,model_3_pred_classes)\n",
        "model_3_results"
      ],
      "metadata": {
        "colab": {
          "base_uri": "https://localhost:8080/"
        },
        "id": "LZnvp2jdtY0m",
        "outputId": "4d79e010-8634-4529-d67d-82252039a8c1"
      },
      "execution_count": 78,
      "outputs": [
        {
          "output_type": "execute_result",
          "data": {
            "text/plain": [
              "{'accuracy': 67.74791473586654,\n",
              " 'precision': 0.6792089062100445,\n",
              " 'recall': 0.6774791473586654,\n",
              " 'f1': 0.6709018291445005}"
            ]
          },
          "metadata": {},
          "execution_count": 78
        }
      ]
    },
    {
      "cell_type": "markdown",
      "source": [
        "# Model 4: combining pretrained token embeddings and char embeddings (hybrid embedding)\n",
        "\n",
        "To start replicating (or getting close to replicating) the model in Figure 1, we're going to go through the following steps:\n",
        "\n",
        "Create a token-level model (similar to model_1)\n",
        "Create a character-level model (similar to model_3 with a slight modification to reflect the paper)\n",
        "Combine (using layers.Concatenate) the outputs of 1 and 2\n",
        "Build a series of output layers on top of 3 similar to Figure 1 and section 4.2 of Neural Networks for Joint Sentence Classification in Medical Paper Abstracts\n",
        "Construct a model which takes token and character-level sequences as input and produces sequence label probabilities as output"
      ],
      "metadata": {
        "id": "aslSAESftxKe"
      }
    },
    {
      "cell_type": "code",
      "source": [
        "import tensorflow as tf\n",
        "from tensorflow import keras\n",
        "from tensorflow.keras import layers\n",
        "import tensorflow_hub as hub\n",
        "import tensorflow_text as text  # Required for USE\n",
        "\n",
        "# Step 1: Wrap the USE model in a Keras-compatible layer\n",
        "class USEWrapper(layers.Layer):\n",
        "    def __init__(self, **kwargs):\n",
        "        super(USEWrapper, self).__init__(**kwargs)\n",
        "        self.use = hub.load(\"https://tfhub.dev/google/universal-sentence-encoder/4\")\n",
        "\n",
        "    def call(self, inputs):\n",
        "        return self.use(inputs)\n",
        "\n",
        "# Step 2: Token-level input model\n",
        "token_inputs = layers.Input(shape=(), dtype=tf.string, name=\"token_input\")\n",
        "token_embedding = USEWrapper(name=\"use_layer\")(token_inputs)\n",
        "token_outputs = layers.Dense(128, activation=\"relu\")(token_embedding)\n",
        "token_model = keras.Model(inputs=token_inputs, outputs=token_outputs)\n",
        "\n",
        "char_inputs = layers.Input(shape=(1,), dtype=tf.string, name=\"char_input\")\n",
        "char_vectors = char_vectorizer(char_inputs)\n",
        "char_embedded = char_embedding(char_vectors)\n",
        "char_bi_lstm = layers.Bidirectional(layers.LSTM(25))(char_embedded)\n",
        "char_model = keras.Model(inputs=char_inputs, outputs=char_bi_lstm)\n",
        "\n",
        "# Step 4: Concatenate token and char outputs\n",
        "token_char_concat = layers.Concatenate(name=\"concatenated\")(\n",
        "    [token_model.output, char_model.output]\n",
        ")\n",
        "\n",
        "# Step 5: Output layers\n",
        "x = layers.Dropout(0.5)(token_char_concat)\n",
        "x = layers.Dense(200, activation=\"relu\")(x)\n",
        "x = layers.Dropout(0.5)(x)\n",
        "output_layer = layers.Dense(5, activation=\"softmax\")(x)  # Adjust number of classes\n",
        "\n",
        "# Step 6: Full model\n",
        "model_4 = keras.Model(\n",
        "    inputs=[token_model.input, char_model.input],\n",
        "    outputs=output_layer,\n",
        "    name=\"model_4_hybrid\"\n",
        ")\n",
        "\n",
        "# Compile model\n",
        "model_4.compile(\n",
        "    loss=\"categorical_crossentropy\",\n",
        "    optimizer=\"adam\",\n",
        "    metrics=[\"accuracy\"]\n",
        ")\n",
        "\n",
        "# Optional: Print model summary\n",
        "model_4.summary()\n"
      ],
      "metadata": {
        "colab": {
          "base_uri": "https://localhost:8080/",
          "height": 629
        },
        "id": "vFm_VUqT54vx",
        "outputId": "ab56d46a-5e11-4d89-c967-40ce418c7c61"
      },
      "execution_count": 79,
      "outputs": [
        {
          "output_type": "display_data",
          "data": {
            "text/plain": [
              "\u001b[1mModel: \"model_4_hybrid\"\u001b[0m\n"
            ],
            "text/html": [
              "<pre style=\"white-space:pre;overflow-x:auto;line-height:normal;font-family:Menlo,'DejaVu Sans Mono',consolas,'Courier New',monospace\"><span style=\"font-weight: bold\">Model: \"model_4_hybrid\"</span>\n",
              "</pre>\n"
            ]
          },
          "metadata": {}
        },
        {
          "output_type": "display_data",
          "data": {
            "text/plain": [
              "┏━━━━━━━━━━━━━━━━━━━━━┳━━━━━━━━━━━━━━━━━━━┳━━━━━━━━━━━━┳━━━━━━━━━━━━━━━━━━━┓\n",
              "┃\u001b[1m \u001b[0m\u001b[1mLayer (type)       \u001b[0m\u001b[1m \u001b[0m┃\u001b[1m \u001b[0m\u001b[1mOutput Shape     \u001b[0m\u001b[1m \u001b[0m┃\u001b[1m \u001b[0m\u001b[1m   Param #\u001b[0m\u001b[1m \u001b[0m┃\u001b[1m \u001b[0m\u001b[1mConnected to     \u001b[0m\u001b[1m \u001b[0m┃\n",
              "┡━━━━━━━━━━━━━━━━━━━━━╇━━━━━━━━━━━━━━━━━━━╇━━━━━━━━━━━━╇━━━━━━━━━━━━━━━━━━━┩\n",
              "│ char_input          │ (\u001b[38;5;45mNone\u001b[0m, \u001b[38;5;34m1\u001b[0m)         │          \u001b[38;5;34m0\u001b[0m │ -                 │\n",
              "│ (\u001b[38;5;33mInputLayer\u001b[0m)        │                   │            │                   │\n",
              "├─────────────────────┼───────────────────┼────────────┼───────────────────┤\n",
              "│ token_input         │ (\u001b[38;5;45mNone\u001b[0m)            │          \u001b[38;5;34m0\u001b[0m │ -                 │\n",
              "│ (\u001b[38;5;33mInputLayer\u001b[0m)        │                   │            │                   │\n",
              "├─────────────────────┼───────────────────┼────────────┼───────────────────┤\n",
              "│ char_vectorizer     │ (\u001b[38;5;45mNone\u001b[0m, \u001b[38;5;34m290\u001b[0m)       │          \u001b[38;5;34m0\u001b[0m │ char_input[\u001b[38;5;34m0\u001b[0m][\u001b[38;5;34m0\u001b[0m]  │\n",
              "│ (\u001b[38;5;33mTextVectorization\u001b[0m) │                   │            │                   │\n",
              "├─────────────────────┼───────────────────┼────────────┼───────────────────┤\n",
              "│ use_layer           │ (\u001b[38;5;45mNone\u001b[0m, \u001b[38;5;34m512\u001b[0m)       │          \u001b[38;5;34m0\u001b[0m │ token_input[\u001b[38;5;34m0\u001b[0m][\u001b[38;5;34m0\u001b[0m] │\n",
              "│ (\u001b[38;5;33mUSEWrapper\u001b[0m)        │                   │            │                   │\n",
              "├─────────────────────┼───────────────────┼────────────┼───────────────────┤\n",
              "│ char_embedding      │ (\u001b[38;5;45mNone\u001b[0m, \u001b[38;5;34m290\u001b[0m, \u001b[38;5;34m25\u001b[0m)   │      \u001b[38;5;34m1,750\u001b[0m │ char_vectorizer[\u001b[38;5;34m…\u001b[0m │\n",
              "│ (\u001b[38;5;33mEmbedding\u001b[0m)         │                   │            │                   │\n",
              "├─────────────────────┼───────────────────┼────────────┼───────────────────┤\n",
              "│ dense_4 (\u001b[38;5;33mDense\u001b[0m)     │ (\u001b[38;5;45mNone\u001b[0m, \u001b[38;5;34m128\u001b[0m)       │     \u001b[38;5;34m65,664\u001b[0m │ use_layer[\u001b[38;5;34m0\u001b[0m][\u001b[38;5;34m0\u001b[0m]   │\n",
              "├─────────────────────┼───────────────────┼────────────┼───────────────────┤\n",
              "│ bidirectional       │ (\u001b[38;5;45mNone\u001b[0m, \u001b[38;5;34m50\u001b[0m)        │     \u001b[38;5;34m10,200\u001b[0m │ char_embedding[\u001b[38;5;34m1\u001b[0m… │\n",
              "│ (\u001b[38;5;33mBidirectional\u001b[0m)     │                   │            │                   │\n",
              "├─────────────────────┼───────────────────┼────────────┼───────────────────┤\n",
              "│ concatenated        │ (\u001b[38;5;45mNone\u001b[0m, \u001b[38;5;34m178\u001b[0m)       │          \u001b[38;5;34m0\u001b[0m │ dense_4[\u001b[38;5;34m0\u001b[0m][\u001b[38;5;34m0\u001b[0m],    │\n",
              "│ (\u001b[38;5;33mConcatenate\u001b[0m)       │                   │            │ bidirectional[\u001b[38;5;34m0\u001b[0m]… │\n",
              "├─────────────────────┼───────────────────┼────────────┼───────────────────┤\n",
              "│ dropout (\u001b[38;5;33mDropout\u001b[0m)   │ (\u001b[38;5;45mNone\u001b[0m, \u001b[38;5;34m178\u001b[0m)       │          \u001b[38;5;34m0\u001b[0m │ concatenated[\u001b[38;5;34m0\u001b[0m][\u001b[38;5;34m…\u001b[0m │\n",
              "├─────────────────────┼───────────────────┼────────────┼───────────────────┤\n",
              "│ dense_5 (\u001b[38;5;33mDense\u001b[0m)     │ (\u001b[38;5;45mNone\u001b[0m, \u001b[38;5;34m200\u001b[0m)       │     \u001b[38;5;34m35,800\u001b[0m │ dropout[\u001b[38;5;34m0\u001b[0m][\u001b[38;5;34m0\u001b[0m]     │\n",
              "├─────────────────────┼───────────────────┼────────────┼───────────────────┤\n",
              "│ dropout_1 (\u001b[38;5;33mDropout\u001b[0m) │ (\u001b[38;5;45mNone\u001b[0m, \u001b[38;5;34m200\u001b[0m)       │          \u001b[38;5;34m0\u001b[0m │ dense_5[\u001b[38;5;34m0\u001b[0m][\u001b[38;5;34m0\u001b[0m]     │\n",
              "├─────────────────────┼───────────────────┼────────────┼───────────────────┤\n",
              "│ dense_6 (\u001b[38;5;33mDense\u001b[0m)     │ (\u001b[38;5;45mNone\u001b[0m, \u001b[38;5;34m5\u001b[0m)         │      \u001b[38;5;34m1,005\u001b[0m │ dropout_1[\u001b[38;5;34m0\u001b[0m][\u001b[38;5;34m0\u001b[0m]   │\n",
              "└─────────────────────┴───────────────────┴────────────┴───────────────────┘\n"
            ],
            "text/html": [
              "<pre style=\"white-space:pre;overflow-x:auto;line-height:normal;font-family:Menlo,'DejaVu Sans Mono',consolas,'Courier New',monospace\">┏━━━━━━━━━━━━━━━━━━━━━┳━━━━━━━━━━━━━━━━━━━┳━━━━━━━━━━━━┳━━━━━━━━━━━━━━━━━━━┓\n",
              "┃<span style=\"font-weight: bold\"> Layer (type)        </span>┃<span style=\"font-weight: bold\"> Output Shape      </span>┃<span style=\"font-weight: bold\">    Param # </span>┃<span style=\"font-weight: bold\"> Connected to      </span>┃\n",
              "┡━━━━━━━━━━━━━━━━━━━━━╇━━━━━━━━━━━━━━━━━━━╇━━━━━━━━━━━━╇━━━━━━━━━━━━━━━━━━━┩\n",
              "│ char_input          │ (<span style=\"color: #00d7ff; text-decoration-color: #00d7ff\">None</span>, <span style=\"color: #00af00; text-decoration-color: #00af00\">1</span>)         │          <span style=\"color: #00af00; text-decoration-color: #00af00\">0</span> │ -                 │\n",
              "│ (<span style=\"color: #0087ff; text-decoration-color: #0087ff\">InputLayer</span>)        │                   │            │                   │\n",
              "├─────────────────────┼───────────────────┼────────────┼───────────────────┤\n",
              "│ token_input         │ (<span style=\"color: #00d7ff; text-decoration-color: #00d7ff\">None</span>)            │          <span style=\"color: #00af00; text-decoration-color: #00af00\">0</span> │ -                 │\n",
              "│ (<span style=\"color: #0087ff; text-decoration-color: #0087ff\">InputLayer</span>)        │                   │            │                   │\n",
              "├─────────────────────┼───────────────────┼────────────┼───────────────────┤\n",
              "│ char_vectorizer     │ (<span style=\"color: #00d7ff; text-decoration-color: #00d7ff\">None</span>, <span style=\"color: #00af00; text-decoration-color: #00af00\">290</span>)       │          <span style=\"color: #00af00; text-decoration-color: #00af00\">0</span> │ char_input[<span style=\"color: #00af00; text-decoration-color: #00af00\">0</span>][<span style=\"color: #00af00; text-decoration-color: #00af00\">0</span>]  │\n",
              "│ (<span style=\"color: #0087ff; text-decoration-color: #0087ff\">TextVectorization</span>) │                   │            │                   │\n",
              "├─────────────────────┼───────────────────┼────────────┼───────────────────┤\n",
              "│ use_layer           │ (<span style=\"color: #00d7ff; text-decoration-color: #00d7ff\">None</span>, <span style=\"color: #00af00; text-decoration-color: #00af00\">512</span>)       │          <span style=\"color: #00af00; text-decoration-color: #00af00\">0</span> │ token_input[<span style=\"color: #00af00; text-decoration-color: #00af00\">0</span>][<span style=\"color: #00af00; text-decoration-color: #00af00\">0</span>] │\n",
              "│ (<span style=\"color: #0087ff; text-decoration-color: #0087ff\">USEWrapper</span>)        │                   │            │                   │\n",
              "├─────────────────────┼───────────────────┼────────────┼───────────────────┤\n",
              "│ char_embedding      │ (<span style=\"color: #00d7ff; text-decoration-color: #00d7ff\">None</span>, <span style=\"color: #00af00; text-decoration-color: #00af00\">290</span>, <span style=\"color: #00af00; text-decoration-color: #00af00\">25</span>)   │      <span style=\"color: #00af00; text-decoration-color: #00af00\">1,750</span> │ char_vectorizer[<span style=\"color: #00af00; text-decoration-color: #00af00\">…</span> │\n",
              "│ (<span style=\"color: #0087ff; text-decoration-color: #0087ff\">Embedding</span>)         │                   │            │                   │\n",
              "├─────────────────────┼───────────────────┼────────────┼───────────────────┤\n",
              "│ dense_4 (<span style=\"color: #0087ff; text-decoration-color: #0087ff\">Dense</span>)     │ (<span style=\"color: #00d7ff; text-decoration-color: #00d7ff\">None</span>, <span style=\"color: #00af00; text-decoration-color: #00af00\">128</span>)       │     <span style=\"color: #00af00; text-decoration-color: #00af00\">65,664</span> │ use_layer[<span style=\"color: #00af00; text-decoration-color: #00af00\">0</span>][<span style=\"color: #00af00; text-decoration-color: #00af00\">0</span>]   │\n",
              "├─────────────────────┼───────────────────┼────────────┼───────────────────┤\n",
              "│ bidirectional       │ (<span style=\"color: #00d7ff; text-decoration-color: #00d7ff\">None</span>, <span style=\"color: #00af00; text-decoration-color: #00af00\">50</span>)        │     <span style=\"color: #00af00; text-decoration-color: #00af00\">10,200</span> │ char_embedding[<span style=\"color: #00af00; text-decoration-color: #00af00\">1</span>… │\n",
              "│ (<span style=\"color: #0087ff; text-decoration-color: #0087ff\">Bidirectional</span>)     │                   │            │                   │\n",
              "├─────────────────────┼───────────────────┼────────────┼───────────────────┤\n",
              "│ concatenated        │ (<span style=\"color: #00d7ff; text-decoration-color: #00d7ff\">None</span>, <span style=\"color: #00af00; text-decoration-color: #00af00\">178</span>)       │          <span style=\"color: #00af00; text-decoration-color: #00af00\">0</span> │ dense_4[<span style=\"color: #00af00; text-decoration-color: #00af00\">0</span>][<span style=\"color: #00af00; text-decoration-color: #00af00\">0</span>],    │\n",
              "│ (<span style=\"color: #0087ff; text-decoration-color: #0087ff\">Concatenate</span>)       │                   │            │ bidirectional[<span style=\"color: #00af00; text-decoration-color: #00af00\">0</span>]… │\n",
              "├─────────────────────┼───────────────────┼────────────┼───────────────────┤\n",
              "│ dropout (<span style=\"color: #0087ff; text-decoration-color: #0087ff\">Dropout</span>)   │ (<span style=\"color: #00d7ff; text-decoration-color: #00d7ff\">None</span>, <span style=\"color: #00af00; text-decoration-color: #00af00\">178</span>)       │          <span style=\"color: #00af00; text-decoration-color: #00af00\">0</span> │ concatenated[<span style=\"color: #00af00; text-decoration-color: #00af00\">0</span>][<span style=\"color: #00af00; text-decoration-color: #00af00\">…</span> │\n",
              "├─────────────────────┼───────────────────┼────────────┼───────────────────┤\n",
              "│ dense_5 (<span style=\"color: #0087ff; text-decoration-color: #0087ff\">Dense</span>)     │ (<span style=\"color: #00d7ff; text-decoration-color: #00d7ff\">None</span>, <span style=\"color: #00af00; text-decoration-color: #00af00\">200</span>)       │     <span style=\"color: #00af00; text-decoration-color: #00af00\">35,800</span> │ dropout[<span style=\"color: #00af00; text-decoration-color: #00af00\">0</span>][<span style=\"color: #00af00; text-decoration-color: #00af00\">0</span>]     │\n",
              "├─────────────────────┼───────────────────┼────────────┼───────────────────┤\n",
              "│ dropout_1 (<span style=\"color: #0087ff; text-decoration-color: #0087ff\">Dropout</span>) │ (<span style=\"color: #00d7ff; text-decoration-color: #00d7ff\">None</span>, <span style=\"color: #00af00; text-decoration-color: #00af00\">200</span>)       │          <span style=\"color: #00af00; text-decoration-color: #00af00\">0</span> │ dense_5[<span style=\"color: #00af00; text-decoration-color: #00af00\">0</span>][<span style=\"color: #00af00; text-decoration-color: #00af00\">0</span>]     │\n",
              "├─────────────────────┼───────────────────┼────────────┼───────────────────┤\n",
              "│ dense_6 (<span style=\"color: #0087ff; text-decoration-color: #0087ff\">Dense</span>)     │ (<span style=\"color: #00d7ff; text-decoration-color: #00d7ff\">None</span>, <span style=\"color: #00af00; text-decoration-color: #00af00\">5</span>)         │      <span style=\"color: #00af00; text-decoration-color: #00af00\">1,005</span> │ dropout_1[<span style=\"color: #00af00; text-decoration-color: #00af00\">0</span>][<span style=\"color: #00af00; text-decoration-color: #00af00\">0</span>]   │\n",
              "└─────────────────────┴───────────────────┴────────────┴───────────────────┘\n",
              "</pre>\n"
            ]
          },
          "metadata": {}
        },
        {
          "output_type": "display_data",
          "data": {
            "text/plain": [
              "\u001b[1m Total params: \u001b[0m\u001b[38;5;34m114,419\u001b[0m (446.95 KB)\n"
            ],
            "text/html": [
              "<pre style=\"white-space:pre;overflow-x:auto;line-height:normal;font-family:Menlo,'DejaVu Sans Mono',consolas,'Courier New',monospace\"><span style=\"font-weight: bold\"> Total params: </span><span style=\"color: #00af00; text-decoration-color: #00af00\">114,419</span> (446.95 KB)\n",
              "</pre>\n"
            ]
          },
          "metadata": {}
        },
        {
          "output_type": "display_data",
          "data": {
            "text/plain": [
              "\u001b[1m Trainable params: \u001b[0m\u001b[38;5;34m114,419\u001b[0m (446.95 KB)\n"
            ],
            "text/html": [
              "<pre style=\"white-space:pre;overflow-x:auto;line-height:normal;font-family:Menlo,'DejaVu Sans Mono',consolas,'Courier New',monospace\"><span style=\"font-weight: bold\"> Trainable params: </span><span style=\"color: #00af00; text-decoration-color: #00af00\">114,419</span> (446.95 KB)\n",
              "</pre>\n"
            ]
          },
          "metadata": {}
        },
        {
          "output_type": "display_data",
          "data": {
            "text/plain": [
              "\u001b[1m Non-trainable params: \u001b[0m\u001b[38;5;34m0\u001b[0m (0.00 B)\n"
            ],
            "text/html": [
              "<pre style=\"white-space:pre;overflow-x:auto;line-height:normal;font-family:Menlo,'DejaVu Sans Mono',consolas,'Courier New',monospace\"><span style=\"font-weight: bold\"> Non-trainable params: </span><span style=\"color: #00af00; text-decoration-color: #00af00\">0</span> (0.00 B)\n",
              "</pre>\n"
            ]
          },
          "metadata": {}
        }
      ]
    },
    {
      "cell_type": "code",
      "source": [
        "from tensorflow.keras.utils import plot_model\n",
        "plot_model(model_4)"
      ],
      "metadata": {
        "colab": {
          "base_uri": "https://localhost:8080/",
          "height": 1000
        },
        "id": "zMCFOdHT6Bum",
        "outputId": "b1dda23c-3c5f-4a51-8140-2f740c7d186d"
      },
      "execution_count": 80,
      "outputs": [
        {
          "output_type": "execute_result",
          "data": {
            "image/png": "[encoded data removed]",
            "text/plain": [
              "<IPython.core.display.Image object>"
            ]
          },
          "metadata": {},
          "execution_count": 80
        }
      ]
    },
    {
      "cell_type": "code",
      "source": [
        "model_4.compile(loss=\"categorical_crossentropy\",\n",
        "                optimizer=tf.keras.optimizers.Adam(),\n",
        "                metrics=[\"accuracy\"])"
      ],
      "metadata": {
        "id": "3gwGfodUB-Hq"
      },
      "execution_count": 81,
      "outputs": []
    },
    {
      "cell_type": "code",
      "source": [
        "# combining token and chars into dataset\n",
        "train_char_token_data=tf.data.Dataset.from_tensor_slices((train_sentences,train_chars)) # make data\n",
        "train_char_token_labels=tf.data.Dataset.from_tensor_slices(train_labels_one_hot)\n",
        "train_char_token_dataset=tf.data.Dataset.zip(train_char_token_data,train_char_token_labels)\n",
        "\n",
        "# prefetch and batch dataset\n",
        "train_char_token_dataset=train_char_token_dataset.batch(32).prefetch(tf.data.AUTOTUNE)\n",
        "\n",
        "# lets do same for the validation dataset\n",
        "validation_char_token_data=tf.data.Dataset.from_tensor_slices((validation_sentences,val_chars))\n",
        "validation_char_token_labels=tf.data.Dataset.from_tensor_slices(validation_labels_one_hot)\n",
        "validation_char_token_dataset=tf.data.Dataset.zip(validation_char_token_data,validation_char_token_labels)\n",
        "validation_char_token_dataset=validation_char_token_dataset.batch(32).prefetch(tf.data.AUTOTUNE)\n",
        "\n",
        "train_char_token_dataset, validation_char_token_dataset"
      ],
      "metadata": {
        "colab": {
          "base_uri": "https://localhost:8080/"
        },
        "id": "7G8hO7wRIgjL",
        "outputId": "d8448625-1462-4ec3-bad0-576add8df72a"
      },
      "execution_count": 82,
      "outputs": [
        {
          "output_type": "execute_result",
          "data": {
            "text/plain": [
              "(<_PrefetchDataset element_spec=((TensorSpec(shape=(None,), dtype=tf.string, name=None), TensorSpec(shape=(None,), dtype=tf.string, name=None)), TensorSpec(shape=(None, 5), dtype=tf.float64, name=None))>,\n",
              " <_PrefetchDataset element_spec=((TensorSpec(shape=(None,), dtype=tf.string, name=None), TensorSpec(shape=(None,), dtype=tf.string, name=None)), TensorSpec(shape=(None, 5), dtype=tf.float64, name=None))>)"
            ]
          },
          "metadata": {},
          "execution_count": 82
        }
      ]
    },
    {
      "cell_type": "code",
      "source": [
        "# # fitting model\n",
        "# model_4_history=model_4.fit(train_char_token_dataset,\n",
        "#                             steps_per_epoch=int(0.1*len(train_char_token_dataset)),\n",
        "#                             epochs=3,\n",
        "#                             validation_data=validation_char_token_dataset,\n",
        "#                             validation_steps=int(0.1*len(validation_char_token_dataset)))"
      ],
      "metadata": {
        "id": "N7pUIRvuJ2PD"
      },
      "execution_count": 83,
      "outputs": []
    },
    {
      "cell_type": "code",
      "source": [
        "# # evaluate on whole dataset\n",
        "# model_4.evaluate(validation_char_token_dataset)"
      ],
      "metadata": {
        "id": "Jb8myRJOLQq3"
      },
      "execution_count": 84,
      "outputs": []
    },
    {
      "cell_type": "code",
      "source": [
        "# # to make prediction, lets pass the tuple of chars and tokens to the predict() funtion\n",
        "# model_4_pred=model_4.predict(validation_char_token_dataset)\n",
        "# model_4_pred"
      ],
      "metadata": {
        "id": "hoc_AJSGN_op"
      },
      "execution_count": 85,
      "outputs": []
    },
    {
      "cell_type": "code",
      "source": [
        "# # lets convert the probability in to the class\n",
        "# model_4_pred_classes=tf.argmax(model_4_pred,axis=1)\n",
        "# model_4_pred_classes"
      ],
      "metadata": {
        "id": "XZwncHfbPKIJ"
      },
      "execution_count": 86,
      "outputs": []
    },
    {
      "cell_type": "code",
      "source": [
        "# # calculate performance metrics\n",
        "# model_4_results=calculate_results(validation_labels,model_4_pred_classes)\n",
        "# model_4_results"
      ],
      "metadata": {
        "id": "k5MwYiOdPoiB"
      },
      "execution_count": 87,
      "outputs": []
    },
    {
      "cell_type": "markdown",
      "source": [
        "# Model 5: Transfer Learning with pre-trained token embeddings + character embeddings + positional embeddings"
      ],
      "metadata": {
        "id": "xjAbpDXGP7mZ"
      }
    },
    {
      "cell_type": "code",
      "source": [
        "train_df.head()"
      ],
      "metadata": {
        "colab": {
          "base_uri": "https://localhost:8080/",
          "height": 206
        },
        "id": "lCLpQo_STsYF",
        "outputId": "e71757cd-c768-4a77-8916-5eaa1cdc6fcd"
      },
      "execution_count": 88,
      "outputs": [
        {
          "output_type": "execute_result",
          "data": {
            "text/plain": [
              "      target                                               text  line_number  \\\n",
              "0  OBJECTIVE  to investigate the efficacy of @ weeks of dail...            0   \n",
              "1    METHODS  a total of @ patients with primary knee oa wer...            1   \n",
              "2    METHODS  outcome measures included pain reduction and i...            2   \n",
              "3    METHODS  pain was assessed using the visual analog pain...            3   \n",
              "4    METHODS  secondary outcome measures included the wester...            4   \n",
              "\n",
              "   total_lines  \n",
              "0           11  \n",
              "1           11  \n",
              "2           11  \n",
              "3           11  \n",
              "4           11  "
            ],
            "text/html": [
              "\n",
              "  <div id=\"df-0e6fd85d-24a6-4cbb-a8b1-1d237d24c60c\" class=\"colab-df-container\">\n",
              "    <div>\n",
              "<style scoped>\n",
              "    .dataframe tbody tr th:only-of-type {\n",
              "        vertical-align: middle;\n",
              "    }\n",
              "\n",
              "    .dataframe tbody tr th {\n",
              "        vertical-align: top;\n",
              "    }\n",
              "\n",
              "    .dataframe thead th {\n",
              "        text-align: right;\n",
              "    }\n",
              "</style>\n",
              "<table border=\"1\" class=\"dataframe\">\n",
              "  <thead>\n",
              "    <tr style=\"text-align: right;\">\n",
              "      <th></th>\n",
              "      <th>target</th>\n",
              "      <th>text</th>\n",
              "      <th>line_number</th>\n",
              "      <th>total_lines</th>\n",
              "    </tr>\n",
              "  </thead>\n",
              "  <tbody>\n",
              "    <tr>\n",
              "      <th>0</th>\n",
              "      <td>OBJECTIVE</td>\n",
              "      <td>to investigate the efficacy of @ weeks of dail...</td>\n",
              "      <td>0</td>\n",
              "      <td>11</td>\n",
              "    </tr>\n",
              "    <tr>\n",
              "      <th>1</th>\n",
              "      <td>METHODS</td>\n",
              "      <td>a total of @ patients with primary knee oa wer...</td>\n",
              "      <td>1</td>\n",
              "      <td>11</td>\n",
              "    </tr>\n",
              "    <tr>\n",
              "      <th>2</th>\n",
              "      <td>METHODS</td>\n",
              "      <td>outcome measures included pain reduction and i...</td>\n",
              "      <td>2</td>\n",
              "      <td>11</td>\n",
              "    </tr>\n",
              "    <tr>\n",
              "      <th>3</th>\n",
              "      <td>METHODS</td>\n",
              "      <td>pain was assessed using the visual analog pain...</td>\n",
              "      <td>3</td>\n",
              "      <td>11</td>\n",
              "    </tr>\n",
              "    <tr>\n",
              "      <th>4</th>\n",
              "      <td>METHODS</td>\n",
              "      <td>secondary outcome measures included the wester...</td>\n",
              "      <td>4</td>\n",
              "      <td>11</td>\n",
              "    </tr>\n",
              "  </tbody>\n",
              "</table>\n",
              "</div>\n",
              "    <div class=\"colab-df-buttons\">\n",
              "\n",
              "  <div class=\"colab-df-container\">\n",
              "    <button class=\"colab-df-convert\" onclick=\"convertToInteractive('df-0e6fd85d-24a6-4cbb-a8b1-1d237d24c60c')\"\n",
              "            title=\"Convert this dataframe to an interactive table.\"\n",
              "            style=\"display:none;\">\n",
              "\n",
              "  <svg xmlns=\"http://www.w3.org/2000/svg\" height=\"24px\" viewBox=\"0 -960 960 960\">\n",
              "    <path d=\"M120-120v-720h720v720H120Zm60-500h600v-160H180v160Zm220 220h160v-160H400v160Zm0 220h160v-160H400v160ZM180-400h160v-160H180v160Zm440 0h160v-160H620v160ZM180-180h160v-160H180v160Zm440 0h160v-160H620v160Z\"/>\n",
              "  </svg>\n",
              "    </button>\n",
              "\n",
              "  <style>\n",
              "    .colab-df-container {\n",
              "      display:flex;\n",
              "      gap: 12px;\n",
              "    }\n",
              "\n",
              "    .colab-df-convert {\n",
              "      background-color: #E8F0FE;\n",
              "      border: none;\n",
              "      border-radius: 50%;\n",
              "      cursor: pointer;\n",
              "      display: none;\n",
              "      fill: #1967D2;\n",
              "      height: 32px;\n",
              "      padding: 0 0 0 0;\n",
              "      width: 32px;\n",
              "    }\n",
              "\n",
              "    .colab-df-convert:hover {\n",
              "      background-color: #E2EBFA;\n",
              "      box-shadow: 0px 1px 2px rgba(60, 64, 67, 0.3), 0px 1px 3px 1px rgba(60, 64, 67, 0.15);\n",
              "      fill: #174EA6;\n",
              "    }\n",
              "\n",
              "    .colab-df-buttons div {\n",
              "      margin-bottom: 4px;\n",
              "    }\n",
              "\n",
              "    [theme=dark] .colab-df-convert {\n",
              "      background-color: #3B4455;\n",
              "      fill: #D2E3FC;\n",
              "    }\n",
              "\n",
              "    [theme=dark] .colab-df-convert:hover {\n",
              "      background-color: #434B5C;\n",
              "      box-shadow: 0px 1px 3px 1px rgba(0, 0, 0, 0.15);\n",
              "      filter: drop-shadow(0px 1px 2px rgba(0, 0, 0, 0.3));\n",
              "      fill: #FFFFFF;\n",
              "    }\n",
              "  </style>\n",
              "\n",
              "    <script>\n",
              "      const buttonEl =\n",
              "        document.querySelector('#df-0e6fd85d-24a6-4cbb-a8b1-1d237d24c60c button.colab-df-convert');\n",
              "      buttonEl.style.display =\n",
              "        google.colab.kernel.accessAllowed ? 'block' : 'none';\n",
              "\n",
              "      async function convertToInteractive(key) {\n",
              "        const element = document.querySelector('#df-0e6fd85d-24a6-4cbb-a8b1-1d237d24c60c');\n",
              "        const dataTable =\n",
              "          await google.colab.kernel.invokeFunction('convertToInteractive',\n",
              "                                                    [key], {});\n",
              "        if (!dataTable) return;\n",
              "\n",
              "        const docLinkHtml = 'Like what you see? Visit the ' +\n",
              "          '<a target=\"_blank\" href=https://colab.research.google.com/notebooks/data_table.ipynb>data table notebook</a>'\n",
              "          + ' to learn more about interactive tables.';\n",
              "        element.innerHTML = '';\n",
              "        dataTable['output_type'] = 'display_data';\n",
              "        await google.colab.output.renderOutput(dataTable, element);\n",
              "        const docLink = document.createElement('div');\n",
              "        docLink.innerHTML = docLinkHtml;\n",
              "        element.appendChild(docLink);\n",
              "      }\n",
              "    </script>\n",
              "  </div>\n",
              "\n",
              "\n",
              "    <div id=\"df-27220dec-f914-484c-b8cd-d70d3f911b3e\">\n",
              "      <button class=\"colab-df-quickchart\" onclick=\"quickchart('df-27220dec-f914-484c-b8cd-d70d3f911b3e')\"\n",
              "                title=\"Suggest charts\"\n",
              "                style=\"display:none;\">\n",
              "\n",
              "<svg xmlns=\"http://www.w3.org/2000/svg\" height=\"24px\"viewBox=\"0 0 24 24\"\n",
              "     width=\"24px\">\n",
              "    <g>\n",
              "        <path d=\"M19 3H5c-1.1 0-2 .9-2 2v14c0 1.1.9 2 2 2h14c1.1 0 2-.9 2-2V5c0-1.1-.9-2-2-2zM9 17H7v-7h2v7zm4 0h-2V7h2v10zm4 0h-2v-4h2v4z\"/>\n",
              "    </g>\n",
              "</svg>\n",
              "      </button>\n",
              "\n",
              "<style>\n",
              "  .colab-df-quickchart {\n",
              "      --bg-color: #E8F0FE;\n",
              "      --fill-color: #1967D2;\n",
              "      --hover-bg-color: #E2EBFA;\n",
              "      --hover-fill-color: #174EA6;\n",
              "      --disabled-fill-color: #AAA;\n",
              "      --disabled-bg-color: #DDD;\n",
              "  }\n",
              "\n",
              "  [theme=dark] .colab-df-quickchart {\n",
              "      --bg-color: #3B4455;\n",
              "      --fill-color: #D2E3FC;\n",
              "      --hover-bg-color: #434B5C;\n",
              "      --hover-fill-color: #FFFFFF;\n",
              "      --disabled-bg-color: #3B4455;\n",
              "      --disabled-fill-color: #666;\n",
              "  }\n",
              "\n",
              "  .colab-df-quickchart {\n",
              "    background-color: var(--bg-color);\n",
              "    border: none;\n",
              "    border-radius: 50%;\n",
              "    cursor: pointer;\n",
              "    display: none;\n",
              "    fill: var(--fill-color);\n",
              "    height: 32px;\n",
              "    padding: 0;\n",
              "    width: 32px;\n",
              "  }\n",
              "\n",
              "  .colab-df-quickchart:hover {\n",
              "    background-color: var(--hover-bg-color);\n",
              "    box-shadow: 0 1px 2px rgba(60, 64, 67, 0.3), 0 1px 3px 1px rgba(60, 64, 67, 0.15);\n",
              "    fill: var(--button-hover-fill-color);\n",
              "  }\n",
              "\n",
              "  .colab-df-quickchart-complete:disabled,\n",
              "  .colab-df-quickchart-complete:disabled:hover {\n",
              "    background-color: var(--disabled-bg-color);\n",
              "    fill: var(--disabled-fill-color);\n",
              "    box-shadow: none;\n",
              "  }\n",
              "\n",
              "  .colab-df-spinner {\n",
              "    border: 2px solid var(--fill-color);\n",
              "    border-color: transparent;\n",
              "    border-bottom-color: var(--fill-color);\n",
              "    animation:\n",
              "      spin 1s steps(1) infinite;\n",
              "  }\n",
              "\n",
              "  @keyframes spin {\n",
              "    0% {\n",
              "      border-color: transparent;\n",
              "      border-bottom-color: var(--fill-color);\n",
              "      border-left-color: var(--fill-color);\n",
              "    }\n",
              "    20% {\n",
              "      border-color: transparent;\n",
              "      border-left-color: var(--fill-color);\n",
              "      border-top-color: var(--fill-color);\n",
              "    }\n",
              "    30% {\n",
              "      border-color: transparent;\n",
              "      border-left-color: var(--fill-color);\n",
              "      border-top-color: var(--fill-color);\n",
              "      border-right-color: var(--fill-color);\n",
              "    }\n",
              "    40% {\n",
              "      border-color: transparent;\n",
              "      border-right-color: var(--fill-color);\n",
              "      border-top-color: var(--fill-color);\n",
              "    }\n",
              "    60% {\n",
              "      border-color: transparent;\n",
              "      border-right-color: var(--fill-color);\n",
              "    }\n",
              "    80% {\n",
              "      border-color: transparent;\n",
              "      border-right-color: var(--fill-color);\n",
              "      border-bottom-color: var(--fill-color);\n",
              "    }\n",
              "    90% {\n",
              "      border-color: transparent;\n",
              "      border-bottom-color: var(--fill-color);\n",
              "    }\n",
              "  }\n",
              "</style>\n",
              "\n",
              "      <script>\n",
              "        async function quickchart(key) {\n",
              "          const quickchartButtonEl =\n",
              "            document.querySelector('#' + key + ' button');\n",
              "          quickchartButtonEl.disabled = true;  // To prevent multiple clicks.\n",
              "          quickchartButtonEl.classList.add('colab-df-spinner');\n",
              "          try {\n",
              "            const charts = await google.colab.kernel.invokeFunction(\n",
              "                'suggestCharts', [key], {});\n",
              "          } catch (error) {\n",
              "            console.error('Error during call to suggestCharts:', error);\n",
              "          }\n",
              "          quickchartButtonEl.classList.remove('colab-df-spinner');\n",
              "          quickchartButtonEl.classList.add('colab-df-quickchart-complete');\n",
              "        }\n",
              "        (() => {\n",
              "          let quickchartButtonEl =\n",
              "            document.querySelector('#df-27220dec-f914-484c-b8cd-d70d3f911b3e button');\n",
              "          quickchartButtonEl.style.display =\n",
              "            google.colab.kernel.accessAllowed ? 'block' : 'none';\n",
              "        })();\n",
              "      </script>\n",
              "    </div>\n",
              "\n",
              "    </div>\n",
              "  </div>\n"
            ],
            "application/vnd.google.colaboratory.intrinsic+json": {
              "type": "dataframe",
              "variable_name": "train_df"
            }
          },
          "metadata": {},
          "execution_count": 88
        }
      ]
    },
    {
      "cell_type": "markdown",
      "source": [
        "The \"line_number\" and \"total_lines\" columns are features which didn't necessarily come with the training data but can be passed to our model as a positional embedding. In other words, the positional embedding is where the sentence appears in an abstract.\n",
        "\n",
        "Since our \"line_number\" and \"total_line\" columns are already numerical, we could pass them as they are to our model.\n",
        "\n",
        "But to avoid our model thinking a line with \"line_number\"=5 is five times greater than a line with \"line_number\"=1, we'll use one-hot-encoding to encode our \"line_number\" and \"total_lines\" features.\n",
        "\n",
        "To do this, we can use the tf.one_hot utility."
      ],
      "metadata": {
        "id": "0Ylu6eYkVd64"
      }
    },
    {
      "cell_type": "code",
      "source": [
        "train_df.line_number.value_counts()"
      ],
      "metadata": {
        "colab": {
          "base_uri": "https://localhost:8080/",
          "height": 1000
        },
        "id": "wGhSkMroVbDa",
        "outputId": "15bd114f-d151-4470-f78d-13a0a7e5f066"
      },
      "execution_count": 89,
      "outputs": [
        {
          "output_type": "execute_result",
          "data": {
            "text/plain": [
              "line_number\n",
              "0     15000\n",
              "1     15000\n",
              "2     15000\n",
              "3     15000\n",
              "4     14992\n",
              "5     14949\n",
              "6     14758\n",
              "7     14279\n",
              "8     13346\n",
              "9     11981\n",
              "10    10041\n",
              "11     7892\n",
              "12     5853\n",
              "13     4152\n",
              "14     2835\n",
              "15     1861\n",
              "16     1188\n",
              "17      751\n",
              "18      462\n",
              "19      286\n",
              "20      162\n",
              "21      101\n",
              "22       66\n",
              "23       33\n",
              "24       22\n",
              "25       14\n",
              "26        7\n",
              "27        4\n",
              "28        3\n",
              "29        1\n",
              "30        1\n",
              "Name: count, dtype: int64"
            ],
            "text/html": [
              "<div>\n",
              "<style scoped>\n",
              "    .dataframe tbody tr th:only-of-type {\n",
              "        vertical-align: middle;\n",
              "    }\n",
              "\n",
              "    .dataframe tbody tr th {\n",
              "        vertical-align: top;\n",
              "    }\n",
              "\n",
              "    .dataframe thead th {\n",
              "        text-align: right;\n",
              "    }\n",
              "</style>\n",
              "<table border=\"1\" class=\"dataframe\">\n",
              "  <thead>\n",
              "    <tr style=\"text-align: right;\">\n",
              "      <th></th>\n",
              "      <th>count</th>\n",
              "    </tr>\n",
              "    <tr>\n",
              "      <th>line_number</th>\n",
              "      <th></th>\n",
              "    </tr>\n",
              "  </thead>\n",
              "  <tbody>\n",
              "    <tr>\n",
              "      <th>0</th>\n",
              "      <td>15000</td>\n",
              "    </tr>\n",
              "    <tr>\n",
              "      <th>1</th>\n",
              "      <td>15000</td>\n",
              "    </tr>\n",
              "    <tr>\n",
              "      <th>2</th>\n",
              "      <td>15000</td>\n",
              "    </tr>\n",
              "    <tr>\n",
              "      <th>3</th>\n",
              "      <td>15000</td>\n",
              "    </tr>\n",
              "    <tr>\n",
              "      <th>4</th>\n",
              "      <td>14992</td>\n",
              "    </tr>\n",
              "    <tr>\n",
              "      <th>5</th>\n",
              "      <td>14949</td>\n",
              "    </tr>\n",
              "    <tr>\n",
              "      <th>6</th>\n",
              "      <td>14758</td>\n",
              "    </tr>\n",
              "    <tr>\n",
              "      <th>7</th>\n",
              "      <td>14279</td>\n",
              "    </tr>\n",
              "    <tr>\n",
              "      <th>8</th>\n",
              "      <td>13346</td>\n",
              "    </tr>\n",
              "    <tr>\n",
              "      <th>9</th>\n",
              "      <td>11981</td>\n",
              "    </tr>\n",
              "    <tr>\n",
              "      <th>10</th>\n",
              "      <td>10041</td>\n",
              "    </tr>\n",
              "    <tr>\n",
              "      <th>11</th>\n",
              "      <td>7892</td>\n",
              "    </tr>\n",
              "    <tr>\n",
              "      <th>12</th>\n",
              "      <td>5853</td>\n",
              "    </tr>\n",
              "    <tr>\n",
              "      <th>13</th>\n",
              "      <td>4152</td>\n",
              "    </tr>\n",
              "    <tr>\n",
              "      <th>14</th>\n",
              "      <td>2835</td>\n",
              "    </tr>\n",
              "    <tr>\n",
              "      <th>15</th>\n",
              "      <td>1861</td>\n",
              "    </tr>\n",
              "    <tr>\n",
              "      <th>16</th>\n",
              "      <td>1188</td>\n",
              "    </tr>\n",
              "    <tr>\n",
              "      <th>17</th>\n",
              "      <td>751</td>\n",
              "    </tr>\n",
              "    <tr>\n",
              "      <th>18</th>\n",
              "      <td>462</td>\n",
              "    </tr>\n",
              "    <tr>\n",
              "      <th>19</th>\n",
              "      <td>286</td>\n",
              "    </tr>\n",
              "    <tr>\n",
              "      <th>20</th>\n",
              "      <td>162</td>\n",
              "    </tr>\n",
              "    <tr>\n",
              "      <th>21</th>\n",
              "      <td>101</td>\n",
              "    </tr>\n",
              "    <tr>\n",
              "      <th>22</th>\n",
              "      <td>66</td>\n",
              "    </tr>\n",
              "    <tr>\n",
              "      <th>23</th>\n",
              "      <td>33</td>\n",
              "    </tr>\n",
              "    <tr>\n",
              "      <th>24</th>\n",
              "      <td>22</td>\n",
              "    </tr>\n",
              "    <tr>\n",
              "      <th>25</th>\n",
              "      <td>14</td>\n",
              "    </tr>\n",
              "    <tr>\n",
              "      <th>26</th>\n",
              "      <td>7</td>\n",
              "    </tr>\n",
              "    <tr>\n",
              "      <th>27</th>\n",
              "      <td>4</td>\n",
              "    </tr>\n",
              "    <tr>\n",
              "      <th>28</th>\n",
              "      <td>3</td>\n",
              "    </tr>\n",
              "    <tr>\n",
              "      <th>29</th>\n",
              "      <td>1</td>\n",
              "    </tr>\n",
              "    <tr>\n",
              "      <th>30</th>\n",
              "      <td>1</td>\n",
              "    </tr>\n",
              "  </tbody>\n",
              "</table>\n",
              "</div><br><label><b>dtype:</b> int64</label>"
            ]
          },
          "metadata": {},
          "execution_count": 89
        }
      ]
    },
    {
      "cell_type": "code",
      "source": [],
      "metadata": {
        "id": "97q3Jhjxc8Yy"
      },
      "execution_count": 89,
      "outputs": []
    },
    {
      "cell_type": "markdown",
      "source": [
        "Looking at the distribution of the \"line_number\" column, it looks like the majority of lines have a position of 15 or less.\n",
        "\n",
        "Knowing this, let's set the depth parameter of tf.one_hot to 15."
      ],
      "metadata": {
        "id": "OHt0qIfDZ8Ge"
      }
    },
    {
      "cell_type": "code",
      "source": [
        "# check the distribution of line_number column\n",
        "train_df.line_number.plot.hist()"
      ],
      "metadata": {
        "colab": {
          "base_uri": "https://localhost:8080/",
          "height": 447
        },
        "id": "Fmar3TjCX0MZ",
        "outputId": "9c945e61-427a-4249-bd74-630a7a93215d"
      },
      "execution_count": 90,
      "outputs": [
        {
          "output_type": "execute_result",
          "data": {
            "text/plain": [
              "<Axes: ylabel='Frequency'>"
            ]
          },
          "metadata": {},
          "execution_count": 90
        },
        {
          "output_type": "display_data",
          "data": {
            "text/plain": [
              "<Figure size 640x480 with 1 Axes>"
            ],
            "image/png": "[encoded data removed]"
          },
          "metadata": {}
        }
      ]
    },
    {
      "cell_type": "code",
      "source": [
        "# Use Tensorflow to create one-hot encoded tensors of our \"line_number\" column\n",
        "train_line_number_one_hot=tf.one_hot(train_df.line_number.to_numpy(),depth=15)\n",
        "val_line_number_one_hot=tf.one_hot(val_df.line_number.to_numpy(),depth=15)\n",
        "test_line_number_one_hot=tf.one_hot(test_df.line_number.to_numpy(),depth=15)"
      ],
      "metadata": {
        "id": "ya70RfYiZ8my"
      },
      "execution_count": 91,
      "outputs": []
    },
    {
      "cell_type": "code",
      "source": [
        "train_line_number_one_hot.shape"
      ],
      "metadata": {
        "colab": {
          "base_uri": "https://localhost:8080/"
        },
        "id": "I8TuL8JubPpP",
        "outputId": "db1944e4-ebb8-49de-d514-10628ad103d5"
      },
      "execution_count": 92,
      "outputs": [
        {
          "output_type": "execute_result",
          "data": {
            "text/plain": [
              "TensorShape([180040, 15])"
            ]
          },
          "metadata": {},
          "execution_count": 92
        }
      ]
    },
    {
      "cell_type": "code",
      "source": [
        "train_line_number_one_hot[:20]"
      ],
      "metadata": {
        "colab": {
          "base_uri": "https://localhost:8080/"
        },
        "id": "_6OqgwJEdchJ",
        "outputId": "8e6b55c7-27cd-4f96-c44a-63bece803462"
      },
      "execution_count": 93,
      "outputs": [
        {
          "output_type": "execute_result",
          "data": {
            "text/plain": [
              "<tf.Tensor: shape=(20, 15), dtype=float32, numpy=\n",
              "array([[1., 0., 0., 0., 0., 0., 0., 0., 0., 0., 0., 0., 0., 0., 0.],\n",
              "       [0., 1., 0., 0., 0., 0., 0., 0., 0., 0., 0., 0., 0., 0., 0.],\n",
              "       [0., 0., 1., 0., 0., 0., 0., 0., 0., 0., 0., 0., 0., 0., 0.],\n",
              "       [0., 0., 0., 1., 0., 0., 0., 0., 0., 0., 0., 0., 0., 0., 0.],\n",
              "       [0., 0., 0., 0., 1., 0., 0., 0., 0., 0., 0., 0., 0., 0., 0.],\n",
              "       [0., 0., 0., 0., 0., 1., 0., 0., 0., 0., 0., 0., 0., 0., 0.],\n",
              "       [0., 0., 0., 0., 0., 0., 1., 0., 0., 0., 0., 0., 0., 0., 0.],\n",
              "       [0., 0., 0., 0., 0., 0., 0., 1., 0., 0., 0., 0., 0., 0., 0.],\n",
              "       [0., 0., 0., 0., 0., 0., 0., 0., 1., 0., 0., 0., 0., 0., 0.],\n",
              "       [0., 0., 0., 0., 0., 0., 0., 0., 0., 1., 0., 0., 0., 0., 0.],\n",
              "       [0., 0., 0., 0., 0., 0., 0., 0., 0., 0., 1., 0., 0., 0., 0.],\n",
              "       [0., 0., 0., 0., 0., 0., 0., 0., 0., 0., 0., 1., 0., 0., 0.],\n",
              "       [1., 0., 0., 0., 0., 0., 0., 0., 0., 0., 0., 0., 0., 0., 0.],\n",
              "       [0., 1., 0., 0., 0., 0., 0., 0., 0., 0., 0., 0., 0., 0., 0.],\n",
              "       [0., 0., 1., 0., 0., 0., 0., 0., 0., 0., 0., 0., 0., 0., 0.],\n",
              "       [0., 0., 0., 1., 0., 0., 0., 0., 0., 0., 0., 0., 0., 0., 0.],\n",
              "       [0., 0., 0., 0., 1., 0., 0., 0., 0., 0., 0., 0., 0., 0., 0.],\n",
              "       [0., 0., 0., 0., 0., 1., 0., 0., 0., 0., 0., 0., 0., 0., 0.],\n",
              "       [0., 0., 0., 0., 0., 0., 1., 0., 0., 0., 0., 0., 0., 0., 0.],\n",
              "       [0., 0., 0., 0., 0., 0., 0., 1., 0., 0., 0., 0., 0., 0., 0.]],\n",
              "      dtype=float32)>"
            ]
          },
          "metadata": {},
          "execution_count": 93
        }
      ]
    },
    {
      "cell_type": "code",
      "source": [
        "# now lets do same for the \"total lines\" columns\n",
        "train_df.total_lines.value_counts()"
      ],
      "metadata": {
        "colab": {
          "base_uri": "https://localhost:8080/",
          "height": 962
        },
        "id": "IrFQmTcPdiRg",
        "outputId": "014b969a-11ba-4793-a33d-6e70c80c01ed"
      },
      "execution_count": 94,
      "outputs": [
        {
          "output_type": "execute_result",
          "data": {
            "text/plain": [
              "total_lines\n",
              "11    24468\n",
              "10    23639\n",
              "12    22113\n",
              "9     19400\n",
              "13    18438\n",
              "14    14610\n",
              "8     12285\n",
              "15    10768\n",
              "7      7464\n",
              "16     7429\n",
              "17     5202\n",
              "6      3353\n",
              "18     3344\n",
              "19     2480\n",
              "20     1281\n",
              "5      1146\n",
              "21      770\n",
              "22      759\n",
              "23      264\n",
              "4       215\n",
              "24      200\n",
              "25      182\n",
              "26       81\n",
              "28       58\n",
              "3        32\n",
              "30       31\n",
              "27       28\n",
              "Name: count, dtype: int64"
            ],
            "text/html": [
              "<div>\n",
              "<style scoped>\n",
              "    .dataframe tbody tr th:only-of-type {\n",
              "        vertical-align: middle;\n",
              "    }\n",
              "\n",
              "    .dataframe tbody tr th {\n",
              "        vertical-align: top;\n",
              "    }\n",
              "\n",
              "    .dataframe thead th {\n",
              "        text-align: right;\n",
              "    }\n",
              "</style>\n",
              "<table border=\"1\" class=\"dataframe\">\n",
              "  <thead>\n",
              "    <tr style=\"text-align: right;\">\n",
              "      <th></th>\n",
              "      <th>count</th>\n",
              "    </tr>\n",
              "    <tr>\n",
              "      <th>total_lines</th>\n",
              "      <th></th>\n",
              "    </tr>\n",
              "  </thead>\n",
              "  <tbody>\n",
              "    <tr>\n",
              "      <th>11</th>\n",
              "      <td>24468</td>\n",
              "    </tr>\n",
              "    <tr>\n",
              "      <th>10</th>\n",
              "      <td>23639</td>\n",
              "    </tr>\n",
              "    <tr>\n",
              "      <th>12</th>\n",
              "      <td>22113</td>\n",
              "    </tr>\n",
              "    <tr>\n",
              "      <th>9</th>\n",
              "      <td>19400</td>\n",
              "    </tr>\n",
              "    <tr>\n",
              "      <th>13</th>\n",
              "      <td>18438</td>\n",
              "    </tr>\n",
              "    <tr>\n",
              "      <th>14</th>\n",
              "      <td>14610</td>\n",
              "    </tr>\n",
              "    <tr>\n",
              "      <th>8</th>\n",
              "      <td>12285</td>\n",
              "    </tr>\n",
              "    <tr>\n",
              "      <th>15</th>\n",
              "      <td>10768</td>\n",
              "    </tr>\n",
              "    <tr>\n",
              "      <th>7</th>\n",
              "      <td>7464</td>\n",
              "    </tr>\n",
              "    <tr>\n",
              "      <th>16</th>\n",
              "      <td>7429</td>\n",
              "    </tr>\n",
              "    <tr>\n",
              "      <th>17</th>\n",
              "      <td>5202</td>\n",
              "    </tr>\n",
              "    <tr>\n",
              "      <th>6</th>\n",
              "      <td>3353</td>\n",
              "    </tr>\n",
              "    <tr>\n",
              "      <th>18</th>\n",
              "      <td>3344</td>\n",
              "    </tr>\n",
              "    <tr>\n",
              "      <th>19</th>\n",
              "      <td>2480</td>\n",
              "    </tr>\n",
              "    <tr>\n",
              "      <th>20</th>\n",
              "      <td>1281</td>\n",
              "    </tr>\n",
              "    <tr>\n",
              "      <th>5</th>\n",
              "      <td>1146</td>\n",
              "    </tr>\n",
              "    <tr>\n",
              "      <th>21</th>\n",
              "      <td>770</td>\n",
              "    </tr>\n",
              "    <tr>\n",
              "      <th>22</th>\n",
              "      <td>759</td>\n",
              "    </tr>\n",
              "    <tr>\n",
              "      <th>23</th>\n",
              "      <td>264</td>\n",
              "    </tr>\n",
              "    <tr>\n",
              "      <th>4</th>\n",
              "      <td>215</td>\n",
              "    </tr>\n",
              "    <tr>\n",
              "      <th>24</th>\n",
              "      <td>200</td>\n",
              "    </tr>\n",
              "    <tr>\n",
              "      <th>25</th>\n",
              "      <td>182</td>\n",
              "    </tr>\n",
              "    <tr>\n",
              "      <th>26</th>\n",
              "      <td>81</td>\n",
              "    </tr>\n",
              "    <tr>\n",
              "      <th>28</th>\n",
              "      <td>58</td>\n",
              "    </tr>\n",
              "    <tr>\n",
              "      <th>3</th>\n",
              "      <td>32</td>\n",
              "    </tr>\n",
              "    <tr>\n",
              "      <th>30</th>\n",
              "      <td>31</td>\n",
              "    </tr>\n",
              "    <tr>\n",
              "      <th>27</th>\n",
              "      <td>28</td>\n",
              "    </tr>\n",
              "  </tbody>\n",
              "</table>\n",
              "</div><br><label><b>dtype:</b> int64</label>"
            ]
          },
          "metadata": {},
          "execution_count": 94
        }
      ]
    },
    {
      "cell_type": "code",
      "source": [
        "# check the distribution\n",
        "train_df.total_lines.plot.hist(\n",
        "\n",
        ")"
      ],
      "metadata": {
        "colab": {
          "base_uri": "https://localhost:8080/",
          "height": 448
        },
        "id": "_WTiFxOxeiDG",
        "outputId": "46e7f2ce-ccdc-4c82-b168-0c48b266dde2"
      },
      "execution_count": 95,
      "outputs": [
        {
          "output_type": "execute_result",
          "data": {
            "text/plain": [
              "<Axes: ylabel='Frequency'>"
            ]
          },
          "metadata": {},
          "execution_count": 95
        },
        {
          "output_type": "display_data",
          "data": {
            "text/plain": [
              "<Figure size 640x480 with 1 Axes>"
            ],
            "image/png": "[encoded data removed]"
          },
          "metadata": {}
        }
      ]
    },
    {
      "cell_type": "markdown",
      "source": [
        "Looking at the distribution of our \"toal lines\" column, the value of 20 looks like it covers the majority of samples.\n",
        "lets confirm it with np.percentile()"
      ],
      "metadata": {
        "id": "bOqtSkdyfAOm"
      }
    },
    {
      "cell_type": "code",
      "source": [
        "np.percentile(train_df.total_lines,98)"
      ],
      "metadata": {
        "colab": {
          "base_uri": "https://localhost:8080/"
        },
        "id": "KxhNK5jlexb6",
        "outputId": "9967ac79-93d9-420d-8b1b-8c44d712095d"
      },
      "execution_count": 96,
      "outputs": [
        {
          "output_type": "execute_result",
          "data": {
            "text/plain": [
              "np.float64(20.0)"
            ]
          },
          "metadata": {},
          "execution_count": 96
        }
      ]
    },
    {
      "cell_type": "code",
      "source": [
        "# lets one hot encode out \"total line\" column\n",
        "train_total_lines_one_hot=tf.one_hot(train_df.total_lines.to_numpy(),depth=20)\n",
        "val_total_lines_one_hot=tf.one_hot(val_df.total_lines.to_numpy(),depth=20)\n",
        "test_total_lines_one_hot=tf.one_hot(test_df.total_lines.to_numpy(),depth=20)"
      ],
      "metadata": {
        "id": "mpI_QUD9fmnh"
      },
      "execution_count": 97,
      "outputs": []
    },
    {
      "cell_type": "code",
      "source": [
        "train_total_lines_one_hot.shape,train_total_lines_one_hot[:20]"
      ],
      "metadata": {
        "colab": {
          "base_uri": "https://localhost:8080/"
        },
        "id": "ElI8aw7FgPms",
        "outputId": "23213058-f199-4959-e65d-fabae1240886"
      },
      "execution_count": 98,
      "outputs": [
        {
          "output_type": "execute_result",
          "data": {
            "text/plain": [
              "(TensorShape([180040, 20]),\n",
              " <tf.Tensor: shape=(20, 20), dtype=float32, numpy=\n",
              " array([[0., 0., 0., 0., 0., 0., 0., 0., 0., 0., 0., 1., 0., 0., 0., 0.,\n",
              "         0., 0., 0., 0.],\n",
              "        [0., 0., 0., 0., 0., 0., 0., 0., 0., 0., 0., 1., 0., 0., 0., 0.,\n",
              "         0., 0., 0., 0.],\n",
              "        [0., 0., 0., 0., 0., 0., 0., 0., 0., 0., 0., 1., 0., 0., 0., 0.,\n",
              "         0., 0., 0., 0.],\n",
              "        [0., 0., 0., 0., 0., 0., 0., 0., 0., 0., 0., 1., 0., 0., 0., 0.,\n",
              "         0., 0., 0., 0.],\n",
              "        [0., 0., 0., 0., 0., 0., 0., 0., 0., 0., 0., 1., 0., 0., 0., 0.,\n",
              "         0., 0., 0., 0.],\n",
              "        [0., 0., 0., 0., 0., 0., 0., 0., 0., 0., 0., 1., 0., 0., 0., 0.,\n",
              "         0., 0., 0., 0.],\n",
              "        [0., 0., 0., 0., 0., 0., 0., 0., 0., 0., 0., 1., 0., 0., 0., 0.,\n",
              "         0., 0., 0., 0.],\n",
              "        [0., 0., 0., 0., 0., 0., 0., 0., 0., 0., 0., 1., 0., 0., 0., 0.,\n",
              "         0., 0., 0., 0.],\n",
              "        [0., 0., 0., 0., 0., 0., 0., 0., 0., 0., 0., 1., 0., 0., 0., 0.,\n",
              "         0., 0., 0., 0.],\n",
              "        [0., 0., 0., 0., 0., 0., 0., 0., 0., 0., 0., 1., 0., 0., 0., 0.,\n",
              "         0., 0., 0., 0.],\n",
              "        [0., 0., 0., 0., 0., 0., 0., 0., 0., 0., 0., 1., 0., 0., 0., 0.,\n",
              "         0., 0., 0., 0.],\n",
              "        [0., 0., 0., 0., 0., 0., 0., 0., 0., 0., 0., 1., 0., 0., 0., 0.,\n",
              "         0., 0., 0., 0.],\n",
              "        [0., 0., 0., 0., 0., 0., 0., 0., 0., 0., 1., 0., 0., 0., 0., 0.,\n",
              "         0., 0., 0., 0.],\n",
              "        [0., 0., 0., 0., 0., 0., 0., 0., 0., 0., 1., 0., 0., 0., 0., 0.,\n",
              "         0., 0., 0., 0.],\n",
              "        [0., 0., 0., 0., 0., 0., 0., 0., 0., 0., 1., 0., 0., 0., 0., 0.,\n",
              "         0., 0., 0., 0.],\n",
              "        [0., 0., 0., 0., 0., 0., 0., 0., 0., 0., 1., 0., 0., 0., 0., 0.,\n",
              "         0., 0., 0., 0.],\n",
              "        [0., 0., 0., 0., 0., 0., 0., 0., 0., 0., 1., 0., 0., 0., 0., 0.,\n",
              "         0., 0., 0., 0.],\n",
              "        [0., 0., 0., 0., 0., 0., 0., 0., 0., 0., 1., 0., 0., 0., 0., 0.,\n",
              "         0., 0., 0., 0.],\n",
              "        [0., 0., 0., 0., 0., 0., 0., 0., 0., 0., 1., 0., 0., 0., 0., 0.,\n",
              "         0., 0., 0., 0.],\n",
              "        [0., 0., 0., 0., 0., 0., 0., 0., 0., 0., 1., 0., 0., 0., 0., 0.,\n",
              "         0., 0., 0., 0.]], dtype=float32)>)"
            ]
          },
          "metadata": {},
          "execution_count": 98
        }
      ]
    },
    {
      "cell_type": "markdown",
      "source": [
        "![image.png](data:image/png;base64,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)\n",
        "\n",
        "1. Create a token-level model (similar to model_1)\n",
        "\n",
        "2. Create a character-level model (similar to model_3 with a slight modification to reflect the paper)\n",
        "\n",
        "3. Create a \"line_number\" model (takes in one-hot-encoded \"line_number\" tensor and passes it through a non-linear layer)\n",
        "\n",
        "4. Create a \"total_lines\" model (takes in one-hot-encoded \"total_lines\" tensor and passes it through a non-linear layer)\n",
        "\n",
        "5. Combine (using layers.Concatenate) the outputs of 1 and 2 into a token-character-hybrid embedding and pass it series of output to Figure 1 and section 4.2 of Neural Networks for Joint Sentence Classification in Medical Paper Abstracts\n",
        "6. Combine (using layers.Concatenate) the outputs of 3, 4 and 5 into a token-character-positional tribrid embedding\n",
        "7. Create an output layer to accept the tribrid embedding and output predicted label probabilities\n",
        "8. Combine the inputs of 1, 2, 3, 4 and outputs of 7 into a tf.keras.Model"
      ],
      "metadata": {
        "id": "xQbCoIeelKMC"
      }
    },
    {
      "cell_type": "code",
      "source": [
        "import tensorflow as tf\n",
        "from tensorflow import keras\n",
        "from tensorflow.keras import layers\n",
        "import tensorflow_hub as hub\n",
        "\n",
        "class USEWrapper(layers.Layer):\n",
        "    def __init__(self, **kwargs):\n",
        "        super(USEWrapper, self).__init__(**kwargs)\n",
        "        self.use = hub.load(\"https://tfhub.dev/google/universal-sentence-encoder/4\")\n",
        "\n",
        "    def call(self, inputs):\n",
        "        return self.use(inputs)\n",
        "\n",
        "# Step 2: Token-level input model\n",
        "token_inputs = layers.Input(shape=[], dtype=tf.string, name=\"token_input\")\n",
        "token_embedding = USEWrapper(name=\"use_layer\")(token_inputs)\n",
        "token_outputs = layers.Dense(128, activation=\"relu\")(token_embedding)\n",
        "token_model = tf.keras.Model(inputs=token_inputs, outputs=token_outputs)\n",
        "\n",
        "#2. char inputs\n",
        "char_inputs=layers.Input(shape=(1,),dtype=\"string\",name=\"char_inputs\")\n",
        "char_vectors=char_vectorizer(char_inputs)\n",
        "char_embed=char_embedding(char_vectors)\n",
        "char_bi_lstm=layers.Bidirectional(layers.LSTM(32))(char_embed)\n",
        "char_model=tf.keras.Model(inputs=char_inputs,outputs=char_bi_lstm)\n",
        "\n",
        "#3. Line number inputs\n",
        "line_number_inputs=layers.Input(shape=(15,),dtype=tf.int32,name=\"line_number_input\")\n",
        "x=layers.Dense(32,activation=\"relu\")(line_number_inputs)\n",
        "line_number_model=tf.keras.Model(inputs=line_number_inputs, outputs=x)\n",
        "\n",
        "#4 total line inputs\n",
        "total_lines=layers.Input(shape=(20,),dtype=tf.int32,name=\"total_lines_input\")\n",
        "y=layers.Dense(32,activation=\"relu\")(total_lines)\n",
        "total_lines_model=tf.keras.Model(inputs=total_lines,outputs=y)\n",
        "\n",
        "# 5. combine token and char embedding into a hybrid embedding\n",
        "combined_embedding=layers.Concatenate(name=\"token_char_hybrid_embedding\")([token_model.output,char_model.output])\n",
        "z=layers.Dense(256,activation=\"relu\")(combined_embedding)\n",
        "z=layers.Dropout(0.5)(z)\n",
        "#6. combine positional embedding with the combined char and token embedding\n",
        "z=layers.Concatenate(name=\"tokan_char_and_positional_embed\")([line_number_model.output,total_lines_model.output, z])\n",
        "\n",
        "#7, create output layer\n",
        "output_layer=layers.Dense(5,activation=\"relu\",name=\"output_layer\")(z)\n",
        "\n",
        "#8 put together model\n",
        "model_5=tf.keras.Model(inputs=[line_number_model.input,\n",
        "                               total_lines_model.input,\n",
        "                               token_model.input,\n",
        "                               char_model.input\n",
        "                               ],\n",
        "                       outputs=output_layer)\n",
        "model_5.summary()"
      ],
      "metadata": {
        "colab": {
          "base_uri": "https://localhost:8080/",
          "height": 839
        },
        "id": "zuQAuBfpgW5X",
        "outputId": "f52745f1-86a7-4850-e352-0f36387dfe3c"
      },
      "execution_count": 99,
      "outputs": [
        {
          "output_type": "display_data",
          "data": {
            "text/plain": [
              "\u001b[1mModel: \"functional_7\"\u001b[0m\n"
            ],
            "text/html": [
              "<pre style=\"white-space:pre;overflow-x:auto;line-height:normal;font-family:Menlo,'DejaVu Sans Mono',consolas,'Courier New',monospace\"><span style=\"font-weight: bold\">Model: \"functional_7\"</span>\n",
              "</pre>\n"
            ]
          },
          "metadata": {}
        },
        {
          "output_type": "display_data",
          "data": {
            "text/plain": [
              "┏━━━━━━━━━━━━━━━━━━━━━┳━━━━━━━━━━━━━━━━━━━┳━━━━━━━━━━━━┳━━━━━━━━━━━━━━━━━━━┓\n",
              "┃\u001b[1m \u001b[0m\u001b[1mLayer (type)       \u001b[0m\u001b[1m \u001b[0m┃\u001b[1m \u001b[0m\u001b[1mOutput Shape     \u001b[0m\u001b[1m \u001b[0m┃\u001b[1m \u001b[0m\u001b[1m   Param #\u001b[0m\u001b[1m \u001b[0m┃\u001b[1m \u001b[0m\u001b[1mConnected to     \u001b[0m\u001b[1m \u001b[0m┃\n",
              "┡━━━━━━━━━━━━━━━━━━━━━╇━━━━━━━━━━━━━━━━━━━╇━━━━━━━━━━━━╇━━━━━━━━━━━━━━━━━━━┩\n",
              "│ char_inputs         │ (\u001b[38;5;45mNone\u001b[0m, \u001b[38;5;34m1\u001b[0m)         │          \u001b[38;5;34m0\u001b[0m │ -                 │\n",
              "│ (\u001b[38;5;33mInputLayer\u001b[0m)        │                   │            │                   │\n",
              "├─────────────────────┼───────────────────┼────────────┼───────────────────┤\n",
              "│ token_input         │ (\u001b[38;5;45mNone\u001b[0m)            │          \u001b[38;5;34m0\u001b[0m │ -                 │\n",
              "│ (\u001b[38;5;33mInputLayer\u001b[0m)        │                   │            │                   │\n",
              "├─────────────────────┼───────────────────┼────────────┼───────────────────┤\n",
              "│ char_vectorizer     │ (\u001b[38;5;45mNone\u001b[0m, \u001b[38;5;34m290\u001b[0m)       │          \u001b[38;5;34m0\u001b[0m │ char_inputs[\u001b[38;5;34m0\u001b[0m][\u001b[38;5;34m0\u001b[0m] │\n",
              "│ (\u001b[38;5;33mTextVectorization\u001b[0m) │                   │            │                   │\n",
              "├─────────────────────┼───────────────────┼────────────┼───────────────────┤\n",
              "│ use_layer           │ (\u001b[38;5;45mNone\u001b[0m, \u001b[38;5;34m512\u001b[0m)       │          \u001b[38;5;34m0\u001b[0m │ token_input[\u001b[38;5;34m0\u001b[0m][\u001b[38;5;34m0\u001b[0m] │\n",
              "│ (\u001b[38;5;33mUSEWrapper\u001b[0m)        │                   │            │                   │\n",
              "├─────────────────────┼───────────────────┼────────────┼───────────────────┤\n",
              "│ char_embedding      │ (\u001b[38;5;45mNone\u001b[0m, \u001b[38;5;34m290\u001b[0m, \u001b[38;5;34m25\u001b[0m)   │      \u001b[38;5;34m1,750\u001b[0m │ char_vectorizer[\u001b[38;5;34m…\u001b[0m │\n",
              "│ (\u001b[38;5;33mEmbedding\u001b[0m)         │                   │            │                   │\n",
              "├─────────────────────┼───────────────────┼────────────┼───────────────────┤\n",
              "│ dense_7 (\u001b[38;5;33mDense\u001b[0m)     │ (\u001b[38;5;45mNone\u001b[0m, \u001b[38;5;34m128\u001b[0m)       │     \u001b[38;5;34m65,664\u001b[0m │ use_layer[\u001b[38;5;34m0\u001b[0m][\u001b[38;5;34m0\u001b[0m]   │\n",
              "├─────────────────────┼───────────────────┼────────────┼───────────────────┤\n",
              "│ bidirectional_1     │ (\u001b[38;5;45mNone\u001b[0m, \u001b[38;5;34m64\u001b[0m)        │     \u001b[38;5;34m14,848\u001b[0m │ char_embedding[\u001b[38;5;34m2\u001b[0m… │\n",
              "│ (\u001b[38;5;33mBidirectional\u001b[0m)     │                   │            │                   │\n",
              "├─────────────────────┼───────────────────┼────────────┼───────────────────┤\n",
              "│ token_char_hybrid_… │ (\u001b[38;5;45mNone\u001b[0m, \u001b[38;5;34m192\u001b[0m)       │          \u001b[38;5;34m0\u001b[0m │ dense_7[\u001b[38;5;34m0\u001b[0m][\u001b[38;5;34m0\u001b[0m],    │\n",
              "│ (\u001b[38;5;33mConcatenate\u001b[0m)       │                   │            │ bidirectional_1[\u001b[38;5;34m…\u001b[0m │\n",
              "├─────────────────────┼───────────────────┼────────────┼───────────────────┤\n",
              "│ line_number_input   │ (\u001b[38;5;45mNone\u001b[0m, \u001b[38;5;34m15\u001b[0m)        │          \u001b[38;5;34m0\u001b[0m │ -                 │\n",
              "│ (\u001b[38;5;33mInputLayer\u001b[0m)        │                   │            │                   │\n",
              "├─────────────────────┼───────────────────┼────────────┼───────────────────┤\n",
              "│ total_lines_input   │ (\u001b[38;5;45mNone\u001b[0m, \u001b[38;5;34m20\u001b[0m)        │          \u001b[38;5;34m0\u001b[0m │ -                 │\n",
              "│ (\u001b[38;5;33mInputLayer\u001b[0m)        │                   │            │                   │\n",
              "├─────────────────────┼───────────────────┼────────────┼───────────────────┤\n",
              "│ dense_10 (\u001b[38;5;33mDense\u001b[0m)    │ (\u001b[38;5;45mNone\u001b[0m, \u001b[38;5;34m256\u001b[0m)       │     \u001b[38;5;34m49,408\u001b[0m │ token_char_hybri… │\n",
              "├─────────────────────┼───────────────────┼────────────┼───────────────────┤\n",
              "│ dense_8 (\u001b[38;5;33mDense\u001b[0m)     │ (\u001b[38;5;45mNone\u001b[0m, \u001b[38;5;34m32\u001b[0m)        │        \u001b[38;5;34m512\u001b[0m │ line_number_inpu… │\n",
              "├─────────────────────┼───────────────────┼────────────┼───────────────────┤\n",
              "│ dense_9 (\u001b[38;5;33mDense\u001b[0m)     │ (\u001b[38;5;45mNone\u001b[0m, \u001b[38;5;34m32\u001b[0m)        │        \u001b[38;5;34m672\u001b[0m │ total_lines_inpu… │\n",
              "├─────────────────────┼───────────────────┼────────────┼───────────────────┤\n",
              "│ dropout_2 (\u001b[38;5;33mDropout\u001b[0m) │ (\u001b[38;5;45mNone\u001b[0m, \u001b[38;5;34m256\u001b[0m)       │          \u001b[38;5;34m0\u001b[0m │ dense_10[\u001b[38;5;34m0\u001b[0m][\u001b[38;5;34m0\u001b[0m]    │\n",
              "├─────────────────────┼───────────────────┼────────────┼───────────────────┤\n",
              "│ tokan_char_and_pos… │ (\u001b[38;5;45mNone\u001b[0m, \u001b[38;5;34m320\u001b[0m)       │          \u001b[38;5;34m0\u001b[0m │ dense_8[\u001b[38;5;34m0\u001b[0m][\u001b[38;5;34m0\u001b[0m],    │\n",
              "│ (\u001b[38;5;33mConcatenate\u001b[0m)       │                   │            │ dense_9[\u001b[38;5;34m0\u001b[0m][\u001b[38;5;34m0\u001b[0m],    │\n",
              "│                     │                   │            │ dropout_2[\u001b[38;5;34m0\u001b[0m][\u001b[38;5;34m0\u001b[0m]   │\n",
              "├─────────────────────┼───────────────────┼────────────┼───────────────────┤\n",
              "│ output_layer        │ (\u001b[38;5;45mNone\u001b[0m, \u001b[38;5;34m5\u001b[0m)         │      \u001b[38;5;34m1,605\u001b[0m │ tokan_char_and_p… │\n",
              "│ (\u001b[38;5;33mDense\u001b[0m)             │                   │            │                   │\n",
              "└─────────────────────┴───────────────────┴────────────┴───────────────────┘\n"
            ],
            "text/html": [
              "<pre style=\"white-space:pre;overflow-x:auto;line-height:normal;font-family:Menlo,'DejaVu Sans Mono',consolas,'Courier New',monospace\">┏━━━━━━━━━━━━━━━━━━━━━┳━━━━━━━━━━━━━━━━━━━┳━━━━━━━━━━━━┳━━━━━━━━━━━━━━━━━━━┓\n",
              "┃<span style=\"font-weight: bold\"> Layer (type)        </span>┃<span style=\"font-weight: bold\"> Output Shape      </span>┃<span style=\"font-weight: bold\">    Param # </span>┃<span style=\"font-weight: bold\"> Connected to      </span>┃\n",
              "┡━━━━━━━━━━━━━━━━━━━━━╇━━━━━━━━━━━━━━━━━━━╇━━━━━━━━━━━━╇━━━━━━━━━━━━━━━━━━━┩\n",
              "│ char_inputs         │ (<span style=\"color: #00d7ff; text-decoration-color: #00d7ff\">None</span>, <span style=\"color: #00af00; text-decoration-color: #00af00\">1</span>)         │          <span style=\"color: #00af00; text-decoration-color: #00af00\">0</span> │ -                 │\n",
              "│ (<span style=\"color: #0087ff; text-decoration-color: #0087ff\">InputLayer</span>)        │                   │            │                   │\n",
              "├─────────────────────┼───────────────────┼────────────┼───────────────────┤\n",
              "│ token_input         │ (<span style=\"color: #00d7ff; text-decoration-color: #00d7ff\">None</span>)            │          <span style=\"color: #00af00; text-decoration-color: #00af00\">0</span> │ -                 │\n",
              "│ (<span style=\"color: #0087ff; text-decoration-color: #0087ff\">InputLayer</span>)        │                   │            │                   │\n",
              "├─────────────────────┼───────────────────┼────────────┼───────────────────┤\n",
              "│ char_vectorizer     │ (<span style=\"color: #00d7ff; text-decoration-color: #00d7ff\">None</span>, <span style=\"color: #00af00; text-decoration-color: #00af00\">290</span>)       │          <span style=\"color: #00af00; text-decoration-color: #00af00\">0</span> │ char_inputs[<span style=\"color: #00af00; text-decoration-color: #00af00\">0</span>][<span style=\"color: #00af00; text-decoration-color: #00af00\">0</span>] │\n",
              "│ (<span style=\"color: #0087ff; text-decoration-color: #0087ff\">TextVectorization</span>) │                   │            │                   │\n",
              "├─────────────────────┼───────────────────┼────────────┼───────────────────┤\n",
              "│ use_layer           │ (<span style=\"color: #00d7ff; text-decoration-color: #00d7ff\">None</span>, <span style=\"color: #00af00; text-decoration-color: #00af00\">512</span>)       │          <span style=\"color: #00af00; text-decoration-color: #00af00\">0</span> │ token_input[<span style=\"color: #00af00; text-decoration-color: #00af00\">0</span>][<span style=\"color: #00af00; text-decoration-color: #00af00\">0</span>] │\n",
              "│ (<span style=\"color: #0087ff; text-decoration-color: #0087ff\">USEWrapper</span>)        │                   │            │                   │\n",
              "├─────────────────────┼───────────────────┼────────────┼───────────────────┤\n",
              "│ char_embedding      │ (<span style=\"color: #00d7ff; text-decoration-color: #00d7ff\">None</span>, <span style=\"color: #00af00; text-decoration-color: #00af00\">290</span>, <span style=\"color: #00af00; text-decoration-color: #00af00\">25</span>)   │      <span style=\"color: #00af00; text-decoration-color: #00af00\">1,750</span> │ char_vectorizer[<span style=\"color: #00af00; text-decoration-color: #00af00\">…</span> │\n",
              "│ (<span style=\"color: #0087ff; text-decoration-color: #0087ff\">Embedding</span>)         │                   │            │                   │\n",
              "├─────────────────────┼───────────────────┼────────────┼───────────────────┤\n",
              "│ dense_7 (<span style=\"color: #0087ff; text-decoration-color: #0087ff\">Dense</span>)     │ (<span style=\"color: #00d7ff; text-decoration-color: #00d7ff\">None</span>, <span style=\"color: #00af00; text-decoration-color: #00af00\">128</span>)       │     <span style=\"color: #00af00; text-decoration-color: #00af00\">65,664</span> │ use_layer[<span style=\"color: #00af00; text-decoration-color: #00af00\">0</span>][<span style=\"color: #00af00; text-decoration-color: #00af00\">0</span>]   │\n",
              "├─────────────────────┼───────────────────┼────────────┼───────────────────┤\n",
              "│ bidirectional_1     │ (<span style=\"color: #00d7ff; text-decoration-color: #00d7ff\">None</span>, <span style=\"color: #00af00; text-decoration-color: #00af00\">64</span>)        │     <span style=\"color: #00af00; text-decoration-color: #00af00\">14,848</span> │ char_embedding[<span style=\"color: #00af00; text-decoration-color: #00af00\">2</span>… │\n",
              "│ (<span style=\"color: #0087ff; text-decoration-color: #0087ff\">Bidirectional</span>)     │                   │            │                   │\n",
              "├─────────────────────┼───────────────────┼────────────┼───────────────────┤\n",
              "│ token_char_hybrid_… │ (<span style=\"color: #00d7ff; text-decoration-color: #00d7ff\">None</span>, <span style=\"color: #00af00; text-decoration-color: #00af00\">192</span>)       │          <span style=\"color: #00af00; text-decoration-color: #00af00\">0</span> │ dense_7[<span style=\"color: #00af00; text-decoration-color: #00af00\">0</span>][<span style=\"color: #00af00; text-decoration-color: #00af00\">0</span>],    │\n",
              "│ (<span style=\"color: #0087ff; text-decoration-color: #0087ff\">Concatenate</span>)       │                   │            │ bidirectional_1[<span style=\"color: #00af00; text-decoration-color: #00af00\">…</span> │\n",
              "├─────────────────────┼───────────────────┼────────────┼───────────────────┤\n",
              "│ line_number_input   │ (<span style=\"color: #00d7ff; text-decoration-color: #00d7ff\">None</span>, <span style=\"color: #00af00; text-decoration-color: #00af00\">15</span>)        │          <span style=\"color: #00af00; text-decoration-color: #00af00\">0</span> │ -                 │\n",
              "│ (<span style=\"color: #0087ff; text-decoration-color: #0087ff\">InputLayer</span>)        │                   │            │                   │\n",
              "├─────────────────────┼───────────────────┼────────────┼───────────────────┤\n",
              "│ total_lines_input   │ (<span style=\"color: #00d7ff; text-decoration-color: #00d7ff\">None</span>, <span style=\"color: #00af00; text-decoration-color: #00af00\">20</span>)        │          <span style=\"color: #00af00; text-decoration-color: #00af00\">0</span> │ -                 │\n",
              "│ (<span style=\"color: #0087ff; text-decoration-color: #0087ff\">InputLayer</span>)        │                   │            │                   │\n",
              "├─────────────────────┼───────────────────┼────────────┼───────────────────┤\n",
              "│ dense_10 (<span style=\"color: #0087ff; text-decoration-color: #0087ff\">Dense</span>)    │ (<span style=\"color: #00d7ff; text-decoration-color: #00d7ff\">None</span>, <span style=\"color: #00af00; text-decoration-color: #00af00\">256</span>)       │     <span style=\"color: #00af00; text-decoration-color: #00af00\">49,408</span> │ token_char_hybri… │\n",
              "├─────────────────────┼───────────────────┼────────────┼───────────────────┤\n",
              "│ dense_8 (<span style=\"color: #0087ff; text-decoration-color: #0087ff\">Dense</span>)     │ (<span style=\"color: #00d7ff; text-decoration-color: #00d7ff\">None</span>, <span style=\"color: #00af00; text-decoration-color: #00af00\">32</span>)        │        <span style=\"color: #00af00; text-decoration-color: #00af00\">512</span> │ line_number_inpu… │\n",
              "├─────────────────────┼───────────────────┼────────────┼───────────────────┤\n",
              "│ dense_9 (<span style=\"color: #0087ff; text-decoration-color: #0087ff\">Dense</span>)     │ (<span style=\"color: #00d7ff; text-decoration-color: #00d7ff\">None</span>, <span style=\"color: #00af00; text-decoration-color: #00af00\">32</span>)        │        <span style=\"color: #00af00; text-decoration-color: #00af00\">672</span> │ total_lines_inpu… │\n",
              "├─────────────────────┼───────────────────┼────────────┼───────────────────┤\n",
              "│ dropout_2 (<span style=\"color: #0087ff; text-decoration-color: #0087ff\">Dropout</span>) │ (<span style=\"color: #00d7ff; text-decoration-color: #00d7ff\">None</span>, <span style=\"color: #00af00; text-decoration-color: #00af00\">256</span>)       │          <span style=\"color: #00af00; text-decoration-color: #00af00\">0</span> │ dense_10[<span style=\"color: #00af00; text-decoration-color: #00af00\">0</span>][<span style=\"color: #00af00; text-decoration-color: #00af00\">0</span>]    │\n",
              "├─────────────────────┼───────────────────┼────────────┼───────────────────┤\n",
              "│ tokan_char_and_pos… │ (<span style=\"color: #00d7ff; text-decoration-color: #00d7ff\">None</span>, <span style=\"color: #00af00; text-decoration-color: #00af00\">320</span>)       │          <span style=\"color: #00af00; text-decoration-color: #00af00\">0</span> │ dense_8[<span style=\"color: #00af00; text-decoration-color: #00af00\">0</span>][<span style=\"color: #00af00; text-decoration-color: #00af00\">0</span>],    │\n",
              "│ (<span style=\"color: #0087ff; text-decoration-color: #0087ff\">Concatenate</span>)       │                   │            │ dense_9[<span style=\"color: #00af00; text-decoration-color: #00af00\">0</span>][<span style=\"color: #00af00; text-decoration-color: #00af00\">0</span>],    │\n",
              "│                     │                   │            │ dropout_2[<span style=\"color: #00af00; text-decoration-color: #00af00\">0</span>][<span style=\"color: #00af00; text-decoration-color: #00af00\">0</span>]   │\n",
              "├─────────────────────┼───────────────────┼────────────┼───────────────────┤\n",
              "│ output_layer        │ (<span style=\"color: #00d7ff; text-decoration-color: #00d7ff\">None</span>, <span style=\"color: #00af00; text-decoration-color: #00af00\">5</span>)         │      <span style=\"color: #00af00; text-decoration-color: #00af00\">1,605</span> │ tokan_char_and_p… │\n",
              "│ (<span style=\"color: #0087ff; text-decoration-color: #0087ff\">Dense</span>)             │                   │            │                   │\n",
              "└─────────────────────┴───────────────────┴────────────┴───────────────────┘\n",
              "</pre>\n"
            ]
          },
          "metadata": {}
        },
        {
          "output_type": "display_data",
          "data": {
            "text/plain": [
              "\u001b[1m Total params: \u001b[0m\u001b[38;5;34m134,459\u001b[0m (525.23 KB)\n"
            ],
            "text/html": [
              "<pre style=\"white-space:pre;overflow-x:auto;line-height:normal;font-family:Menlo,'DejaVu Sans Mono',consolas,'Courier New',monospace\"><span style=\"font-weight: bold\"> Total params: </span><span style=\"color: #00af00; text-decoration-color: #00af00\">134,459</span> (525.23 KB)\n",
              "</pre>\n"
            ]
          },
          "metadata": {}
        },
        {
          "output_type": "display_data",
          "data": {
            "text/plain": [
              "\u001b[1m Trainable params: \u001b[0m\u001b[38;5;34m134,459\u001b[0m (525.23 KB)\n"
            ],
            "text/html": [
              "<pre style=\"white-space:pre;overflow-x:auto;line-height:normal;font-family:Menlo,'DejaVu Sans Mono',consolas,'Courier New',monospace\"><span style=\"font-weight: bold\"> Trainable params: </span><span style=\"color: #00af00; text-decoration-color: #00af00\">134,459</span> (525.23 KB)\n",
              "</pre>\n"
            ]
          },
          "metadata": {}
        },
        {
          "output_type": "display_data",
          "data": {
            "text/plain": [
              "\u001b[1m Non-trainable params: \u001b[0m\u001b[38;5;34m0\u001b[0m (0.00 B)\n"
            ],
            "text/html": [
              "<pre style=\"white-space:pre;overflow-x:auto;line-height:normal;font-family:Menlo,'DejaVu Sans Mono',consolas,'Courier New',monospace\"><span style=\"font-weight: bold\"> Non-trainable params: </span><span style=\"color: #00af00; text-decoration-color: #00af00\">0</span> (0.00 B)\n",
              "</pre>\n"
            ]
          },
          "metadata": {}
        }
      ]
    },
    {
      "cell_type": "code",
      "source": [
        "from tensorflow.keras.utils import plot_model\n",
        "plot_model(model_5)\n"
      ],
      "metadata": {
        "colab": {
          "base_uri": "https://localhost:8080/",
          "height": 1000
        },
        "id": "GxFRhV6Gzekg",
        "outputId": "ccf33eab-6e3e-4ef2-e5a3-d527ea632dab"
      },
      "execution_count": 100,
      "outputs": [
        {
          "output_type": "execute_result",
          "data": {
            "image/png": "[encoded data removed]",
            "text/plain": [
              "<IPython.core.display.Image object>"
            ]
          },
          "metadata": {},
          "execution_count": 100
        }
      ]
    },
    {
      "cell_type": "code",
      "source": [
        "# Compile\n",
        "model_5.compile(loss=tf.keras.losses.CategoricalCrossentropy(label_smoothing=0.2),\n",
        "                optimizer=tf.keras.optimizers.Adam(),\n",
        "                metrics=[\"accuracy\"])"
      ],
      "metadata": {
        "id": "Sc6Wx0lQ-FQv"
      },
      "execution_count": 101,
      "outputs": []
    },
    {
      "cell_type": "code",
      "source": [
        "# create a tribrid embedding dataset\n",
        "# create a training and validation dataset\n",
        "train_char_token_position_data=tf.data.Dataset.from_tensor_slices((train_line_number_one_hot,\n",
        "                                                                     train_total_lines_one_hot,\n",
        "                                                                     train_chars,\n",
        "                                                                     train_sentences))\n",
        "train_char_token_position_labels=tf.data.Dataset.from_tensor_slices(train_labels_one_hot)\n",
        "train_char_token_position_dataset=tf.data.Dataset.zip(train_char_token_position_data,train_char_token_position_labels)\n",
        "train_char_token_position_dataset=train_char_token_position_dataset.batch(32).prefetch(tf.data.AUTOTUNE)\n",
        "\n",
        "# validation dataset\n",
        "\n",
        "val_char_token_position_data=tf.data.Dataset.from_tensor_slices((val_line_number_one_hot,\n",
        "                                                                 val_total_lines_one_hot,\n",
        "                                                                 val_chars,\n",
        "                                                                 validation_sentences))\n",
        "val_char_token_position_labels=tf.data.Dataset.from_tensor_slices(validation_labels_one_hot)\n",
        "val_char_token_position_dataset=tf.data.Dataset.zip(val_char_token_position_data,val_char_token_position_labels)\n",
        "val_char_token_position_dataset=val_char_token_position_dataset.batch(32).prefetch(tf.data.AUTOTUNE)\n",
        "\n",
        "train_char_token_position_dataset, val_char_token_position_dataset"
      ],
      "metadata": {
        "colab": {
          "base_uri": "https://localhost:8080/"
        },
        "id": "-LcxJ2YUA0At",
        "outputId": "9d3b6e61-6c98-4d2d-99b5-42e67c59138c"
      },
      "execution_count": 102,
      "outputs": [
        {
          "output_type": "execute_result",
          "data": {
            "text/plain": [
              "(<_PrefetchDataset element_spec=((TensorSpec(shape=(None, 15), dtype=tf.float32, name=None), TensorSpec(shape=(None, 20), dtype=tf.float32, name=None), TensorSpec(shape=(None,), dtype=tf.string, name=None), TensorSpec(shape=(None,), dtype=tf.string, name=None)), TensorSpec(shape=(None, 5), dtype=tf.float64, name=None))>,\n",
              " <_PrefetchDataset element_spec=((TensorSpec(shape=(None, 15), dtype=tf.float32, name=None), TensorSpec(shape=(None, 20), dtype=tf.float32, name=None), TensorSpec(shape=(None,), dtype=tf.string, name=None), TensorSpec(shape=(None,), dtype=tf.string, name=None)), TensorSpec(shape=(None, 5), dtype=tf.float64, name=None))>)"
            ]
          },
          "metadata": {},
          "execution_count": 102
        }
      ]
    },
    {
      "cell_type": "code",
      "source": [
        "model_5_history=model_5.fit(train_char_token_position_dataset,\n",
        "                            epochs=3,\n",
        "                            steps_per_epoch=int(0.1*len(train_char_token_position_dataset)),\n",
        "                            validation_data=val_char_token_position_dataset,\n",
        "                            validation_steps=int(0.1*len(val_char_token_position_dataset)))"
      ],
      "metadata": {
        "colab": {
          "base_uri": "https://localhost:8080/"
        },
        "id": "OnEj1T1XG-kd",
        "outputId": "34f1b3f2-b28f-435c-f1ea-102dd962f77c"
      },
      "execution_count": 108,
      "outputs": [
        {
          "output_type": "stream",
          "name": "stdout",
          "text": [
            "Epoch 1/3\n",
            "\u001b[1m562/562\u001b[0m \u001b[32m━━━━━━━━━━━━━━━━━━━━\u001b[0m\u001b[37m\u001b[0m \u001b[1m152s\u001b[0m 271ms/step - accuracy: 0.6878 - loss: 1.1048 - val_accuracy: 0.7104 - val_loss: 1.0749\n",
            "Epoch 2/3\n",
            "\u001b[1m562/562\u001b[0m \u001b[32m━━━━━━━━━━━━━━━━━━━━\u001b[0m\u001b[37m\u001b[0m \u001b[1m135s\u001b[0m 241ms/step - accuracy: 0.7021 - loss: 1.0913 - val_accuracy: 0.7178 - val_loss: 1.0763\n",
            "Epoch 3/3\n",
            "\u001b[1m562/562\u001b[0m \u001b[32m━━━━━━━━━━━━━━━━━━━━\u001b[0m\u001b[37m\u001b[0m \u001b[1m134s\u001b[0m 239ms/step - accuracy: 0.6927 - loss: 1.1062 - val_accuracy: 0.7164 - val_loss: 1.0944\n"
          ]
        }
      ]
    },
    {
      "cell_type": "code",
      "source": [
        "model_5_pred=model_5.predict(val_char_token_position_dataset)\n",
        "model_5_pred"
      ],
      "metadata": {
        "colab": {
          "base_uri": "https://localhost:8080/"
        },
        "id": "AY1KQP5mMNJY",
        "outputId": "245f5621-eaf2-4bda-aa92-465535c5f0ef"
      },
      "execution_count": 109,
      "outputs": [
        {
          "output_type": "stream",
          "name": "stdout",
          "text": [
            "\u001b[1m945/945\u001b[0m \u001b[32m━━━━━━━━━━━━━━━━━━━━\u001b[0m\u001b[37m\u001b[0m \u001b[1m69s\u001b[0m 73ms/step\n"
          ]
        },
        {
          "output_type": "execute_result",
          "data": {
            "text/plain": [
              "array([[1.2680327 , 0.21142101, 0.12245645, 1.2323706 , 0.13467413],\n",
              "       [1.2489153 , 0.20872489, 0.9751613 , 0.8943976 , 0.6818451 ],\n",
              "       [0.7067992 , 0.19303396, 1.5393231 , 0.51285887, 0.18482263],\n",
              "       ...,\n",
              "       [0.20069443, 0.61119324, 0.16284005, 0.10178209, 0.44060373],\n",
              "       [0.13910866, 0.736888  , 0.169529  , 0.05068796, 0.2206911 ],\n",
              "       [0.18407656, 0.91453207, 0.22548495, 0.06216297, 0.21985509]],\n",
              "      dtype=float32)"
            ]
          },
          "metadata": {},
          "execution_count": 109
        }
      ]
    },
    {
      "cell_type": "code",
      "source": [
        "model_5_class=tf.argmax(model_5_pred,axis=1)\n",
        "model_5_class"
      ],
      "metadata": {
        "colab": {
          "base_uri": "https://localhost:8080/"
        },
        "id": "fCSau0N1Ndaw",
        "outputId": "cdc99738-471e-48e7-f6e2-9f8ef6ac9a10"
      },
      "execution_count": 110,
      "outputs": [
        {
          "output_type": "execute_result",
          "data": {
            "text/plain": [
              "<tf.Tensor: shape=(30212,), dtype=int64, numpy=array([0, 0, 2, ..., 1, 1, 1])>"
            ]
          },
          "metadata": {},
          "execution_count": 110
        }
      ]
    },
    {
      "cell_type": "code",
      "source": [
        "# get the results\n",
        "model_5_results=calculate_results(validation_labels,\n",
        "                                  model_5_class)\n",
        "model_5_results"
      ],
      "metadata": {
        "colab": {
          "base_uri": "https://localhost:8080/"
        },
        "id": "8XKSh4lFNqLu",
        "outputId": "5d099e36-3341-4e62-b5f3-b8172309b0ef"
      },
      "execution_count": 111,
      "outputs": [
        {
          "output_type": "execute_result",
          "data": {
            "text/plain": [
              "{'accuracy': 71.56427909439958,\n",
              " 'precision': 0.711696284543572,\n",
              " 'recall': 0.7156427909439957,\n",
              " 'f1': 0.708953241451337}"
            ]
          },
          "metadata": {},
          "execution_count": 111
        }
      ]
    },
    {
      "cell_type": "code",
      "source": [
        "#Compare models"
      ],
      "metadata": {
        "id": "E5iFmLxmN7Tc"
      },
      "execution_count": 106,
      "outputs": []
    }
  ]
}